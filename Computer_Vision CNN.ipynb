{
  "nbformat": 4,
  "nbformat_minor": 0,
  "metadata": {
    "colab": {
      "provenance": [],
      "gpuType": "T4"
    },
    "kernelspec": {
      "name": "python3",
      "display_name": "Python 3"
    },
    "language_info": {
      "name": "python"
    },
    "accelerator": "GPU",
    "widgets": {
      "application/vnd.jupyter.widget-state+json": {
        "03d0aee4516d4a778a870f980d9d0d01": {
          "model_module": "@jupyter-widgets/controls",
          "model_name": "HBoxModel",
          "model_module_version": "1.5.0",
          "state": {
            "_dom_classes": [],
            "_model_module": "@jupyter-widgets/controls",
            "_model_module_version": "1.5.0",
            "_model_name": "HBoxModel",
            "_view_count": null,
            "_view_module": "@jupyter-widgets/controls",
            "_view_module_version": "1.5.0",
            "_view_name": "HBoxView",
            "box_style": "",
            "children": [
              "IPY_MODEL_f5db35039af742c6980da54b3246741a",
              "IPY_MODEL_4cf9c83a6699471898a0b1d529c5b3bc",
              "IPY_MODEL_82823c621e664613ad90eb794dd45c9b"
            ],
            "layout": "IPY_MODEL_b250a500c4cf4ea2910c24bfa1ee3040"
          }
        },
        "f5db35039af742c6980da54b3246741a": {
          "model_module": "@jupyter-widgets/controls",
          "model_name": "HTMLModel",
          "model_module_version": "1.5.0",
          "state": {
            "_dom_classes": [],
            "_model_module": "@jupyter-widgets/controls",
            "_model_module_version": "1.5.0",
            "_model_name": "HTMLModel",
            "_view_count": null,
            "_view_module": "@jupyter-widgets/controls",
            "_view_module_version": "1.5.0",
            "_view_name": "HTMLView",
            "description": "",
            "description_tooltip": null,
            "layout": "IPY_MODEL_862fedbfa3f04c119d4087583a372185",
            "placeholder": "​",
            "style": "IPY_MODEL_7a0eea6ac1d1437fa3fa5712c092f4f8",
            "value": "100%"
          }
        },
        "4cf9c83a6699471898a0b1d529c5b3bc": {
          "model_module": "@jupyter-widgets/controls",
          "model_name": "FloatProgressModel",
          "model_module_version": "1.5.0",
          "state": {
            "_dom_classes": [],
            "_model_module": "@jupyter-widgets/controls",
            "_model_module_version": "1.5.0",
            "_model_name": "FloatProgressModel",
            "_view_count": null,
            "_view_module": "@jupyter-widgets/controls",
            "_view_module_version": "1.5.0",
            "_view_name": "ProgressView",
            "bar_style": "success",
            "description": "",
            "description_tooltip": null,
            "layout": "IPY_MODEL_f5cddf040b5c41c3b38756035cf98886",
            "max": 3,
            "min": 0,
            "orientation": "horizontal",
            "style": "IPY_MODEL_a742328082604fd98518c875a25fa254",
            "value": 3
          }
        },
        "82823c621e664613ad90eb794dd45c9b": {
          "model_module": "@jupyter-widgets/controls",
          "model_name": "HTMLModel",
          "model_module_version": "1.5.0",
          "state": {
            "_dom_classes": [],
            "_model_module": "@jupyter-widgets/controls",
            "_model_module_version": "1.5.0",
            "_model_name": "HTMLModel",
            "_view_count": null,
            "_view_module": "@jupyter-widgets/controls",
            "_view_module_version": "1.5.0",
            "_view_name": "HTMLView",
            "description": "",
            "description_tooltip": null,
            "layout": "IPY_MODEL_1e58ca17b8c64585b00da4dee621f9a8",
            "placeholder": "​",
            "style": "IPY_MODEL_6b9e2b65f30f4189baa64feb2457dd9c",
            "value": " 3/3 [00:36&lt;00:00, 11.96s/it]"
          }
        },
        "b250a500c4cf4ea2910c24bfa1ee3040": {
          "model_module": "@jupyter-widgets/base",
          "model_name": "LayoutModel",
          "model_module_version": "1.2.0",
          "state": {
            "_model_module": "@jupyter-widgets/base",
            "_model_module_version": "1.2.0",
            "_model_name": "LayoutModel",
            "_view_count": null,
            "_view_module": "@jupyter-widgets/base",
            "_view_module_version": "1.2.0",
            "_view_name": "LayoutView",
            "align_content": null,
            "align_items": null,
            "align_self": null,
            "border": null,
            "bottom": null,
            "display": null,
            "flex": null,
            "flex_flow": null,
            "grid_area": null,
            "grid_auto_columns": null,
            "grid_auto_flow": null,
            "grid_auto_rows": null,
            "grid_column": null,
            "grid_gap": null,
            "grid_row": null,
            "grid_template_areas": null,
            "grid_template_columns": null,
            "grid_template_rows": null,
            "height": null,
            "justify_content": null,
            "justify_items": null,
            "left": null,
            "margin": null,
            "max_height": null,
            "max_width": null,
            "min_height": null,
            "min_width": null,
            "object_fit": null,
            "object_position": null,
            "order": null,
            "overflow": null,
            "overflow_x": null,
            "overflow_y": null,
            "padding": null,
            "right": null,
            "top": null,
            "visibility": null,
            "width": null
          }
        },
        "862fedbfa3f04c119d4087583a372185": {
          "model_module": "@jupyter-widgets/base",
          "model_name": "LayoutModel",
          "model_module_version": "1.2.0",
          "state": {
            "_model_module": "@jupyter-widgets/base",
            "_model_module_version": "1.2.0",
            "_model_name": "LayoutModel",
            "_view_count": null,
            "_view_module": "@jupyter-widgets/base",
            "_view_module_version": "1.2.0",
            "_view_name": "LayoutView",
            "align_content": null,
            "align_items": null,
            "align_self": null,
            "border": null,
            "bottom": null,
            "display": null,
            "flex": null,
            "flex_flow": null,
            "grid_area": null,
            "grid_auto_columns": null,
            "grid_auto_flow": null,
            "grid_auto_rows": null,
            "grid_column": null,
            "grid_gap": null,
            "grid_row": null,
            "grid_template_areas": null,
            "grid_template_columns": null,
            "grid_template_rows": null,
            "height": null,
            "justify_content": null,
            "justify_items": null,
            "left": null,
            "margin": null,
            "max_height": null,
            "max_width": null,
            "min_height": null,
            "min_width": null,
            "object_fit": null,
            "object_position": null,
            "order": null,
            "overflow": null,
            "overflow_x": null,
            "overflow_y": null,
            "padding": null,
            "right": null,
            "top": null,
            "visibility": null,
            "width": null
          }
        },
        "7a0eea6ac1d1437fa3fa5712c092f4f8": {
          "model_module": "@jupyter-widgets/controls",
          "model_name": "DescriptionStyleModel",
          "model_module_version": "1.5.0",
          "state": {
            "_model_module": "@jupyter-widgets/controls",
            "_model_module_version": "1.5.0",
            "_model_name": "DescriptionStyleModel",
            "_view_count": null,
            "_view_module": "@jupyter-widgets/base",
            "_view_module_version": "1.2.0",
            "_view_name": "StyleView",
            "description_width": ""
          }
        },
        "f5cddf040b5c41c3b38756035cf98886": {
          "model_module": "@jupyter-widgets/base",
          "model_name": "LayoutModel",
          "model_module_version": "1.2.0",
          "state": {
            "_model_module": "@jupyter-widgets/base",
            "_model_module_version": "1.2.0",
            "_model_name": "LayoutModel",
            "_view_count": null,
            "_view_module": "@jupyter-widgets/base",
            "_view_module_version": "1.2.0",
            "_view_name": "LayoutView",
            "align_content": null,
            "align_items": null,
            "align_self": null,
            "border": null,
            "bottom": null,
            "display": null,
            "flex": null,
            "flex_flow": null,
            "grid_area": null,
            "grid_auto_columns": null,
            "grid_auto_flow": null,
            "grid_auto_rows": null,
            "grid_column": null,
            "grid_gap": null,
            "grid_row": null,
            "grid_template_areas": null,
            "grid_template_columns": null,
            "grid_template_rows": null,
            "height": null,
            "justify_content": null,
            "justify_items": null,
            "left": null,
            "margin": null,
            "max_height": null,
            "max_width": null,
            "min_height": null,
            "min_width": null,
            "object_fit": null,
            "object_position": null,
            "order": null,
            "overflow": null,
            "overflow_x": null,
            "overflow_y": null,
            "padding": null,
            "right": null,
            "top": null,
            "visibility": null,
            "width": null
          }
        },
        "a742328082604fd98518c875a25fa254": {
          "model_module": "@jupyter-widgets/controls",
          "model_name": "ProgressStyleModel",
          "model_module_version": "1.5.0",
          "state": {
            "_model_module": "@jupyter-widgets/controls",
            "_model_module_version": "1.5.0",
            "_model_name": "ProgressStyleModel",
            "_view_count": null,
            "_view_module": "@jupyter-widgets/base",
            "_view_module_version": "1.2.0",
            "_view_name": "StyleView",
            "bar_color": null,
            "description_width": ""
          }
        },
        "1e58ca17b8c64585b00da4dee621f9a8": {
          "model_module": "@jupyter-widgets/base",
          "model_name": "LayoutModel",
          "model_module_version": "1.2.0",
          "state": {
            "_model_module": "@jupyter-widgets/base",
            "_model_module_version": "1.2.0",
            "_model_name": "LayoutModel",
            "_view_count": null,
            "_view_module": "@jupyter-widgets/base",
            "_view_module_version": "1.2.0",
            "_view_name": "LayoutView",
            "align_content": null,
            "align_items": null,
            "align_self": null,
            "border": null,
            "bottom": null,
            "display": null,
            "flex": null,
            "flex_flow": null,
            "grid_area": null,
            "grid_auto_columns": null,
            "grid_auto_flow": null,
            "grid_auto_rows": null,
            "grid_column": null,
            "grid_gap": null,
            "grid_row": null,
            "grid_template_areas": null,
            "grid_template_columns": null,
            "grid_template_rows": null,
            "height": null,
            "justify_content": null,
            "justify_items": null,
            "left": null,
            "margin": null,
            "max_height": null,
            "max_width": null,
            "min_height": null,
            "min_width": null,
            "object_fit": null,
            "object_position": null,
            "order": null,
            "overflow": null,
            "overflow_x": null,
            "overflow_y": null,
            "padding": null,
            "right": null,
            "top": null,
            "visibility": null,
            "width": null
          }
        },
        "6b9e2b65f30f4189baa64feb2457dd9c": {
          "model_module": "@jupyter-widgets/controls",
          "model_name": "DescriptionStyleModel",
          "model_module_version": "1.5.0",
          "state": {
            "_model_module": "@jupyter-widgets/controls",
            "_model_module_version": "1.5.0",
            "_model_name": "DescriptionStyleModel",
            "_view_count": null,
            "_view_module": "@jupyter-widgets/base",
            "_view_module_version": "1.2.0",
            "_view_name": "StyleView",
            "description_width": ""
          }
        },
        "fa4a7b39bb2e441cbbaf8b76098a6565": {
          "model_module": "@jupyter-widgets/controls",
          "model_name": "HBoxModel",
          "model_module_version": "1.5.0",
          "state": {
            "_dom_classes": [],
            "_model_module": "@jupyter-widgets/controls",
            "_model_module_version": "1.5.0",
            "_model_name": "HBoxModel",
            "_view_count": null,
            "_view_module": "@jupyter-widgets/controls",
            "_view_module_version": "1.5.0",
            "_view_name": "HBoxView",
            "box_style": "",
            "children": [
              "IPY_MODEL_632b4c18d70e40c7830e2a39e42c4177",
              "IPY_MODEL_01e7afad08d34ef6b8709d430849442f",
              "IPY_MODEL_eeea985eb19f4888b602c8708a8e1ebc"
            ],
            "layout": "IPY_MODEL_759fc9b57526486daf98bd2b5f8ae864"
          }
        },
        "632b4c18d70e40c7830e2a39e42c4177": {
          "model_module": "@jupyter-widgets/controls",
          "model_name": "HTMLModel",
          "model_module_version": "1.5.0",
          "state": {
            "_dom_classes": [],
            "_model_module": "@jupyter-widgets/controls",
            "_model_module_version": "1.5.0",
            "_model_name": "HTMLModel",
            "_view_count": null,
            "_view_module": "@jupyter-widgets/controls",
            "_view_module_version": "1.5.0",
            "_view_name": "HTMLView",
            "description": "",
            "description_tooltip": null,
            "layout": "IPY_MODEL_4794979cee2249eba59f965c0b412d18",
            "placeholder": "​",
            "style": "IPY_MODEL_17b51bd8b8bc43d19f5a11c77ba5686f",
            "value": "100%"
          }
        },
        "01e7afad08d34ef6b8709d430849442f": {
          "model_module": "@jupyter-widgets/controls",
          "model_name": "FloatProgressModel",
          "model_module_version": "1.5.0",
          "state": {
            "_dom_classes": [],
            "_model_module": "@jupyter-widgets/controls",
            "_model_module_version": "1.5.0",
            "_model_name": "FloatProgressModel",
            "_view_count": null,
            "_view_module": "@jupyter-widgets/controls",
            "_view_module_version": "1.5.0",
            "_view_name": "ProgressView",
            "bar_style": "success",
            "description": "",
            "description_tooltip": null,
            "layout": "IPY_MODEL_08911a2a0acb4991ba205a9ef1fecf2f",
            "max": 313,
            "min": 0,
            "orientation": "horizontal",
            "style": "IPY_MODEL_707b59987dcb43f78d638d18cfb620a0",
            "value": 313
          }
        },
        "eeea985eb19f4888b602c8708a8e1ebc": {
          "model_module": "@jupyter-widgets/controls",
          "model_name": "HTMLModel",
          "model_module_version": "1.5.0",
          "state": {
            "_dom_classes": [],
            "_model_module": "@jupyter-widgets/controls",
            "_model_module_version": "1.5.0",
            "_model_name": "HTMLModel",
            "_view_count": null,
            "_view_module": "@jupyter-widgets/controls",
            "_view_module_version": "1.5.0",
            "_view_name": "HTMLView",
            "description": "",
            "description_tooltip": null,
            "layout": "IPY_MODEL_a0debd50fa424abd985db1b11fe6a9bd",
            "placeholder": "​",
            "style": "IPY_MODEL_5884b38fd28043cd81a702d94b375272",
            "value": " 313/313 [00:01&lt;00:00, 212.30it/s]"
          }
        },
        "759fc9b57526486daf98bd2b5f8ae864": {
          "model_module": "@jupyter-widgets/base",
          "model_name": "LayoutModel",
          "model_module_version": "1.2.0",
          "state": {
            "_model_module": "@jupyter-widgets/base",
            "_model_module_version": "1.2.0",
            "_model_name": "LayoutModel",
            "_view_count": null,
            "_view_module": "@jupyter-widgets/base",
            "_view_module_version": "1.2.0",
            "_view_name": "LayoutView",
            "align_content": null,
            "align_items": null,
            "align_self": null,
            "border": null,
            "bottom": null,
            "display": null,
            "flex": null,
            "flex_flow": null,
            "grid_area": null,
            "grid_auto_columns": null,
            "grid_auto_flow": null,
            "grid_auto_rows": null,
            "grid_column": null,
            "grid_gap": null,
            "grid_row": null,
            "grid_template_areas": null,
            "grid_template_columns": null,
            "grid_template_rows": null,
            "height": null,
            "justify_content": null,
            "justify_items": null,
            "left": null,
            "margin": null,
            "max_height": null,
            "max_width": null,
            "min_height": null,
            "min_width": null,
            "object_fit": null,
            "object_position": null,
            "order": null,
            "overflow": null,
            "overflow_x": null,
            "overflow_y": null,
            "padding": null,
            "right": null,
            "top": null,
            "visibility": null,
            "width": null
          }
        },
        "4794979cee2249eba59f965c0b412d18": {
          "model_module": "@jupyter-widgets/base",
          "model_name": "LayoutModel",
          "model_module_version": "1.2.0",
          "state": {
            "_model_module": "@jupyter-widgets/base",
            "_model_module_version": "1.2.0",
            "_model_name": "LayoutModel",
            "_view_count": null,
            "_view_module": "@jupyter-widgets/base",
            "_view_module_version": "1.2.0",
            "_view_name": "LayoutView",
            "align_content": null,
            "align_items": null,
            "align_self": null,
            "border": null,
            "bottom": null,
            "display": null,
            "flex": null,
            "flex_flow": null,
            "grid_area": null,
            "grid_auto_columns": null,
            "grid_auto_flow": null,
            "grid_auto_rows": null,
            "grid_column": null,
            "grid_gap": null,
            "grid_row": null,
            "grid_template_areas": null,
            "grid_template_columns": null,
            "grid_template_rows": null,
            "height": null,
            "justify_content": null,
            "justify_items": null,
            "left": null,
            "margin": null,
            "max_height": null,
            "max_width": null,
            "min_height": null,
            "min_width": null,
            "object_fit": null,
            "object_position": null,
            "order": null,
            "overflow": null,
            "overflow_x": null,
            "overflow_y": null,
            "padding": null,
            "right": null,
            "top": null,
            "visibility": null,
            "width": null
          }
        },
        "17b51bd8b8bc43d19f5a11c77ba5686f": {
          "model_module": "@jupyter-widgets/controls",
          "model_name": "DescriptionStyleModel",
          "model_module_version": "1.5.0",
          "state": {
            "_model_module": "@jupyter-widgets/controls",
            "_model_module_version": "1.5.0",
            "_model_name": "DescriptionStyleModel",
            "_view_count": null,
            "_view_module": "@jupyter-widgets/base",
            "_view_module_version": "1.2.0",
            "_view_name": "StyleView",
            "description_width": ""
          }
        },
        "08911a2a0acb4991ba205a9ef1fecf2f": {
          "model_module": "@jupyter-widgets/base",
          "model_name": "LayoutModel",
          "model_module_version": "1.2.0",
          "state": {
            "_model_module": "@jupyter-widgets/base",
            "_model_module_version": "1.2.0",
            "_model_name": "LayoutModel",
            "_view_count": null,
            "_view_module": "@jupyter-widgets/base",
            "_view_module_version": "1.2.0",
            "_view_name": "LayoutView",
            "align_content": null,
            "align_items": null,
            "align_self": null,
            "border": null,
            "bottom": null,
            "display": null,
            "flex": null,
            "flex_flow": null,
            "grid_area": null,
            "grid_auto_columns": null,
            "grid_auto_flow": null,
            "grid_auto_rows": null,
            "grid_column": null,
            "grid_gap": null,
            "grid_row": null,
            "grid_template_areas": null,
            "grid_template_columns": null,
            "grid_template_rows": null,
            "height": null,
            "justify_content": null,
            "justify_items": null,
            "left": null,
            "margin": null,
            "max_height": null,
            "max_width": null,
            "min_height": null,
            "min_width": null,
            "object_fit": null,
            "object_position": null,
            "order": null,
            "overflow": null,
            "overflow_x": null,
            "overflow_y": null,
            "padding": null,
            "right": null,
            "top": null,
            "visibility": null,
            "width": null
          }
        },
        "707b59987dcb43f78d638d18cfb620a0": {
          "model_module": "@jupyter-widgets/controls",
          "model_name": "ProgressStyleModel",
          "model_module_version": "1.5.0",
          "state": {
            "_model_module": "@jupyter-widgets/controls",
            "_model_module_version": "1.5.0",
            "_model_name": "ProgressStyleModel",
            "_view_count": null,
            "_view_module": "@jupyter-widgets/base",
            "_view_module_version": "1.2.0",
            "_view_name": "StyleView",
            "bar_color": null,
            "description_width": ""
          }
        },
        "a0debd50fa424abd985db1b11fe6a9bd": {
          "model_module": "@jupyter-widgets/base",
          "model_name": "LayoutModel",
          "model_module_version": "1.2.0",
          "state": {
            "_model_module": "@jupyter-widgets/base",
            "_model_module_version": "1.2.0",
            "_model_name": "LayoutModel",
            "_view_count": null,
            "_view_module": "@jupyter-widgets/base",
            "_view_module_version": "1.2.0",
            "_view_name": "LayoutView",
            "align_content": null,
            "align_items": null,
            "align_self": null,
            "border": null,
            "bottom": null,
            "display": null,
            "flex": null,
            "flex_flow": null,
            "grid_area": null,
            "grid_auto_columns": null,
            "grid_auto_flow": null,
            "grid_auto_rows": null,
            "grid_column": null,
            "grid_gap": null,
            "grid_row": null,
            "grid_template_areas": null,
            "grid_template_columns": null,
            "grid_template_rows": null,
            "height": null,
            "justify_content": null,
            "justify_items": null,
            "left": null,
            "margin": null,
            "max_height": null,
            "max_width": null,
            "min_height": null,
            "min_width": null,
            "object_fit": null,
            "object_position": null,
            "order": null,
            "overflow": null,
            "overflow_x": null,
            "overflow_y": null,
            "padding": null,
            "right": null,
            "top": null,
            "visibility": null,
            "width": null
          }
        },
        "5884b38fd28043cd81a702d94b375272": {
          "model_module": "@jupyter-widgets/controls",
          "model_name": "DescriptionStyleModel",
          "model_module_version": "1.5.0",
          "state": {
            "_model_module": "@jupyter-widgets/controls",
            "_model_module_version": "1.5.0",
            "_model_name": "DescriptionStyleModel",
            "_view_count": null,
            "_view_module": "@jupyter-widgets/base",
            "_view_module_version": "1.2.0",
            "_view_name": "StyleView",
            "description_width": ""
          }
        },
        "03c90c5c996e4c5d8eecf56bc0dbdb9a": {
          "model_module": "@jupyter-widgets/controls",
          "model_name": "HBoxModel",
          "model_module_version": "1.5.0",
          "state": {
            "_dom_classes": [],
            "_model_module": "@jupyter-widgets/controls",
            "_model_module_version": "1.5.0",
            "_model_name": "HBoxModel",
            "_view_count": null,
            "_view_module": "@jupyter-widgets/controls",
            "_view_module_version": "1.5.0",
            "_view_name": "HBoxView",
            "box_style": "",
            "children": [
              "IPY_MODEL_6a31809dd7594ce888650a37712f0f87",
              "IPY_MODEL_9b21297f7f454ce5a2bb21d32b2bfe6b",
              "IPY_MODEL_7ec492a3f8634d0b9847ec4a19238d0a"
            ],
            "layout": "IPY_MODEL_5e2dc5b47f564fea83b42b08b4456047"
          }
        },
        "6a31809dd7594ce888650a37712f0f87": {
          "model_module": "@jupyter-widgets/controls",
          "model_name": "HTMLModel",
          "model_module_version": "1.5.0",
          "state": {
            "_dom_classes": [],
            "_model_module": "@jupyter-widgets/controls",
            "_model_module_version": "1.5.0",
            "_model_name": "HTMLModel",
            "_view_count": null,
            "_view_module": "@jupyter-widgets/controls",
            "_view_module_version": "1.5.0",
            "_view_name": "HTMLView",
            "description": "",
            "description_tooltip": null,
            "layout": "IPY_MODEL_0fd0e42d9d084a208c4846c6e48e4279",
            "placeholder": "​",
            "style": "IPY_MODEL_298ba590fe79494a977f25226a71a17c",
            "value": "100%"
          }
        },
        "9b21297f7f454ce5a2bb21d32b2bfe6b": {
          "model_module": "@jupyter-widgets/controls",
          "model_name": "FloatProgressModel",
          "model_module_version": "1.5.0",
          "state": {
            "_dom_classes": [],
            "_model_module": "@jupyter-widgets/controls",
            "_model_module_version": "1.5.0",
            "_model_name": "FloatProgressModel",
            "_view_count": null,
            "_view_module": "@jupyter-widgets/controls",
            "_view_module_version": "1.5.0",
            "_view_name": "ProgressView",
            "bar_style": "success",
            "description": "",
            "description_tooltip": null,
            "layout": "IPY_MODEL_29a5ff4daf494856b44e25518e9a527a",
            "max": 3,
            "min": 0,
            "orientation": "horizontal",
            "style": "IPY_MODEL_ba415545ccfa47d496ea44bcf28c15da",
            "value": 3
          }
        },
        "7ec492a3f8634d0b9847ec4a19238d0a": {
          "model_module": "@jupyter-widgets/controls",
          "model_name": "HTMLModel",
          "model_module_version": "1.5.0",
          "state": {
            "_dom_classes": [],
            "_model_module": "@jupyter-widgets/controls",
            "_model_module_version": "1.5.0",
            "_model_name": "HTMLModel",
            "_view_count": null,
            "_view_module": "@jupyter-widgets/controls",
            "_view_module_version": "1.5.0",
            "_view_name": "HTMLView",
            "description": "",
            "description_tooltip": null,
            "layout": "IPY_MODEL_623f4e33daae46d39dea6c86379202cd",
            "placeholder": "​",
            "style": "IPY_MODEL_be2eeea5f9d644b8997a100e715c8efb",
            "value": " 3/3 [00:57&lt;00:00, 19.20s/it]"
          }
        },
        "5e2dc5b47f564fea83b42b08b4456047": {
          "model_module": "@jupyter-widgets/base",
          "model_name": "LayoutModel",
          "model_module_version": "1.2.0",
          "state": {
            "_model_module": "@jupyter-widgets/base",
            "_model_module_version": "1.2.0",
            "_model_name": "LayoutModel",
            "_view_count": null,
            "_view_module": "@jupyter-widgets/base",
            "_view_module_version": "1.2.0",
            "_view_name": "LayoutView",
            "align_content": null,
            "align_items": null,
            "align_self": null,
            "border": null,
            "bottom": null,
            "display": null,
            "flex": null,
            "flex_flow": null,
            "grid_area": null,
            "grid_auto_columns": null,
            "grid_auto_flow": null,
            "grid_auto_rows": null,
            "grid_column": null,
            "grid_gap": null,
            "grid_row": null,
            "grid_template_areas": null,
            "grid_template_columns": null,
            "grid_template_rows": null,
            "height": null,
            "justify_content": null,
            "justify_items": null,
            "left": null,
            "margin": null,
            "max_height": null,
            "max_width": null,
            "min_height": null,
            "min_width": null,
            "object_fit": null,
            "object_position": null,
            "order": null,
            "overflow": null,
            "overflow_x": null,
            "overflow_y": null,
            "padding": null,
            "right": null,
            "top": null,
            "visibility": null,
            "width": null
          }
        },
        "0fd0e42d9d084a208c4846c6e48e4279": {
          "model_module": "@jupyter-widgets/base",
          "model_name": "LayoutModel",
          "model_module_version": "1.2.0",
          "state": {
            "_model_module": "@jupyter-widgets/base",
            "_model_module_version": "1.2.0",
            "_model_name": "LayoutModel",
            "_view_count": null,
            "_view_module": "@jupyter-widgets/base",
            "_view_module_version": "1.2.0",
            "_view_name": "LayoutView",
            "align_content": null,
            "align_items": null,
            "align_self": null,
            "border": null,
            "bottom": null,
            "display": null,
            "flex": null,
            "flex_flow": null,
            "grid_area": null,
            "grid_auto_columns": null,
            "grid_auto_flow": null,
            "grid_auto_rows": null,
            "grid_column": null,
            "grid_gap": null,
            "grid_row": null,
            "grid_template_areas": null,
            "grid_template_columns": null,
            "grid_template_rows": null,
            "height": null,
            "justify_content": null,
            "justify_items": null,
            "left": null,
            "margin": null,
            "max_height": null,
            "max_width": null,
            "min_height": null,
            "min_width": null,
            "object_fit": null,
            "object_position": null,
            "order": null,
            "overflow": null,
            "overflow_x": null,
            "overflow_y": null,
            "padding": null,
            "right": null,
            "top": null,
            "visibility": null,
            "width": null
          }
        },
        "298ba590fe79494a977f25226a71a17c": {
          "model_module": "@jupyter-widgets/controls",
          "model_name": "DescriptionStyleModel",
          "model_module_version": "1.5.0",
          "state": {
            "_model_module": "@jupyter-widgets/controls",
            "_model_module_version": "1.5.0",
            "_model_name": "DescriptionStyleModel",
            "_view_count": null,
            "_view_module": "@jupyter-widgets/base",
            "_view_module_version": "1.2.0",
            "_view_name": "StyleView",
            "description_width": ""
          }
        },
        "29a5ff4daf494856b44e25518e9a527a": {
          "model_module": "@jupyter-widgets/base",
          "model_name": "LayoutModel",
          "model_module_version": "1.2.0",
          "state": {
            "_model_module": "@jupyter-widgets/base",
            "_model_module_version": "1.2.0",
            "_model_name": "LayoutModel",
            "_view_count": null,
            "_view_module": "@jupyter-widgets/base",
            "_view_module_version": "1.2.0",
            "_view_name": "LayoutView",
            "align_content": null,
            "align_items": null,
            "align_self": null,
            "border": null,
            "bottom": null,
            "display": null,
            "flex": null,
            "flex_flow": null,
            "grid_area": null,
            "grid_auto_columns": null,
            "grid_auto_flow": null,
            "grid_auto_rows": null,
            "grid_column": null,
            "grid_gap": null,
            "grid_row": null,
            "grid_template_areas": null,
            "grid_template_columns": null,
            "grid_template_rows": null,
            "height": null,
            "justify_content": null,
            "justify_items": null,
            "left": null,
            "margin": null,
            "max_height": null,
            "max_width": null,
            "min_height": null,
            "min_width": null,
            "object_fit": null,
            "object_position": null,
            "order": null,
            "overflow": null,
            "overflow_x": null,
            "overflow_y": null,
            "padding": null,
            "right": null,
            "top": null,
            "visibility": null,
            "width": null
          }
        },
        "ba415545ccfa47d496ea44bcf28c15da": {
          "model_module": "@jupyter-widgets/controls",
          "model_name": "ProgressStyleModel",
          "model_module_version": "1.5.0",
          "state": {
            "_model_module": "@jupyter-widgets/controls",
            "_model_module_version": "1.5.0",
            "_model_name": "ProgressStyleModel",
            "_view_count": null,
            "_view_module": "@jupyter-widgets/base",
            "_view_module_version": "1.2.0",
            "_view_name": "StyleView",
            "bar_color": null,
            "description_width": ""
          }
        },
        "623f4e33daae46d39dea6c86379202cd": {
          "model_module": "@jupyter-widgets/base",
          "model_name": "LayoutModel",
          "model_module_version": "1.2.0",
          "state": {
            "_model_module": "@jupyter-widgets/base",
            "_model_module_version": "1.2.0",
            "_model_name": "LayoutModel",
            "_view_count": null,
            "_view_module": "@jupyter-widgets/base",
            "_view_module_version": "1.2.0",
            "_view_name": "LayoutView",
            "align_content": null,
            "align_items": null,
            "align_self": null,
            "border": null,
            "bottom": null,
            "display": null,
            "flex": null,
            "flex_flow": null,
            "grid_area": null,
            "grid_auto_columns": null,
            "grid_auto_flow": null,
            "grid_auto_rows": null,
            "grid_column": null,
            "grid_gap": null,
            "grid_row": null,
            "grid_template_areas": null,
            "grid_template_columns": null,
            "grid_template_rows": null,
            "height": null,
            "justify_content": null,
            "justify_items": null,
            "left": null,
            "margin": null,
            "max_height": null,
            "max_width": null,
            "min_height": null,
            "min_width": null,
            "object_fit": null,
            "object_position": null,
            "order": null,
            "overflow": null,
            "overflow_x": null,
            "overflow_y": null,
            "padding": null,
            "right": null,
            "top": null,
            "visibility": null,
            "width": null
          }
        },
        "be2eeea5f9d644b8997a100e715c8efb": {
          "model_module": "@jupyter-widgets/controls",
          "model_name": "DescriptionStyleModel",
          "model_module_version": "1.5.0",
          "state": {
            "_model_module": "@jupyter-widgets/controls",
            "_model_module_version": "1.5.0",
            "_model_name": "DescriptionStyleModel",
            "_view_count": null,
            "_view_module": "@jupyter-widgets/base",
            "_view_module_version": "1.2.0",
            "_view_name": "StyleView",
            "description_width": ""
          }
        },
        "2fdd8d56e34f4986b9df56e9bde62ab2": {
          "model_module": "@jupyter-widgets/controls",
          "model_name": "HBoxModel",
          "model_module_version": "1.5.0",
          "state": {
            "_dom_classes": [],
            "_model_module": "@jupyter-widgets/controls",
            "_model_module_version": "1.5.0",
            "_model_name": "HBoxModel",
            "_view_count": null,
            "_view_module": "@jupyter-widgets/controls",
            "_view_module_version": "1.5.0",
            "_view_name": "HBoxView",
            "box_style": "",
            "children": [
              "IPY_MODEL_43caa736eb2d4ee48b58abf076722d40",
              "IPY_MODEL_b60817e738d94a998142688a77299a2e",
              "IPY_MODEL_5d11025f45184bc08cc7b0ae7acb89b8"
            ],
            "layout": "IPY_MODEL_5e12dc52766e4a898c1356cd713f1ed3"
          }
        },
        "43caa736eb2d4ee48b58abf076722d40": {
          "model_module": "@jupyter-widgets/controls",
          "model_name": "HTMLModel",
          "model_module_version": "1.5.0",
          "state": {
            "_dom_classes": [],
            "_model_module": "@jupyter-widgets/controls",
            "_model_module_version": "1.5.0",
            "_model_name": "HTMLModel",
            "_view_count": null,
            "_view_module": "@jupyter-widgets/controls",
            "_view_module_version": "1.5.0",
            "_view_name": "HTMLView",
            "description": "",
            "description_tooltip": null,
            "layout": "IPY_MODEL_52dc55ae3e004304b0c3d87d8b308225",
            "placeholder": "​",
            "style": "IPY_MODEL_17f5d2be231e44248e032a5e80b967c0",
            "value": "100%"
          }
        },
        "b60817e738d94a998142688a77299a2e": {
          "model_module": "@jupyter-widgets/controls",
          "model_name": "FloatProgressModel",
          "model_module_version": "1.5.0",
          "state": {
            "_dom_classes": [],
            "_model_module": "@jupyter-widgets/controls",
            "_model_module_version": "1.5.0",
            "_model_name": "FloatProgressModel",
            "_view_count": null,
            "_view_module": "@jupyter-widgets/controls",
            "_view_module_version": "1.5.0",
            "_view_name": "ProgressView",
            "bar_style": "success",
            "description": "",
            "description_tooltip": null,
            "layout": "IPY_MODEL_3302983d06db4e53b0141a9496193c95",
            "max": 313,
            "min": 0,
            "orientation": "horizontal",
            "style": "IPY_MODEL_5b26e85c058c46a4a6099c32c908039f",
            "value": 313
          }
        },
        "5d11025f45184bc08cc7b0ae7acb89b8": {
          "model_module": "@jupyter-widgets/controls",
          "model_name": "HTMLModel",
          "model_module_version": "1.5.0",
          "state": {
            "_dom_classes": [],
            "_model_module": "@jupyter-widgets/controls",
            "_model_module_version": "1.5.0",
            "_model_name": "HTMLModel",
            "_view_count": null,
            "_view_module": "@jupyter-widgets/controls",
            "_view_module_version": "1.5.0",
            "_view_name": "HTMLView",
            "description": "",
            "description_tooltip": null,
            "layout": "IPY_MODEL_1cdf9e93acfd489b9a6ea910883676c7",
            "placeholder": "​",
            "style": "IPY_MODEL_f55be62a7a2d4141978ebd5374939aae",
            "value": " 313/313 [00:01&lt;00:00, 167.72it/s]"
          }
        },
        "5e12dc52766e4a898c1356cd713f1ed3": {
          "model_module": "@jupyter-widgets/base",
          "model_name": "LayoutModel",
          "model_module_version": "1.2.0",
          "state": {
            "_model_module": "@jupyter-widgets/base",
            "_model_module_version": "1.2.0",
            "_model_name": "LayoutModel",
            "_view_count": null,
            "_view_module": "@jupyter-widgets/base",
            "_view_module_version": "1.2.0",
            "_view_name": "LayoutView",
            "align_content": null,
            "align_items": null,
            "align_self": null,
            "border": null,
            "bottom": null,
            "display": null,
            "flex": null,
            "flex_flow": null,
            "grid_area": null,
            "grid_auto_columns": null,
            "grid_auto_flow": null,
            "grid_auto_rows": null,
            "grid_column": null,
            "grid_gap": null,
            "grid_row": null,
            "grid_template_areas": null,
            "grid_template_columns": null,
            "grid_template_rows": null,
            "height": null,
            "justify_content": null,
            "justify_items": null,
            "left": null,
            "margin": null,
            "max_height": null,
            "max_width": null,
            "min_height": null,
            "min_width": null,
            "object_fit": null,
            "object_position": null,
            "order": null,
            "overflow": null,
            "overflow_x": null,
            "overflow_y": null,
            "padding": null,
            "right": null,
            "top": null,
            "visibility": null,
            "width": null
          }
        },
        "52dc55ae3e004304b0c3d87d8b308225": {
          "model_module": "@jupyter-widgets/base",
          "model_name": "LayoutModel",
          "model_module_version": "1.2.0",
          "state": {
            "_model_module": "@jupyter-widgets/base",
            "_model_module_version": "1.2.0",
            "_model_name": "LayoutModel",
            "_view_count": null,
            "_view_module": "@jupyter-widgets/base",
            "_view_module_version": "1.2.0",
            "_view_name": "LayoutView",
            "align_content": null,
            "align_items": null,
            "align_self": null,
            "border": null,
            "bottom": null,
            "display": null,
            "flex": null,
            "flex_flow": null,
            "grid_area": null,
            "grid_auto_columns": null,
            "grid_auto_flow": null,
            "grid_auto_rows": null,
            "grid_column": null,
            "grid_gap": null,
            "grid_row": null,
            "grid_template_areas": null,
            "grid_template_columns": null,
            "grid_template_rows": null,
            "height": null,
            "justify_content": null,
            "justify_items": null,
            "left": null,
            "margin": null,
            "max_height": null,
            "max_width": null,
            "min_height": null,
            "min_width": null,
            "object_fit": null,
            "object_position": null,
            "order": null,
            "overflow": null,
            "overflow_x": null,
            "overflow_y": null,
            "padding": null,
            "right": null,
            "top": null,
            "visibility": null,
            "width": null
          }
        },
        "17f5d2be231e44248e032a5e80b967c0": {
          "model_module": "@jupyter-widgets/controls",
          "model_name": "DescriptionStyleModel",
          "model_module_version": "1.5.0",
          "state": {
            "_model_module": "@jupyter-widgets/controls",
            "_model_module_version": "1.5.0",
            "_model_name": "DescriptionStyleModel",
            "_view_count": null,
            "_view_module": "@jupyter-widgets/base",
            "_view_module_version": "1.2.0",
            "_view_name": "StyleView",
            "description_width": ""
          }
        },
        "3302983d06db4e53b0141a9496193c95": {
          "model_module": "@jupyter-widgets/base",
          "model_name": "LayoutModel",
          "model_module_version": "1.2.0",
          "state": {
            "_model_module": "@jupyter-widgets/base",
            "_model_module_version": "1.2.0",
            "_model_name": "LayoutModel",
            "_view_count": null,
            "_view_module": "@jupyter-widgets/base",
            "_view_module_version": "1.2.0",
            "_view_name": "LayoutView",
            "align_content": null,
            "align_items": null,
            "align_self": null,
            "border": null,
            "bottom": null,
            "display": null,
            "flex": null,
            "flex_flow": null,
            "grid_area": null,
            "grid_auto_columns": null,
            "grid_auto_flow": null,
            "grid_auto_rows": null,
            "grid_column": null,
            "grid_gap": null,
            "grid_row": null,
            "grid_template_areas": null,
            "grid_template_columns": null,
            "grid_template_rows": null,
            "height": null,
            "justify_content": null,
            "justify_items": null,
            "left": null,
            "margin": null,
            "max_height": null,
            "max_width": null,
            "min_height": null,
            "min_width": null,
            "object_fit": null,
            "object_position": null,
            "order": null,
            "overflow": null,
            "overflow_x": null,
            "overflow_y": null,
            "padding": null,
            "right": null,
            "top": null,
            "visibility": null,
            "width": null
          }
        },
        "5b26e85c058c46a4a6099c32c908039f": {
          "model_module": "@jupyter-widgets/controls",
          "model_name": "ProgressStyleModel",
          "model_module_version": "1.5.0",
          "state": {
            "_model_module": "@jupyter-widgets/controls",
            "_model_module_version": "1.5.0",
            "_model_name": "ProgressStyleModel",
            "_view_count": null,
            "_view_module": "@jupyter-widgets/base",
            "_view_module_version": "1.2.0",
            "_view_name": "StyleView",
            "bar_color": null,
            "description_width": ""
          }
        },
        "1cdf9e93acfd489b9a6ea910883676c7": {
          "model_module": "@jupyter-widgets/base",
          "model_name": "LayoutModel",
          "model_module_version": "1.2.0",
          "state": {
            "_model_module": "@jupyter-widgets/base",
            "_model_module_version": "1.2.0",
            "_model_name": "LayoutModel",
            "_view_count": null,
            "_view_module": "@jupyter-widgets/base",
            "_view_module_version": "1.2.0",
            "_view_name": "LayoutView",
            "align_content": null,
            "align_items": null,
            "align_self": null,
            "border": null,
            "bottom": null,
            "display": null,
            "flex": null,
            "flex_flow": null,
            "grid_area": null,
            "grid_auto_columns": null,
            "grid_auto_flow": null,
            "grid_auto_rows": null,
            "grid_column": null,
            "grid_gap": null,
            "grid_row": null,
            "grid_template_areas": null,
            "grid_template_columns": null,
            "grid_template_rows": null,
            "height": null,
            "justify_content": null,
            "justify_items": null,
            "left": null,
            "margin": null,
            "max_height": null,
            "max_width": null,
            "min_height": null,
            "min_width": null,
            "object_fit": null,
            "object_position": null,
            "order": null,
            "overflow": null,
            "overflow_x": null,
            "overflow_y": null,
            "padding": null,
            "right": null,
            "top": null,
            "visibility": null,
            "width": null
          }
        },
        "f55be62a7a2d4141978ebd5374939aae": {
          "model_module": "@jupyter-widgets/controls",
          "model_name": "DescriptionStyleModel",
          "model_module_version": "1.5.0",
          "state": {
            "_model_module": "@jupyter-widgets/controls",
            "_model_module_version": "1.5.0",
            "_model_name": "DescriptionStyleModel",
            "_view_count": null,
            "_view_module": "@jupyter-widgets/base",
            "_view_module_version": "1.2.0",
            "_view_name": "StyleView",
            "description_width": ""
          }
        },
        "2cc357bb27a643e6b75346844c365641": {
          "model_module": "@jupyter-widgets/controls",
          "model_name": "HBoxModel",
          "model_module_version": "1.5.0",
          "state": {
            "_dom_classes": [],
            "_model_module": "@jupyter-widgets/controls",
            "_model_module_version": "1.5.0",
            "_model_name": "HBoxModel",
            "_view_count": null,
            "_view_module": "@jupyter-widgets/controls",
            "_view_module_version": "1.5.0",
            "_view_name": "HBoxView",
            "box_style": "",
            "children": [
              "IPY_MODEL_2cd015fabc0e4b80addf91cab7b0e4be",
              "IPY_MODEL_0df28bf4e4664488bcc6da2fea09da82",
              "IPY_MODEL_b1a61e2081284353b478070ab14d3b5c"
            ],
            "layout": "IPY_MODEL_fdea732e51404ba3aa62177db111face"
          }
        },
        "2cd015fabc0e4b80addf91cab7b0e4be": {
          "model_module": "@jupyter-widgets/controls",
          "model_name": "HTMLModel",
          "model_module_version": "1.5.0",
          "state": {
            "_dom_classes": [],
            "_model_module": "@jupyter-widgets/controls",
            "_model_module_version": "1.5.0",
            "_model_name": "HTMLModel",
            "_view_count": null,
            "_view_module": "@jupyter-widgets/controls",
            "_view_module_version": "1.5.0",
            "_view_name": "HTMLView",
            "description": "",
            "description_tooltip": null,
            "layout": "IPY_MODEL_dedc5518e4ef44828110cc8f4b7c46fb",
            "placeholder": "​",
            "style": "IPY_MODEL_13ec3942cf0548e19220c309657d23bc",
            "value": "100%"
          }
        },
        "0df28bf4e4664488bcc6da2fea09da82": {
          "model_module": "@jupyter-widgets/controls",
          "model_name": "FloatProgressModel",
          "model_module_version": "1.5.0",
          "state": {
            "_dom_classes": [],
            "_model_module": "@jupyter-widgets/controls",
            "_model_module_version": "1.5.0",
            "_model_name": "FloatProgressModel",
            "_view_count": null,
            "_view_module": "@jupyter-widgets/controls",
            "_view_module_version": "1.5.0",
            "_view_name": "ProgressView",
            "bar_style": "success",
            "description": "",
            "description_tooltip": null,
            "layout": "IPY_MODEL_99c9ca2c1977485d98adcc4ab6f2d8cd",
            "max": 3,
            "min": 0,
            "orientation": "horizontal",
            "style": "IPY_MODEL_6831864280d748caa245091e58b3c880",
            "value": 3
          }
        },
        "b1a61e2081284353b478070ab14d3b5c": {
          "model_module": "@jupyter-widgets/controls",
          "model_name": "HTMLModel",
          "model_module_version": "1.5.0",
          "state": {
            "_dom_classes": [],
            "_model_module": "@jupyter-widgets/controls",
            "_model_module_version": "1.5.0",
            "_model_name": "HTMLModel",
            "_view_count": null,
            "_view_module": "@jupyter-widgets/controls",
            "_view_module_version": "1.5.0",
            "_view_name": "HTMLView",
            "description": "",
            "description_tooltip": null,
            "layout": "IPY_MODEL_b3a3b96b5adc4474b763fa11393e34b4",
            "placeholder": "​",
            "style": "IPY_MODEL_8c5940cce2d341138ffb389c53ad34e8",
            "value": " 3/3 [04:06&lt;00:00, 82.60s/it]"
          }
        },
        "fdea732e51404ba3aa62177db111face": {
          "model_module": "@jupyter-widgets/base",
          "model_name": "LayoutModel",
          "model_module_version": "1.2.0",
          "state": {
            "_model_module": "@jupyter-widgets/base",
            "_model_module_version": "1.2.0",
            "_model_name": "LayoutModel",
            "_view_count": null,
            "_view_module": "@jupyter-widgets/base",
            "_view_module_version": "1.2.0",
            "_view_name": "LayoutView",
            "align_content": null,
            "align_items": null,
            "align_self": null,
            "border": null,
            "bottom": null,
            "display": null,
            "flex": null,
            "flex_flow": null,
            "grid_area": null,
            "grid_auto_columns": null,
            "grid_auto_flow": null,
            "grid_auto_rows": null,
            "grid_column": null,
            "grid_gap": null,
            "grid_row": null,
            "grid_template_areas": null,
            "grid_template_columns": null,
            "grid_template_rows": null,
            "height": null,
            "justify_content": null,
            "justify_items": null,
            "left": null,
            "margin": null,
            "max_height": null,
            "max_width": null,
            "min_height": null,
            "min_width": null,
            "object_fit": null,
            "object_position": null,
            "order": null,
            "overflow": null,
            "overflow_x": null,
            "overflow_y": null,
            "padding": null,
            "right": null,
            "top": null,
            "visibility": null,
            "width": null
          }
        },
        "dedc5518e4ef44828110cc8f4b7c46fb": {
          "model_module": "@jupyter-widgets/base",
          "model_name": "LayoutModel",
          "model_module_version": "1.2.0",
          "state": {
            "_model_module": "@jupyter-widgets/base",
            "_model_module_version": "1.2.0",
            "_model_name": "LayoutModel",
            "_view_count": null,
            "_view_module": "@jupyter-widgets/base",
            "_view_module_version": "1.2.0",
            "_view_name": "LayoutView",
            "align_content": null,
            "align_items": null,
            "align_self": null,
            "border": null,
            "bottom": null,
            "display": null,
            "flex": null,
            "flex_flow": null,
            "grid_area": null,
            "grid_auto_columns": null,
            "grid_auto_flow": null,
            "grid_auto_rows": null,
            "grid_column": null,
            "grid_gap": null,
            "grid_row": null,
            "grid_template_areas": null,
            "grid_template_columns": null,
            "grid_template_rows": null,
            "height": null,
            "justify_content": null,
            "justify_items": null,
            "left": null,
            "margin": null,
            "max_height": null,
            "max_width": null,
            "min_height": null,
            "min_width": null,
            "object_fit": null,
            "object_position": null,
            "order": null,
            "overflow": null,
            "overflow_x": null,
            "overflow_y": null,
            "padding": null,
            "right": null,
            "top": null,
            "visibility": null,
            "width": null
          }
        },
        "13ec3942cf0548e19220c309657d23bc": {
          "model_module": "@jupyter-widgets/controls",
          "model_name": "DescriptionStyleModel",
          "model_module_version": "1.5.0",
          "state": {
            "_model_module": "@jupyter-widgets/controls",
            "_model_module_version": "1.5.0",
            "_model_name": "DescriptionStyleModel",
            "_view_count": null,
            "_view_module": "@jupyter-widgets/base",
            "_view_module_version": "1.2.0",
            "_view_name": "StyleView",
            "description_width": ""
          }
        },
        "99c9ca2c1977485d98adcc4ab6f2d8cd": {
          "model_module": "@jupyter-widgets/base",
          "model_name": "LayoutModel",
          "model_module_version": "1.2.0",
          "state": {
            "_model_module": "@jupyter-widgets/base",
            "_model_module_version": "1.2.0",
            "_model_name": "LayoutModel",
            "_view_count": null,
            "_view_module": "@jupyter-widgets/base",
            "_view_module_version": "1.2.0",
            "_view_name": "LayoutView",
            "align_content": null,
            "align_items": null,
            "align_self": null,
            "border": null,
            "bottom": null,
            "display": null,
            "flex": null,
            "flex_flow": null,
            "grid_area": null,
            "grid_auto_columns": null,
            "grid_auto_flow": null,
            "grid_auto_rows": null,
            "grid_column": null,
            "grid_gap": null,
            "grid_row": null,
            "grid_template_areas": null,
            "grid_template_columns": null,
            "grid_template_rows": null,
            "height": null,
            "justify_content": null,
            "justify_items": null,
            "left": null,
            "margin": null,
            "max_height": null,
            "max_width": null,
            "min_height": null,
            "min_width": null,
            "object_fit": null,
            "object_position": null,
            "order": null,
            "overflow": null,
            "overflow_x": null,
            "overflow_y": null,
            "padding": null,
            "right": null,
            "top": null,
            "visibility": null,
            "width": null
          }
        },
        "6831864280d748caa245091e58b3c880": {
          "model_module": "@jupyter-widgets/controls",
          "model_name": "ProgressStyleModel",
          "model_module_version": "1.5.0",
          "state": {
            "_model_module": "@jupyter-widgets/controls",
            "_model_module_version": "1.5.0",
            "_model_name": "ProgressStyleModel",
            "_view_count": null,
            "_view_module": "@jupyter-widgets/base",
            "_view_module_version": "1.2.0",
            "_view_name": "StyleView",
            "bar_color": null,
            "description_width": ""
          }
        },
        "b3a3b96b5adc4474b763fa11393e34b4": {
          "model_module": "@jupyter-widgets/base",
          "model_name": "LayoutModel",
          "model_module_version": "1.2.0",
          "state": {
            "_model_module": "@jupyter-widgets/base",
            "_model_module_version": "1.2.0",
            "_model_name": "LayoutModel",
            "_view_count": null,
            "_view_module": "@jupyter-widgets/base",
            "_view_module_version": "1.2.0",
            "_view_name": "LayoutView",
            "align_content": null,
            "align_items": null,
            "align_self": null,
            "border": null,
            "bottom": null,
            "display": null,
            "flex": null,
            "flex_flow": null,
            "grid_area": null,
            "grid_auto_columns": null,
            "grid_auto_flow": null,
            "grid_auto_rows": null,
            "grid_column": null,
            "grid_gap": null,
            "grid_row": null,
            "grid_template_areas": null,
            "grid_template_columns": null,
            "grid_template_rows": null,
            "height": null,
            "justify_content": null,
            "justify_items": null,
            "left": null,
            "margin": null,
            "max_height": null,
            "max_width": null,
            "min_height": null,
            "min_width": null,
            "object_fit": null,
            "object_position": null,
            "order": null,
            "overflow": null,
            "overflow_x": null,
            "overflow_y": null,
            "padding": null,
            "right": null,
            "top": null,
            "visibility": null,
            "width": null
          }
        },
        "8c5940cce2d341138ffb389c53ad34e8": {
          "model_module": "@jupyter-widgets/controls",
          "model_name": "DescriptionStyleModel",
          "model_module_version": "1.5.0",
          "state": {
            "_model_module": "@jupyter-widgets/controls",
            "_model_module_version": "1.5.0",
            "_model_name": "DescriptionStyleModel",
            "_view_count": null,
            "_view_module": "@jupyter-widgets/base",
            "_view_module_version": "1.2.0",
            "_view_name": "StyleView",
            "description_width": ""
          }
        },
        "a848300cea8f468e90f8396315f68a9f": {
          "model_module": "@jupyter-widgets/controls",
          "model_name": "HBoxModel",
          "model_module_version": "1.5.0",
          "state": {
            "_dom_classes": [],
            "_model_module": "@jupyter-widgets/controls",
            "_model_module_version": "1.5.0",
            "_model_name": "HBoxModel",
            "_view_count": null,
            "_view_module": "@jupyter-widgets/controls",
            "_view_module_version": "1.5.0",
            "_view_name": "HBoxView",
            "box_style": "",
            "children": [
              "IPY_MODEL_c78db9222eaa4bb0a163dbb893d00d52",
              "IPY_MODEL_562a3eba0b584843b716bfa78e8f72d4",
              "IPY_MODEL_38700ca502d54b12ba49ea87f6495f94"
            ],
            "layout": "IPY_MODEL_a3fbba90a75a41aab3dec1ea0c2161e9"
          }
        },
        "c78db9222eaa4bb0a163dbb893d00d52": {
          "model_module": "@jupyter-widgets/controls",
          "model_name": "HTMLModel",
          "model_module_version": "1.5.0",
          "state": {
            "_dom_classes": [],
            "_model_module": "@jupyter-widgets/controls",
            "_model_module_version": "1.5.0",
            "_model_name": "HTMLModel",
            "_view_count": null,
            "_view_module": "@jupyter-widgets/controls",
            "_view_module_version": "1.5.0",
            "_view_name": "HTMLView",
            "description": "",
            "description_tooltip": null,
            "layout": "IPY_MODEL_858da3bf59e94b898968f7eee81e5dd0",
            "placeholder": "​",
            "style": "IPY_MODEL_08e78e9821cc4bf3bfbc18b214ea9e61",
            "value": "100%"
          }
        },
        "562a3eba0b584843b716bfa78e8f72d4": {
          "model_module": "@jupyter-widgets/controls",
          "model_name": "FloatProgressModel",
          "model_module_version": "1.5.0",
          "state": {
            "_dom_classes": [],
            "_model_module": "@jupyter-widgets/controls",
            "_model_module_version": "1.5.0",
            "_model_name": "FloatProgressModel",
            "_view_count": null,
            "_view_module": "@jupyter-widgets/controls",
            "_view_module_version": "1.5.0",
            "_view_name": "ProgressView",
            "bar_style": "success",
            "description": "",
            "description_tooltip": null,
            "layout": "IPY_MODEL_b0da37268ae44547ac88b899a66a7c77",
            "max": 313,
            "min": 0,
            "orientation": "horizontal",
            "style": "IPY_MODEL_b1d9bea5d20841099c81841b65f8ab46",
            "value": 313
          }
        },
        "38700ca502d54b12ba49ea87f6495f94": {
          "model_module": "@jupyter-widgets/controls",
          "model_name": "HTMLModel",
          "model_module_version": "1.5.0",
          "state": {
            "_dom_classes": [],
            "_model_module": "@jupyter-widgets/controls",
            "_model_module_version": "1.5.0",
            "_model_name": "HTMLModel",
            "_view_count": null,
            "_view_module": "@jupyter-widgets/controls",
            "_view_module_version": "1.5.0",
            "_view_name": "HTMLView",
            "description": "",
            "description_tooltip": null,
            "layout": "IPY_MODEL_4755e1e708224934b6cbd0157319011e",
            "placeholder": "​",
            "style": "IPY_MODEL_f038f5154c9a4d8ba55877a76ab42460",
            "value": " 313/313 [00:05&lt;00:00, 62.33it/s]"
          }
        },
        "a3fbba90a75a41aab3dec1ea0c2161e9": {
          "model_module": "@jupyter-widgets/base",
          "model_name": "LayoutModel",
          "model_module_version": "1.2.0",
          "state": {
            "_model_module": "@jupyter-widgets/base",
            "_model_module_version": "1.2.0",
            "_model_name": "LayoutModel",
            "_view_count": null,
            "_view_module": "@jupyter-widgets/base",
            "_view_module_version": "1.2.0",
            "_view_name": "LayoutView",
            "align_content": null,
            "align_items": null,
            "align_self": null,
            "border": null,
            "bottom": null,
            "display": null,
            "flex": null,
            "flex_flow": null,
            "grid_area": null,
            "grid_auto_columns": null,
            "grid_auto_flow": null,
            "grid_auto_rows": null,
            "grid_column": null,
            "grid_gap": null,
            "grid_row": null,
            "grid_template_areas": null,
            "grid_template_columns": null,
            "grid_template_rows": null,
            "height": null,
            "justify_content": null,
            "justify_items": null,
            "left": null,
            "margin": null,
            "max_height": null,
            "max_width": null,
            "min_height": null,
            "min_width": null,
            "object_fit": null,
            "object_position": null,
            "order": null,
            "overflow": null,
            "overflow_x": null,
            "overflow_y": null,
            "padding": null,
            "right": null,
            "top": null,
            "visibility": null,
            "width": null
          }
        },
        "858da3bf59e94b898968f7eee81e5dd0": {
          "model_module": "@jupyter-widgets/base",
          "model_name": "LayoutModel",
          "model_module_version": "1.2.0",
          "state": {
            "_model_module": "@jupyter-widgets/base",
            "_model_module_version": "1.2.0",
            "_model_name": "LayoutModel",
            "_view_count": null,
            "_view_module": "@jupyter-widgets/base",
            "_view_module_version": "1.2.0",
            "_view_name": "LayoutView",
            "align_content": null,
            "align_items": null,
            "align_self": null,
            "border": null,
            "bottom": null,
            "display": null,
            "flex": null,
            "flex_flow": null,
            "grid_area": null,
            "grid_auto_columns": null,
            "grid_auto_flow": null,
            "grid_auto_rows": null,
            "grid_column": null,
            "grid_gap": null,
            "grid_row": null,
            "grid_template_areas": null,
            "grid_template_columns": null,
            "grid_template_rows": null,
            "height": null,
            "justify_content": null,
            "justify_items": null,
            "left": null,
            "margin": null,
            "max_height": null,
            "max_width": null,
            "min_height": null,
            "min_width": null,
            "object_fit": null,
            "object_position": null,
            "order": null,
            "overflow": null,
            "overflow_x": null,
            "overflow_y": null,
            "padding": null,
            "right": null,
            "top": null,
            "visibility": null,
            "width": null
          }
        },
        "08e78e9821cc4bf3bfbc18b214ea9e61": {
          "model_module": "@jupyter-widgets/controls",
          "model_name": "DescriptionStyleModel",
          "model_module_version": "1.5.0",
          "state": {
            "_model_module": "@jupyter-widgets/controls",
            "_model_module_version": "1.5.0",
            "_model_name": "DescriptionStyleModel",
            "_view_count": null,
            "_view_module": "@jupyter-widgets/base",
            "_view_module_version": "1.2.0",
            "_view_name": "StyleView",
            "description_width": ""
          }
        },
        "b0da37268ae44547ac88b899a66a7c77": {
          "model_module": "@jupyter-widgets/base",
          "model_name": "LayoutModel",
          "model_module_version": "1.2.0",
          "state": {
            "_model_module": "@jupyter-widgets/base",
            "_model_module_version": "1.2.0",
            "_model_name": "LayoutModel",
            "_view_count": null,
            "_view_module": "@jupyter-widgets/base",
            "_view_module_version": "1.2.0",
            "_view_name": "LayoutView",
            "align_content": null,
            "align_items": null,
            "align_self": null,
            "border": null,
            "bottom": null,
            "display": null,
            "flex": null,
            "flex_flow": null,
            "grid_area": null,
            "grid_auto_columns": null,
            "grid_auto_flow": null,
            "grid_auto_rows": null,
            "grid_column": null,
            "grid_gap": null,
            "grid_row": null,
            "grid_template_areas": null,
            "grid_template_columns": null,
            "grid_template_rows": null,
            "height": null,
            "justify_content": null,
            "justify_items": null,
            "left": null,
            "margin": null,
            "max_height": null,
            "max_width": null,
            "min_height": null,
            "min_width": null,
            "object_fit": null,
            "object_position": null,
            "order": null,
            "overflow": null,
            "overflow_x": null,
            "overflow_y": null,
            "padding": null,
            "right": null,
            "top": null,
            "visibility": null,
            "width": null
          }
        },
        "b1d9bea5d20841099c81841b65f8ab46": {
          "model_module": "@jupyter-widgets/controls",
          "model_name": "ProgressStyleModel",
          "model_module_version": "1.5.0",
          "state": {
            "_model_module": "@jupyter-widgets/controls",
            "_model_module_version": "1.5.0",
            "_model_name": "ProgressStyleModel",
            "_view_count": null,
            "_view_module": "@jupyter-widgets/base",
            "_view_module_version": "1.2.0",
            "_view_name": "StyleView",
            "bar_color": null,
            "description_width": ""
          }
        },
        "4755e1e708224934b6cbd0157319011e": {
          "model_module": "@jupyter-widgets/base",
          "model_name": "LayoutModel",
          "model_module_version": "1.2.0",
          "state": {
            "_model_module": "@jupyter-widgets/base",
            "_model_module_version": "1.2.0",
            "_model_name": "LayoutModel",
            "_view_count": null,
            "_view_module": "@jupyter-widgets/base",
            "_view_module_version": "1.2.0",
            "_view_name": "LayoutView",
            "align_content": null,
            "align_items": null,
            "align_self": null,
            "border": null,
            "bottom": null,
            "display": null,
            "flex": null,
            "flex_flow": null,
            "grid_area": null,
            "grid_auto_columns": null,
            "grid_auto_flow": null,
            "grid_auto_rows": null,
            "grid_column": null,
            "grid_gap": null,
            "grid_row": null,
            "grid_template_areas": null,
            "grid_template_columns": null,
            "grid_template_rows": null,
            "height": null,
            "justify_content": null,
            "justify_items": null,
            "left": null,
            "margin": null,
            "max_height": null,
            "max_width": null,
            "min_height": null,
            "min_width": null,
            "object_fit": null,
            "object_position": null,
            "order": null,
            "overflow": null,
            "overflow_x": null,
            "overflow_y": null,
            "padding": null,
            "right": null,
            "top": null,
            "visibility": null,
            "width": null
          }
        },
        "f038f5154c9a4d8ba55877a76ab42460": {
          "model_module": "@jupyter-widgets/controls",
          "model_name": "DescriptionStyleModel",
          "model_module_version": "1.5.0",
          "state": {
            "_model_module": "@jupyter-widgets/controls",
            "_model_module_version": "1.5.0",
            "_model_name": "DescriptionStyleModel",
            "_view_count": null,
            "_view_module": "@jupyter-widgets/base",
            "_view_module_version": "1.2.0",
            "_view_name": "StyleView",
            "description_width": ""
          }
        },
        "c75b9e50a3cd453faee0b6b437922f35": {
          "model_module": "@jupyter-widgets/controls",
          "model_name": "HBoxModel",
          "model_module_version": "1.5.0",
          "state": {
            "_dom_classes": [],
            "_model_module": "@jupyter-widgets/controls",
            "_model_module_version": "1.5.0",
            "_model_name": "HBoxModel",
            "_view_count": null,
            "_view_module": "@jupyter-widgets/controls",
            "_view_module_version": "1.5.0",
            "_view_name": "HBoxView",
            "box_style": "",
            "children": [
              "IPY_MODEL_a84da35ffa474b25a9c4c54572f0b81d",
              "IPY_MODEL_e5d72a52b2234e5583b0e158fcfe5aaf",
              "IPY_MODEL_0166fa7cd51443ad9a192e3ea1e00b42"
            ],
            "layout": "IPY_MODEL_a39efbf97ff948778fe9a5134715e71e"
          }
        },
        "a84da35ffa474b25a9c4c54572f0b81d": {
          "model_module": "@jupyter-widgets/controls",
          "model_name": "HTMLModel",
          "model_module_version": "1.5.0",
          "state": {
            "_dom_classes": [],
            "_model_module": "@jupyter-widgets/controls",
            "_model_module_version": "1.5.0",
            "_model_name": "HTMLModel",
            "_view_count": null,
            "_view_module": "@jupyter-widgets/controls",
            "_view_module_version": "1.5.0",
            "_view_name": "HTMLView",
            "description": "",
            "description_tooltip": null,
            "layout": "IPY_MODEL_9d4b1d730bf14a0c8301a92b6127902b",
            "placeholder": "​",
            "style": "IPY_MODEL_b7217ff868f74e5d8c274086fc5dbf16",
            "value": "Makinge predictions: 100%"
          }
        },
        "e5d72a52b2234e5583b0e158fcfe5aaf": {
          "model_module": "@jupyter-widgets/controls",
          "model_name": "FloatProgressModel",
          "model_module_version": "1.5.0",
          "state": {
            "_dom_classes": [],
            "_model_module": "@jupyter-widgets/controls",
            "_model_module_version": "1.5.0",
            "_model_name": "FloatProgressModel",
            "_view_count": null,
            "_view_module": "@jupyter-widgets/controls",
            "_view_module_version": "1.5.0",
            "_view_name": "ProgressView",
            "bar_style": "success",
            "description": "",
            "description_tooltip": null,
            "layout": "IPY_MODEL_fbd36d4239b3430c81cabda8544861aa",
            "max": 313,
            "min": 0,
            "orientation": "horizontal",
            "style": "IPY_MODEL_561a0817f9b24952b7977d312cb73a8d",
            "value": 313
          }
        },
        "0166fa7cd51443ad9a192e3ea1e00b42": {
          "model_module": "@jupyter-widgets/controls",
          "model_name": "HTMLModel",
          "model_module_version": "1.5.0",
          "state": {
            "_dom_classes": [],
            "_model_module": "@jupyter-widgets/controls",
            "_model_module_version": "1.5.0",
            "_model_name": "HTMLModel",
            "_view_count": null,
            "_view_module": "@jupyter-widgets/controls",
            "_view_module_version": "1.5.0",
            "_view_name": "HTMLView",
            "description": "",
            "description_tooltip": null,
            "layout": "IPY_MODEL_2ec49c20f3054b0b8fe155899e19a154",
            "placeholder": "​",
            "style": "IPY_MODEL_f8ab90e8a0ae498ab2350d16f10f6c26",
            "value": " 313/313 [00:04&lt;00:00, 67.61it/s]"
          }
        },
        "a39efbf97ff948778fe9a5134715e71e": {
          "model_module": "@jupyter-widgets/base",
          "model_name": "LayoutModel",
          "model_module_version": "1.2.0",
          "state": {
            "_model_module": "@jupyter-widgets/base",
            "_model_module_version": "1.2.0",
            "_model_name": "LayoutModel",
            "_view_count": null,
            "_view_module": "@jupyter-widgets/base",
            "_view_module_version": "1.2.0",
            "_view_name": "LayoutView",
            "align_content": null,
            "align_items": null,
            "align_self": null,
            "border": null,
            "bottom": null,
            "display": null,
            "flex": null,
            "flex_flow": null,
            "grid_area": null,
            "grid_auto_columns": null,
            "grid_auto_flow": null,
            "grid_auto_rows": null,
            "grid_column": null,
            "grid_gap": null,
            "grid_row": null,
            "grid_template_areas": null,
            "grid_template_columns": null,
            "grid_template_rows": null,
            "height": null,
            "justify_content": null,
            "justify_items": null,
            "left": null,
            "margin": null,
            "max_height": null,
            "max_width": null,
            "min_height": null,
            "min_width": null,
            "object_fit": null,
            "object_position": null,
            "order": null,
            "overflow": null,
            "overflow_x": null,
            "overflow_y": null,
            "padding": null,
            "right": null,
            "top": null,
            "visibility": null,
            "width": null
          }
        },
        "9d4b1d730bf14a0c8301a92b6127902b": {
          "model_module": "@jupyter-widgets/base",
          "model_name": "LayoutModel",
          "model_module_version": "1.2.0",
          "state": {
            "_model_module": "@jupyter-widgets/base",
            "_model_module_version": "1.2.0",
            "_model_name": "LayoutModel",
            "_view_count": null,
            "_view_module": "@jupyter-widgets/base",
            "_view_module_version": "1.2.0",
            "_view_name": "LayoutView",
            "align_content": null,
            "align_items": null,
            "align_self": null,
            "border": null,
            "bottom": null,
            "display": null,
            "flex": null,
            "flex_flow": null,
            "grid_area": null,
            "grid_auto_columns": null,
            "grid_auto_flow": null,
            "grid_auto_rows": null,
            "grid_column": null,
            "grid_gap": null,
            "grid_row": null,
            "grid_template_areas": null,
            "grid_template_columns": null,
            "grid_template_rows": null,
            "height": null,
            "justify_content": null,
            "justify_items": null,
            "left": null,
            "margin": null,
            "max_height": null,
            "max_width": null,
            "min_height": null,
            "min_width": null,
            "object_fit": null,
            "object_position": null,
            "order": null,
            "overflow": null,
            "overflow_x": null,
            "overflow_y": null,
            "padding": null,
            "right": null,
            "top": null,
            "visibility": null,
            "width": null
          }
        },
        "b7217ff868f74e5d8c274086fc5dbf16": {
          "model_module": "@jupyter-widgets/controls",
          "model_name": "DescriptionStyleModel",
          "model_module_version": "1.5.0",
          "state": {
            "_model_module": "@jupyter-widgets/controls",
            "_model_module_version": "1.5.0",
            "_model_name": "DescriptionStyleModel",
            "_view_count": null,
            "_view_module": "@jupyter-widgets/base",
            "_view_module_version": "1.2.0",
            "_view_name": "StyleView",
            "description_width": ""
          }
        },
        "fbd36d4239b3430c81cabda8544861aa": {
          "model_module": "@jupyter-widgets/base",
          "model_name": "LayoutModel",
          "model_module_version": "1.2.0",
          "state": {
            "_model_module": "@jupyter-widgets/base",
            "_model_module_version": "1.2.0",
            "_model_name": "LayoutModel",
            "_view_count": null,
            "_view_module": "@jupyter-widgets/base",
            "_view_module_version": "1.2.0",
            "_view_name": "LayoutView",
            "align_content": null,
            "align_items": null,
            "align_self": null,
            "border": null,
            "bottom": null,
            "display": null,
            "flex": null,
            "flex_flow": null,
            "grid_area": null,
            "grid_auto_columns": null,
            "grid_auto_flow": null,
            "grid_auto_rows": null,
            "grid_column": null,
            "grid_gap": null,
            "grid_row": null,
            "grid_template_areas": null,
            "grid_template_columns": null,
            "grid_template_rows": null,
            "height": null,
            "justify_content": null,
            "justify_items": null,
            "left": null,
            "margin": null,
            "max_height": null,
            "max_width": null,
            "min_height": null,
            "min_width": null,
            "object_fit": null,
            "object_position": null,
            "order": null,
            "overflow": null,
            "overflow_x": null,
            "overflow_y": null,
            "padding": null,
            "right": null,
            "top": null,
            "visibility": null,
            "width": null
          }
        },
        "561a0817f9b24952b7977d312cb73a8d": {
          "model_module": "@jupyter-widgets/controls",
          "model_name": "ProgressStyleModel",
          "model_module_version": "1.5.0",
          "state": {
            "_model_module": "@jupyter-widgets/controls",
            "_model_module_version": "1.5.0",
            "_model_name": "ProgressStyleModel",
            "_view_count": null,
            "_view_module": "@jupyter-widgets/base",
            "_view_module_version": "1.2.0",
            "_view_name": "StyleView",
            "bar_color": null,
            "description_width": ""
          }
        },
        "2ec49c20f3054b0b8fe155899e19a154": {
          "model_module": "@jupyter-widgets/base",
          "model_name": "LayoutModel",
          "model_module_version": "1.2.0",
          "state": {
            "_model_module": "@jupyter-widgets/base",
            "_model_module_version": "1.2.0",
            "_model_name": "LayoutModel",
            "_view_count": null,
            "_view_module": "@jupyter-widgets/base",
            "_view_module_version": "1.2.0",
            "_view_name": "LayoutView",
            "align_content": null,
            "align_items": null,
            "align_self": null,
            "border": null,
            "bottom": null,
            "display": null,
            "flex": null,
            "flex_flow": null,
            "grid_area": null,
            "grid_auto_columns": null,
            "grid_auto_flow": null,
            "grid_auto_rows": null,
            "grid_column": null,
            "grid_gap": null,
            "grid_row": null,
            "grid_template_areas": null,
            "grid_template_columns": null,
            "grid_template_rows": null,
            "height": null,
            "justify_content": null,
            "justify_items": null,
            "left": null,
            "margin": null,
            "max_height": null,
            "max_width": null,
            "min_height": null,
            "min_width": null,
            "object_fit": null,
            "object_position": null,
            "order": null,
            "overflow": null,
            "overflow_x": null,
            "overflow_y": null,
            "padding": null,
            "right": null,
            "top": null,
            "visibility": null,
            "width": null
          }
        },
        "f8ab90e8a0ae498ab2350d16f10f6c26": {
          "model_module": "@jupyter-widgets/controls",
          "model_name": "DescriptionStyleModel",
          "model_module_version": "1.5.0",
          "state": {
            "_model_module": "@jupyter-widgets/controls",
            "_model_module_version": "1.5.0",
            "_model_name": "DescriptionStyleModel",
            "_view_count": null,
            "_view_module": "@jupyter-widgets/base",
            "_view_module_version": "1.2.0",
            "_view_name": "StyleView",
            "description_width": ""
          }
        },
        "9c48fc937fcc4b97a64fc8bd34f5157d": {
          "model_module": "@jupyter-widgets/controls",
          "model_name": "HBoxModel",
          "model_module_version": "1.5.0",
          "state": {
            "_dom_classes": [],
            "_model_module": "@jupyter-widgets/controls",
            "_model_module_version": "1.5.0",
            "_model_name": "HBoxModel",
            "_view_count": null,
            "_view_module": "@jupyter-widgets/controls",
            "_view_module_version": "1.5.0",
            "_view_name": "HBoxView",
            "box_style": "",
            "children": [
              "IPY_MODEL_ac72fc41c6b94550b51a4d51856431d5",
              "IPY_MODEL_a57d839a6a7341cfbe3b18f80121c35d",
              "IPY_MODEL_8febf29b27de4e01bb51ba81fabe6681"
            ],
            "layout": "IPY_MODEL_4eb8635eb1234461b1047b0cc425033f"
          }
        },
        "ac72fc41c6b94550b51a4d51856431d5": {
          "model_module": "@jupyter-widgets/controls",
          "model_name": "HTMLModel",
          "model_module_version": "1.5.0",
          "state": {
            "_dom_classes": [],
            "_model_module": "@jupyter-widgets/controls",
            "_model_module_version": "1.5.0",
            "_model_name": "HTMLModel",
            "_view_count": null,
            "_view_module": "@jupyter-widgets/controls",
            "_view_module_version": "1.5.0",
            "_view_name": "HTMLView",
            "description": "",
            "description_tooltip": null,
            "layout": "IPY_MODEL_26e23156a85640ae849634f14806e86e",
            "placeholder": "​",
            "style": "IPY_MODEL_aff624d1b6ea41bd9b108bb8db1feeba",
            "value": "100%"
          }
        },
        "a57d839a6a7341cfbe3b18f80121c35d": {
          "model_module": "@jupyter-widgets/controls",
          "model_name": "FloatProgressModel",
          "model_module_version": "1.5.0",
          "state": {
            "_dom_classes": [],
            "_model_module": "@jupyter-widgets/controls",
            "_model_module_version": "1.5.0",
            "_model_name": "FloatProgressModel",
            "_view_count": null,
            "_view_module": "@jupyter-widgets/controls",
            "_view_module_version": "1.5.0",
            "_view_name": "ProgressView",
            "bar_style": "success",
            "description": "",
            "description_tooltip": null,
            "layout": "IPY_MODEL_aad99b0509b2408282c197ac2acd4570",
            "max": 313,
            "min": 0,
            "orientation": "horizontal",
            "style": "IPY_MODEL_5c0abcdfd65248a58b75d3c61af4764c",
            "value": 313
          }
        },
        "8febf29b27de4e01bb51ba81fabe6681": {
          "model_module": "@jupyter-widgets/controls",
          "model_name": "HTMLModel",
          "model_module_version": "1.5.0",
          "state": {
            "_dom_classes": [],
            "_model_module": "@jupyter-widgets/controls",
            "_model_module_version": "1.5.0",
            "_model_name": "HTMLModel",
            "_view_count": null,
            "_view_module": "@jupyter-widgets/controls",
            "_view_module_version": "1.5.0",
            "_view_name": "HTMLView",
            "description": "",
            "description_tooltip": null,
            "layout": "IPY_MODEL_76e2bada88b94031a735f3ac995d4819",
            "placeholder": "​",
            "style": "IPY_MODEL_142ba99b8bed426ea5f969a0e72cbfb3",
            "value": " 313/313 [00:05&lt;00:00, 51.84it/s]"
          }
        },
        "4eb8635eb1234461b1047b0cc425033f": {
          "model_module": "@jupyter-widgets/base",
          "model_name": "LayoutModel",
          "model_module_version": "1.2.0",
          "state": {
            "_model_module": "@jupyter-widgets/base",
            "_model_module_version": "1.2.0",
            "_model_name": "LayoutModel",
            "_view_count": null,
            "_view_module": "@jupyter-widgets/base",
            "_view_module_version": "1.2.0",
            "_view_name": "LayoutView",
            "align_content": null,
            "align_items": null,
            "align_self": null,
            "border": null,
            "bottom": null,
            "display": null,
            "flex": null,
            "flex_flow": null,
            "grid_area": null,
            "grid_auto_columns": null,
            "grid_auto_flow": null,
            "grid_auto_rows": null,
            "grid_column": null,
            "grid_gap": null,
            "grid_row": null,
            "grid_template_areas": null,
            "grid_template_columns": null,
            "grid_template_rows": null,
            "height": null,
            "justify_content": null,
            "justify_items": null,
            "left": null,
            "margin": null,
            "max_height": null,
            "max_width": null,
            "min_height": null,
            "min_width": null,
            "object_fit": null,
            "object_position": null,
            "order": null,
            "overflow": null,
            "overflow_x": null,
            "overflow_y": null,
            "padding": null,
            "right": null,
            "top": null,
            "visibility": null,
            "width": null
          }
        },
        "26e23156a85640ae849634f14806e86e": {
          "model_module": "@jupyter-widgets/base",
          "model_name": "LayoutModel",
          "model_module_version": "1.2.0",
          "state": {
            "_model_module": "@jupyter-widgets/base",
            "_model_module_version": "1.2.0",
            "_model_name": "LayoutModel",
            "_view_count": null,
            "_view_module": "@jupyter-widgets/base",
            "_view_module_version": "1.2.0",
            "_view_name": "LayoutView",
            "align_content": null,
            "align_items": null,
            "align_self": null,
            "border": null,
            "bottom": null,
            "display": null,
            "flex": null,
            "flex_flow": null,
            "grid_area": null,
            "grid_auto_columns": null,
            "grid_auto_flow": null,
            "grid_auto_rows": null,
            "grid_column": null,
            "grid_gap": null,
            "grid_row": null,
            "grid_template_areas": null,
            "grid_template_columns": null,
            "grid_template_rows": null,
            "height": null,
            "justify_content": null,
            "justify_items": null,
            "left": null,
            "margin": null,
            "max_height": null,
            "max_width": null,
            "min_height": null,
            "min_width": null,
            "object_fit": null,
            "object_position": null,
            "order": null,
            "overflow": null,
            "overflow_x": null,
            "overflow_y": null,
            "padding": null,
            "right": null,
            "top": null,
            "visibility": null,
            "width": null
          }
        },
        "aff624d1b6ea41bd9b108bb8db1feeba": {
          "model_module": "@jupyter-widgets/controls",
          "model_name": "DescriptionStyleModel",
          "model_module_version": "1.5.0",
          "state": {
            "_model_module": "@jupyter-widgets/controls",
            "_model_module_version": "1.5.0",
            "_model_name": "DescriptionStyleModel",
            "_view_count": null,
            "_view_module": "@jupyter-widgets/base",
            "_view_module_version": "1.2.0",
            "_view_name": "StyleView",
            "description_width": ""
          }
        },
        "aad99b0509b2408282c197ac2acd4570": {
          "model_module": "@jupyter-widgets/base",
          "model_name": "LayoutModel",
          "model_module_version": "1.2.0",
          "state": {
            "_model_module": "@jupyter-widgets/base",
            "_model_module_version": "1.2.0",
            "_model_name": "LayoutModel",
            "_view_count": null,
            "_view_module": "@jupyter-widgets/base",
            "_view_module_version": "1.2.0",
            "_view_name": "LayoutView",
            "align_content": null,
            "align_items": null,
            "align_self": null,
            "border": null,
            "bottom": null,
            "display": null,
            "flex": null,
            "flex_flow": null,
            "grid_area": null,
            "grid_auto_columns": null,
            "grid_auto_flow": null,
            "grid_auto_rows": null,
            "grid_column": null,
            "grid_gap": null,
            "grid_row": null,
            "grid_template_areas": null,
            "grid_template_columns": null,
            "grid_template_rows": null,
            "height": null,
            "justify_content": null,
            "justify_items": null,
            "left": null,
            "margin": null,
            "max_height": null,
            "max_width": null,
            "min_height": null,
            "min_width": null,
            "object_fit": null,
            "object_position": null,
            "order": null,
            "overflow": null,
            "overflow_x": null,
            "overflow_y": null,
            "padding": null,
            "right": null,
            "top": null,
            "visibility": null,
            "width": null
          }
        },
        "5c0abcdfd65248a58b75d3c61af4764c": {
          "model_module": "@jupyter-widgets/controls",
          "model_name": "ProgressStyleModel",
          "model_module_version": "1.5.0",
          "state": {
            "_model_module": "@jupyter-widgets/controls",
            "_model_module_version": "1.5.0",
            "_model_name": "ProgressStyleModel",
            "_view_count": null,
            "_view_module": "@jupyter-widgets/base",
            "_view_module_version": "1.2.0",
            "_view_name": "StyleView",
            "bar_color": null,
            "description_width": ""
          }
        },
        "76e2bada88b94031a735f3ac995d4819": {
          "model_module": "@jupyter-widgets/base",
          "model_name": "LayoutModel",
          "model_module_version": "1.2.0",
          "state": {
            "_model_module": "@jupyter-widgets/base",
            "_model_module_version": "1.2.0",
            "_model_name": "LayoutModel",
            "_view_count": null,
            "_view_module": "@jupyter-widgets/base",
            "_view_module_version": "1.2.0",
            "_view_name": "LayoutView",
            "align_content": null,
            "align_items": null,
            "align_self": null,
            "border": null,
            "bottom": null,
            "display": null,
            "flex": null,
            "flex_flow": null,
            "grid_area": null,
            "grid_auto_columns": null,
            "grid_auto_flow": null,
            "grid_auto_rows": null,
            "grid_column": null,
            "grid_gap": null,
            "grid_row": null,
            "grid_template_areas": null,
            "grid_template_columns": null,
            "grid_template_rows": null,
            "height": null,
            "justify_content": null,
            "justify_items": null,
            "left": null,
            "margin": null,
            "max_height": null,
            "max_width": null,
            "min_height": null,
            "min_width": null,
            "object_fit": null,
            "object_position": null,
            "order": null,
            "overflow": null,
            "overflow_x": null,
            "overflow_y": null,
            "padding": null,
            "right": null,
            "top": null,
            "visibility": null,
            "width": null
          }
        },
        "142ba99b8bed426ea5f969a0e72cbfb3": {
          "model_module": "@jupyter-widgets/controls",
          "model_name": "DescriptionStyleModel",
          "model_module_version": "1.5.0",
          "state": {
            "_model_module": "@jupyter-widgets/controls",
            "_model_module_version": "1.5.0",
            "_model_name": "DescriptionStyleModel",
            "_view_count": null,
            "_view_module": "@jupyter-widgets/base",
            "_view_module_version": "1.2.0",
            "_view_name": "StyleView",
            "description_width": ""
          }
        }
      }
    }
  },
  "cells": [
    {
      "cell_type": "code",
      "execution_count": null,
      "metadata": {
        "id": "5lNdbKZWK8o6"
      },
      "outputs": [],
      "source": [
        "import torch\n",
        "from torch import nn\n",
        "import torchvision\n",
        "from torchvision import datasets\n",
        "from torchvision import transforms\n",
        "from torchvision.transforms import ToTensor\n",
        "\n",
        "import matplotlib.pyplot as plt"
      ]
    },
    {
      "cell_type": "code",
      "source": [
        "train_data = datasets.FashionMNIST(root='data', train= True, download = True, transform = ToTensor(), target_transform= None )\n",
        "test_data = datasets.FashionMNIST(root='data', train= False, download = True, transform = ToTensor(), target_transform= None )"
      ],
      "metadata": {
        "id": "qZ2J_QygT8nt",
        "colab": {
          "base_uri": "https://localhost:8080/"
        },
        "outputId": "346f9a94-15b4-4780-c030-fb0c7df04229"
      },
      "execution_count": null,
      "outputs": [
        {
          "output_type": "stream",
          "name": "stdout",
          "text": [
            "Downloading http://fashion-mnist.s3-website.eu-central-1.amazonaws.com/train-images-idx3-ubyte.gz\n",
            "Downloading http://fashion-mnist.s3-website.eu-central-1.amazonaws.com/train-images-idx3-ubyte.gz to data/FashionMNIST/raw/train-images-idx3-ubyte.gz\n"
          ]
        },
        {
          "output_type": "stream",
          "name": "stderr",
          "text": [
            "100%|██████████| 26421880/26421880 [00:06<00:00, 4326289.84it/s] \n"
          ]
        },
        {
          "output_type": "stream",
          "name": "stdout",
          "text": [
            "Extracting data/FashionMNIST/raw/train-images-idx3-ubyte.gz to data/FashionMNIST/raw\n",
            "\n",
            "Downloading http://fashion-mnist.s3-website.eu-central-1.amazonaws.com/train-labels-idx1-ubyte.gz\n",
            "Downloading http://fashion-mnist.s3-website.eu-central-1.amazonaws.com/train-labels-idx1-ubyte.gz to data/FashionMNIST/raw/train-labels-idx1-ubyte.gz\n"
          ]
        },
        {
          "output_type": "stream",
          "name": "stderr",
          "text": [
            "100%|██████████| 29515/29515 [00:00<00:00, 303775.47it/s]\n"
          ]
        },
        {
          "output_type": "stream",
          "name": "stdout",
          "text": [
            "Extracting data/FashionMNIST/raw/train-labels-idx1-ubyte.gz to data/FashionMNIST/raw\n",
            "\n",
            "Downloading http://fashion-mnist.s3-website.eu-central-1.amazonaws.com/t10k-images-idx3-ubyte.gz\n",
            "Downloading http://fashion-mnist.s3-website.eu-central-1.amazonaws.com/t10k-images-idx3-ubyte.gz to data/FashionMNIST/raw/t10k-images-idx3-ubyte.gz\n"
          ]
        },
        {
          "output_type": "stream",
          "name": "stderr",
          "text": [
            "100%|██████████| 4422102/4422102 [00:00<00:00, 4943684.17it/s]\n"
          ]
        },
        {
          "output_type": "stream",
          "name": "stdout",
          "text": [
            "Extracting data/FashionMNIST/raw/t10k-images-idx3-ubyte.gz to data/FashionMNIST/raw\n",
            "\n",
            "Downloading http://fashion-mnist.s3-website.eu-central-1.amazonaws.com/t10k-labels-idx1-ubyte.gz\n",
            "Downloading http://fashion-mnist.s3-website.eu-central-1.amazonaws.com/t10k-labels-idx1-ubyte.gz to data/FashionMNIST/raw/t10k-labels-idx1-ubyte.gz\n"
          ]
        },
        {
          "output_type": "stream",
          "name": "stderr",
          "text": [
            "100%|██████████| 5148/5148 [00:00<00:00, 13930501.29it/s]\n"
          ]
        },
        {
          "output_type": "stream",
          "name": "stdout",
          "text": [
            "Extracting data/FashionMNIST/raw/t10k-labels-idx1-ubyte.gz to data/FashionMNIST/raw\n",
            "\n"
          ]
        }
      ]
    },
    {
      "cell_type": "code",
      "source": [
        "len(train_data), len(test_data)"
      ],
      "metadata": {
        "colab": {
          "base_uri": "https://localhost:8080/"
        },
        "id": "TW3RKrW0XIBM",
        "outputId": "5345e0af-992b-4664-fefd-4bb94e07e4c6"
      },
      "execution_count": null,
      "outputs": [
        {
          "output_type": "execute_result",
          "data": {
            "text/plain": [
              "(60000, 10000)"
            ]
          },
          "metadata": {},
          "execution_count": 3
        }
      ]
    },
    {
      "cell_type": "code",
      "source": [
        "image, label = train_data[0]"
      ],
      "metadata": {
        "id": "tbHUZ5a_XhH5"
      },
      "execution_count": null,
      "outputs": []
    },
    {
      "cell_type": "code",
      "source": [
        "image, label"
      ],
      "metadata": {
        "colab": {
          "base_uri": "https://localhost:8080/"
        },
        "id": "VySoRYgGXoCT",
        "outputId": "b417c369-ba63-4a71-98a4-4e1cf6f424c4"
      },
      "execution_count": null,
      "outputs": [
        {
          "output_type": "execute_result",
          "data": {
            "text/plain": [
              "(tensor([[[0.0000, 0.0000, 0.0000, 0.0000, 0.0000, 0.0000, 0.0000, 0.0000,\n",
              "           0.0000, 0.0000, 0.0000, 0.0000, 0.0000, 0.0000, 0.0000, 0.0000,\n",
              "           0.0000, 0.0000, 0.0000, 0.0000, 0.0000, 0.0000, 0.0000, 0.0000,\n",
              "           0.0000, 0.0000, 0.0000, 0.0000],\n",
              "          [0.0000, 0.0000, 0.0000, 0.0000, 0.0000, 0.0000, 0.0000, 0.0000,\n",
              "           0.0000, 0.0000, 0.0000, 0.0000, 0.0000, 0.0000, 0.0000, 0.0000,\n",
              "           0.0000, 0.0000, 0.0000, 0.0000, 0.0000, 0.0000, 0.0000, 0.0000,\n",
              "           0.0000, 0.0000, 0.0000, 0.0000],\n",
              "          [0.0000, 0.0000, 0.0000, 0.0000, 0.0000, 0.0000, 0.0000, 0.0000,\n",
              "           0.0000, 0.0000, 0.0000, 0.0000, 0.0000, 0.0000, 0.0000, 0.0000,\n",
              "           0.0000, 0.0000, 0.0000, 0.0000, 0.0000, 0.0000, 0.0000, 0.0000,\n",
              "           0.0000, 0.0000, 0.0000, 0.0000],\n",
              "          [0.0000, 0.0000, 0.0000, 0.0000, 0.0000, 0.0000, 0.0000, 0.0000,\n",
              "           0.0000, 0.0000, 0.0000, 0.0000, 0.0039, 0.0000, 0.0000, 0.0510,\n",
              "           0.2863, 0.0000, 0.0000, 0.0039, 0.0157, 0.0000, 0.0000, 0.0000,\n",
              "           0.0000, 0.0039, 0.0039, 0.0000],\n",
              "          [0.0000, 0.0000, 0.0000, 0.0000, 0.0000, 0.0000, 0.0000, 0.0000,\n",
              "           0.0000, 0.0000, 0.0000, 0.0000, 0.0118, 0.0000, 0.1412, 0.5333,\n",
              "           0.4980, 0.2431, 0.2118, 0.0000, 0.0000, 0.0000, 0.0039, 0.0118,\n",
              "           0.0157, 0.0000, 0.0000, 0.0118],\n",
              "          [0.0000, 0.0000, 0.0000, 0.0000, 0.0000, 0.0000, 0.0000, 0.0000,\n",
              "           0.0000, 0.0000, 0.0000, 0.0000, 0.0235, 0.0000, 0.4000, 0.8000,\n",
              "           0.6902, 0.5255, 0.5647, 0.4824, 0.0902, 0.0000, 0.0000, 0.0000,\n",
              "           0.0000, 0.0471, 0.0392, 0.0000],\n",
              "          [0.0000, 0.0000, 0.0000, 0.0000, 0.0000, 0.0000, 0.0000, 0.0000,\n",
              "           0.0000, 0.0000, 0.0000, 0.0000, 0.0000, 0.0000, 0.6078, 0.9255,\n",
              "           0.8118, 0.6980, 0.4196, 0.6118, 0.6314, 0.4275, 0.2510, 0.0902,\n",
              "           0.3020, 0.5098, 0.2824, 0.0588],\n",
              "          [0.0000, 0.0000, 0.0000, 0.0000, 0.0000, 0.0000, 0.0000, 0.0000,\n",
              "           0.0000, 0.0000, 0.0000, 0.0039, 0.0000, 0.2706, 0.8118, 0.8745,\n",
              "           0.8549, 0.8471, 0.8471, 0.6392, 0.4980, 0.4745, 0.4784, 0.5725,\n",
              "           0.5529, 0.3451, 0.6745, 0.2588],\n",
              "          [0.0000, 0.0000, 0.0000, 0.0000, 0.0000, 0.0000, 0.0000, 0.0000,\n",
              "           0.0000, 0.0039, 0.0039, 0.0039, 0.0000, 0.7843, 0.9098, 0.9098,\n",
              "           0.9137, 0.8980, 0.8745, 0.8745, 0.8431, 0.8353, 0.6431, 0.4980,\n",
              "           0.4824, 0.7686, 0.8980, 0.0000],\n",
              "          [0.0000, 0.0000, 0.0000, 0.0000, 0.0000, 0.0000, 0.0000, 0.0000,\n",
              "           0.0000, 0.0000, 0.0000, 0.0000, 0.0000, 0.7176, 0.8824, 0.8471,\n",
              "           0.8745, 0.8941, 0.9216, 0.8902, 0.8784, 0.8706, 0.8784, 0.8667,\n",
              "           0.8745, 0.9608, 0.6784, 0.0000],\n",
              "          [0.0000, 0.0000, 0.0000, 0.0000, 0.0000, 0.0000, 0.0000, 0.0000,\n",
              "           0.0000, 0.0000, 0.0000, 0.0000, 0.0000, 0.7569, 0.8941, 0.8549,\n",
              "           0.8353, 0.7765, 0.7059, 0.8314, 0.8235, 0.8275, 0.8353, 0.8745,\n",
              "           0.8627, 0.9529, 0.7922, 0.0000],\n",
              "          [0.0000, 0.0000, 0.0000, 0.0000, 0.0000, 0.0000, 0.0000, 0.0000,\n",
              "           0.0000, 0.0039, 0.0118, 0.0000, 0.0471, 0.8588, 0.8627, 0.8314,\n",
              "           0.8549, 0.7529, 0.6627, 0.8902, 0.8157, 0.8549, 0.8784, 0.8314,\n",
              "           0.8863, 0.7725, 0.8196, 0.2039],\n",
              "          [0.0000, 0.0000, 0.0000, 0.0000, 0.0000, 0.0000, 0.0000, 0.0000,\n",
              "           0.0000, 0.0000, 0.0235, 0.0000, 0.3882, 0.9569, 0.8706, 0.8627,\n",
              "           0.8549, 0.7961, 0.7765, 0.8667, 0.8431, 0.8353, 0.8706, 0.8627,\n",
              "           0.9608, 0.4667, 0.6549, 0.2196],\n",
              "          [0.0000, 0.0000, 0.0000, 0.0000, 0.0000, 0.0000, 0.0000, 0.0000,\n",
              "           0.0000, 0.0157, 0.0000, 0.0000, 0.2157, 0.9255, 0.8941, 0.9020,\n",
              "           0.8941, 0.9412, 0.9098, 0.8353, 0.8549, 0.8745, 0.9176, 0.8510,\n",
              "           0.8510, 0.8196, 0.3608, 0.0000],\n",
              "          [0.0000, 0.0000, 0.0039, 0.0157, 0.0235, 0.0275, 0.0078, 0.0000,\n",
              "           0.0000, 0.0000, 0.0000, 0.0000, 0.9294, 0.8863, 0.8510, 0.8745,\n",
              "           0.8706, 0.8588, 0.8706, 0.8667, 0.8471, 0.8745, 0.8980, 0.8431,\n",
              "           0.8549, 1.0000, 0.3020, 0.0000],\n",
              "          [0.0000, 0.0118, 0.0000, 0.0000, 0.0000, 0.0000, 0.0000, 0.0000,\n",
              "           0.0000, 0.2431, 0.5686, 0.8000, 0.8941, 0.8118, 0.8353, 0.8667,\n",
              "           0.8549, 0.8157, 0.8275, 0.8549, 0.8784, 0.8745, 0.8588, 0.8431,\n",
              "           0.8784, 0.9569, 0.6235, 0.0000],\n",
              "          [0.0000, 0.0000, 0.0000, 0.0000, 0.0706, 0.1725, 0.3216, 0.4196,\n",
              "           0.7412, 0.8941, 0.8627, 0.8706, 0.8510, 0.8863, 0.7843, 0.8039,\n",
              "           0.8275, 0.9020, 0.8784, 0.9176, 0.6902, 0.7373, 0.9804, 0.9725,\n",
              "           0.9137, 0.9333, 0.8431, 0.0000],\n",
              "          [0.0000, 0.2235, 0.7333, 0.8157, 0.8784, 0.8667, 0.8784, 0.8157,\n",
              "           0.8000, 0.8392, 0.8157, 0.8196, 0.7843, 0.6235, 0.9608, 0.7569,\n",
              "           0.8078, 0.8745, 1.0000, 1.0000, 0.8667, 0.9176, 0.8667, 0.8275,\n",
              "           0.8627, 0.9098, 0.9647, 0.0000],\n",
              "          [0.0118, 0.7922, 0.8941, 0.8784, 0.8667, 0.8275, 0.8275, 0.8392,\n",
              "           0.8039, 0.8039, 0.8039, 0.8627, 0.9412, 0.3137, 0.5882, 1.0000,\n",
              "           0.8980, 0.8667, 0.7373, 0.6039, 0.7490, 0.8235, 0.8000, 0.8196,\n",
              "           0.8706, 0.8941, 0.8824, 0.0000],\n",
              "          [0.3843, 0.9137, 0.7765, 0.8235, 0.8706, 0.8980, 0.8980, 0.9176,\n",
              "           0.9765, 0.8627, 0.7608, 0.8431, 0.8510, 0.9451, 0.2549, 0.2863,\n",
              "           0.4157, 0.4588, 0.6588, 0.8588, 0.8667, 0.8431, 0.8510, 0.8745,\n",
              "           0.8745, 0.8784, 0.8980, 0.1137],\n",
              "          [0.2941, 0.8000, 0.8314, 0.8000, 0.7569, 0.8039, 0.8275, 0.8824,\n",
              "           0.8471, 0.7255, 0.7725, 0.8078, 0.7765, 0.8353, 0.9412, 0.7647,\n",
              "           0.8902, 0.9608, 0.9373, 0.8745, 0.8549, 0.8314, 0.8196, 0.8706,\n",
              "           0.8627, 0.8667, 0.9020, 0.2627],\n",
              "          [0.1882, 0.7961, 0.7176, 0.7608, 0.8353, 0.7725, 0.7255, 0.7451,\n",
              "           0.7608, 0.7529, 0.7922, 0.8392, 0.8588, 0.8667, 0.8627, 0.9255,\n",
              "           0.8824, 0.8471, 0.7804, 0.8078, 0.7294, 0.7098, 0.6941, 0.6745,\n",
              "           0.7098, 0.8039, 0.8078, 0.4510],\n",
              "          [0.0000, 0.4784, 0.8588, 0.7569, 0.7020, 0.6706, 0.7176, 0.7686,\n",
              "           0.8000, 0.8235, 0.8353, 0.8118, 0.8275, 0.8235, 0.7843, 0.7686,\n",
              "           0.7608, 0.7490, 0.7647, 0.7490, 0.7765, 0.7529, 0.6902, 0.6118,\n",
              "           0.6549, 0.6941, 0.8235, 0.3608],\n",
              "          [0.0000, 0.0000, 0.2902, 0.7412, 0.8314, 0.7490, 0.6863, 0.6745,\n",
              "           0.6863, 0.7098, 0.7255, 0.7373, 0.7412, 0.7373, 0.7569, 0.7765,\n",
              "           0.8000, 0.8196, 0.8235, 0.8235, 0.8275, 0.7373, 0.7373, 0.7608,\n",
              "           0.7529, 0.8471, 0.6667, 0.0000],\n",
              "          [0.0078, 0.0000, 0.0000, 0.0000, 0.2588, 0.7843, 0.8706, 0.9294,\n",
              "           0.9373, 0.9490, 0.9647, 0.9529, 0.9569, 0.8667, 0.8627, 0.7569,\n",
              "           0.7490, 0.7020, 0.7137, 0.7137, 0.7098, 0.6902, 0.6510, 0.6588,\n",
              "           0.3882, 0.2275, 0.0000, 0.0000],\n",
              "          [0.0000, 0.0000, 0.0000, 0.0000, 0.0000, 0.0000, 0.0000, 0.1569,\n",
              "           0.2392, 0.1725, 0.2824, 0.1608, 0.1373, 0.0000, 0.0000, 0.0000,\n",
              "           0.0000, 0.0000, 0.0000, 0.0000, 0.0000, 0.0000, 0.0000, 0.0000,\n",
              "           0.0000, 0.0000, 0.0000, 0.0000],\n",
              "          [0.0000, 0.0000, 0.0000, 0.0000, 0.0000, 0.0000, 0.0000, 0.0000,\n",
              "           0.0000, 0.0000, 0.0000, 0.0000, 0.0000, 0.0000, 0.0000, 0.0000,\n",
              "           0.0000, 0.0000, 0.0000, 0.0000, 0.0000, 0.0000, 0.0000, 0.0000,\n",
              "           0.0000, 0.0000, 0.0000, 0.0000],\n",
              "          [0.0000, 0.0000, 0.0000, 0.0000, 0.0000, 0.0000, 0.0000, 0.0000,\n",
              "           0.0000, 0.0000, 0.0000, 0.0000, 0.0000, 0.0000, 0.0000, 0.0000,\n",
              "           0.0000, 0.0000, 0.0000, 0.0000, 0.0000, 0.0000, 0.0000, 0.0000,\n",
              "           0.0000, 0.0000, 0.0000, 0.0000]]]),\n",
              " 9)"
            ]
          },
          "metadata": {},
          "execution_count": 5
        }
      ]
    },
    {
      "cell_type": "code",
      "source": [
        "class_names = train_data.classes"
      ],
      "metadata": {
        "id": "DUdPJZaWXqbK"
      },
      "execution_count": null,
      "outputs": []
    },
    {
      "cell_type": "code",
      "source": [
        "class_to_idx = train_data.class_to_idx"
      ],
      "metadata": {
        "id": "RWtuIzNjYB5I"
      },
      "execution_count": null,
      "outputs": []
    },
    {
      "cell_type": "code",
      "source": [
        "image.shape , label"
      ],
      "metadata": {
        "colab": {
          "base_uri": "https://localhost:8080/"
        },
        "id": "HJ9MvwU_YViT",
        "outputId": "c043775e-d060-46b4-f706-061ca43d5250"
      },
      "execution_count": null,
      "outputs": [
        {
          "output_type": "execute_result",
          "data": {
            "text/plain": [
              "(torch.Size([1, 28, 28]), 9)"
            ]
          },
          "metadata": {},
          "execution_count": 8
        }
      ]
    },
    {
      "cell_type": "code",
      "source": [
        "print(f\"Image shape: {image.shape} -> [color_channels, height, widht]\")\n",
        "print(f\"Image label: {class_names[label]}\")"
      ],
      "metadata": {
        "id": "nx_4N7UqYkz3",
        "colab": {
          "base_uri": "https://localhost:8080/"
        },
        "outputId": "c069a018-b3a6-41d3-b2dd-3fb5e1326073"
      },
      "execution_count": null,
      "outputs": [
        {
          "output_type": "stream",
          "name": "stdout",
          "text": [
            "Image shape: torch.Size([1, 28, 28]) -> [color_channels, height, widht]\n",
            "Image label: Ankle boot\n"
          ]
        }
      ]
    },
    {
      "cell_type": "code",
      "source": [
        "###1.2 Visualizing our data"
      ],
      "metadata": {
        "id": "NhC65XxjoHxS"
      },
      "execution_count": null,
      "outputs": []
    },
    {
      "cell_type": "code",
      "source": [
        "import matplotlib.pyplot as plt\n",
        "\n",
        "image, label = train_data[0]\n",
        "print(f\"Image shape: {image.shape}\")\n",
        "\n",
        "plt.imshow(image.squeeze())\n",
        "plt.title(label)\n",
        "#"
      ],
      "metadata": {
        "colab": {
          "base_uri": "https://localhost:8080/",
          "height": 488
        },
        "id": "_vFzCYdQoyOS",
        "outputId": "9aa6f929-1d30-4c31-f3f3-31893c010b9c"
      },
      "execution_count": null,
      "outputs": [
        {
          "output_type": "stream",
          "name": "stdout",
          "text": [
            "Image shape: torch.Size([1, 28, 28])\n"
          ]
        },
        {
          "output_type": "execute_result",
          "data": {
            "text/plain": [
              "Text(0.5, 1.0, '9')"
            ]
          },
          "metadata": {},
          "execution_count": 11
        },
        {
          "output_type": "display_data",
          "data": {
            "text/plain": [
              "<Figure size 640x480 with 1 Axes>"
            ],
            "image/png": "[encoded data removed]"
          },
          "metadata": {}
        }
      ]
    },
    {
      "cell_type": "code",
      "source": [
        "plt.imshow(image.squeeze(), cmap=\"gray\")\n",
        "plt.title(class_names[label])\n",
        "plt.axis(False)"
      ],
      "metadata": {
        "colab": {
          "base_uri": "https://localhost:8080/",
          "height": 446
        },
        "id": "TDUoHvfTpBXl",
        "outputId": "6d7a1682-c0b6-4fa5-e1f9-6d394838afc2"
      },
      "execution_count": null,
      "outputs": [
        {
          "output_type": "execute_result",
          "data": {
            "text/plain": [
              "(-0.5, 27.5, 27.5, -0.5)"
            ]
          },
          "metadata": {},
          "execution_count": 12
        },
        {
          "output_type": "display_data",
          "data": {
            "text/plain": [
              "<Figure size 640x480 with 1 Axes>"
            ],
            "image/png": "[encoded data removed]"
          },
          "metadata": {}
        }
      ]
    },
    {
      "cell_type": "code",
      "source": [
        "## PLot more images\n",
        "#torch.manual_seed(42)\n",
        "fig = plt.figure(figsize=(9,9))\n",
        "rows, cols = 4,4\n",
        "for i in range(1, rows*cols+1):\n",
        "  random_idx = torch.randint(0, len(train_data), size=([1])).item()\n",
        "  img, label = train_data[random_idx]\n",
        "  fig.add_subplot(rows, cols, i)\n",
        "  plt.imshow(img.squeeze(), cmap=\"gray\")\n",
        "  plt.title(class_names[label])\n",
        "  plt.axis(False)"
      ],
      "metadata": {
        "colab": {
          "base_uri": "https://localhost:8080/",
          "height": 663
        },
        "id": "fHlvmZfZpgof",
        "outputId": "3252c602-632c-4a85-aac4-e807def0eb98"
      },
      "execution_count": null,
      "outputs": [
        {
          "output_type": "display_data",
          "data": {
            "text/plain": [
              "<Figure size 900x900 with 16 Axes>"
            ],
            "image/png": "[encoded data removed]"
          },
          "metadata": {}
        }
      ]
    },
    {
      "cell_type": "code",
      "source": [
        "##2. Prepare Data Loader"
      ],
      "metadata": {
        "id": "ZCZ_Y8lXqD7A"
      },
      "execution_count": null,
      "outputs": []
    },
    {
      "cell_type": "code",
      "source": [
        "train_data"
      ],
      "metadata": {
        "colab": {
          "base_uri": "https://localhost:8080/"
        },
        "id": "Smh7r7a_w1BL",
        "outputId": "aeaf4186-64ed-4c65-b5f3-be626afc77b1"
      },
      "execution_count": null,
      "outputs": [
        {
          "output_type": "execute_result",
          "data": {
            "text/plain": [
              "Dataset FashionMNIST\n",
              "    Number of datapoints: 60000\n",
              "    Root location: data\n",
              "    Split: Train\n",
              "    StandardTransform\n",
              "Transform: ToTensor()"
            ]
          },
          "metadata": {},
          "execution_count": 15
        }
      ]
    },
    {
      "cell_type": "code",
      "source": [
        "test_data"
      ],
      "metadata": {
        "colab": {
          "base_uri": "https://localhost:8080/"
        },
        "id": "SGEnQ2E6xGyG",
        "outputId": "bd40422e-6488-436f-9e2a-9388ddb05f22"
      },
      "execution_count": null,
      "outputs": [
        {
          "output_type": "execute_result",
          "data": {
            "text/plain": [
              "Dataset FashionMNIST\n",
              "    Number of datapoints: 10000\n",
              "    Root location: data\n",
              "    Split: Test\n",
              "    StandardTransform\n",
              "Transform: ToTensor()"
            ]
          },
          "metadata": {},
          "execution_count": 16
        }
      ]
    },
    {
      "cell_type": "code",
      "source": [
        "from torch.utils.data import DataLoader"
      ],
      "metadata": {
        "id": "XpnM4Fe4xLzT"
      },
      "execution_count": null,
      "outputs": []
    },
    {
      "cell_type": "code",
      "source": [
        "#Setup the batch size hyperparameter\n",
        "\n",
        "BATCH_SIZE = 32\n",
        "\n",
        "#Turn datasets into iterables(bathces)\n",
        "train_dataloader = DataLoader(dataset= train_data, batch_size = BATCH_SIZE, shuffle=True)\n",
        "\n",
        "test_dataloader = DataLoader(dataset=test_data, batch_size=BATCH_SIZE, shuffle=False)\n",
        "\n",
        "train_dataloader, test_dataloader"
      ],
      "metadata": {
        "colab": {
          "base_uri": "https://localhost:8080/"
        },
        "id": "UFoN7GEWy3QP",
        "outputId": "113b458a-5f39-4ca2-d7a4-0c6842f83c0d"
      },
      "execution_count": null,
      "outputs": [
        {
          "output_type": "execute_result",
          "data": {
            "text/plain": [
              "(<torch.utils.data.dataloader.DataLoader at 0x7cdad1554c70>,\n",
              " <torch.utils.data.dataloader.DataLoader at 0x7cdad1587790>)"
            ]
          },
          "metadata": {},
          "execution_count": 18
        }
      ]
    },
    {
      "cell_type": "code",
      "source": [
        "# Lets check out what we ve created\n",
        "\n",
        "print(f\"DataLoader: {train_dataloader, test_dataloader}\")\n",
        "print(f\"Length of train_dataloader: {len(train_dataloader)} batches of {BATCH_SIZE}...\")\n",
        "print(f\"Length of test_dataloader: {len(test_dataloader)} batches of {BATCH_SIZE}...\")"
      ],
      "metadata": {
        "colab": {
          "base_uri": "https://localhost:8080/"
        },
        "id": "hSNDFG2Jzw32",
        "outputId": "bc1ff0cf-b832-48c1-9794-17db83190b2f"
      },
      "execution_count": null,
      "outputs": [
        {
          "output_type": "stream",
          "name": "stdout",
          "text": [
            "DataLoader: (<torch.utils.data.dataloader.DataLoader object at 0x7cdad1554c70>, <torch.utils.data.dataloader.DataLoader object at 0x7cdad1587790>)\n",
            "Length of train_dataloader: 1875 batches of 32...\n",
            "Length of test_dataloader: 313 batches of 32...\n"
          ]
        }
      ]
    },
    {
      "cell_type": "code",
      "source": [
        "# Check out what s inside the training dataloader\n",
        "train_features_batch, train_labels_batch = next(iter(train_dataloader))\n",
        "train_features_batch.shape, train_labels_batch.shape"
      ],
      "metadata": {
        "colab": {
          "base_uri": "https://localhost:8080/"
        },
        "id": "t4xVueA308R8",
        "outputId": "f4b02dc0-d0aa-4242-ad00-18714745d01f"
      },
      "execution_count": null,
      "outputs": [
        {
          "output_type": "execute_result",
          "data": {
            "text/plain": [
              "(torch.Size([32, 1, 28, 28]), torch.Size([32]))"
            ]
          },
          "metadata": {},
          "execution_count": 20
        }
      ]
    },
    {
      "cell_type": "code",
      "source": [
        "# SHow a sample\n",
        "torch.manual_seed(42)\n",
        "random_idx = torch.randint(0, len(train_features_batch), size=[1]).item()\n",
        "img, label = train_features_batch[random_idx], train_labels_batch[random_idx]\n",
        "\n",
        "plt.imshow(img.squeeze(), cmap=\"gray\")\n",
        "plt.title(class_names[label])\n",
        "plt.axis(False)\n",
        "print(f\"Image size: {img.shape}\")\n",
        "print(f\"Label: {label}, label size: {label.shape}\")"
      ],
      "metadata": {
        "colab": {
          "base_uri": "https://localhost:8080/",
          "height": 464
        },
        "id": "C44VSO_K0GO4",
        "outputId": "34f86de5-6424-460f-c266-191a538f3ee6"
      },
      "execution_count": null,
      "outputs": [
        {
          "output_type": "stream",
          "name": "stdout",
          "text": [
            "Image size: torch.Size([1, 28, 28])\n",
            "Label: 5, label size: torch.Size([])\n"
          ]
        },
        {
          "output_type": "display_data",
          "data": {
            "text/plain": [
              "<Figure size 640x480 with 1 Axes>"
            ],
            "image/png": "[encoded data removed]"
          },
          "metadata": {}
        }
      ]
    },
    {
      "cell_type": "code",
      "source": [
        "## Model 0: Build a baseline model.\n",
        "#A baseline model is a simple model you will try and imporve upon with subsequent models/experiments."
      ],
      "metadata": {
        "id": "Q4WhveE81-M9"
      },
      "execution_count": null,
      "outputs": []
    },
    {
      "cell_type": "code",
      "source": [
        "# Create a flatten layer"
      ],
      "metadata": {
        "id": "0hjOleU08RBg"
      },
      "execution_count": null,
      "outputs": []
    },
    {
      "cell_type": "code",
      "source": [
        "flatten_model = nn.Flatten()\n",
        "\n",
        "# Get a single sample\n",
        "x = train_features_batch[0]\n",
        "\n",
        "# Flatten the sample\n",
        "\n",
        "output = flatten_model(x)\n",
        "\n",
        "# Print what happend\n",
        "\n",
        "print(f\"shape before flattening: {x.shape}\")\n",
        "print(f\"shape after flattening: {output.shape}\")"
      ],
      "metadata": {
        "colab": {
          "base_uri": "https://localhost:8080/"
        },
        "id": "PJQLh4q6bqP_",
        "outputId": "d1b0f91a-2e18-49a6-874a-ce7f822c1bea"
      },
      "execution_count": null,
      "outputs": [
        {
          "output_type": "stream",
          "name": "stdout",
          "text": [
            "shape before flattening: torch.Size([1, 28, 28])\n",
            "shape after flattening: torch.Size([1, 784])\n"
          ]
        }
      ]
    },
    {
      "cell_type": "code",
      "source": [
        "from torch import nn\n",
        "class FashionMNISTModelV0(nn.Module):\n",
        "  def __init__(self,\n",
        "               input_shape = int,\n",
        "               hidden_units= int,\n",
        "               output_shape= int):\n",
        "    super().__init__()\n",
        "    self.layer_stack = nn.Sequential(\n",
        "        nn.Flatten(),\n",
        "        nn.Linear(in_features= input_shape, out_features = hidden_units),\n",
        "        nn.Linear(in_features=hidden_units, out_features= output_shape)\n",
        "    )\n",
        "\n",
        "  def forward(self, x):\n",
        "    return(self.layer_stack(x))"
      ],
      "metadata": {
        "id": "lsT9xXrjb2Xp"
      },
      "execution_count": null,
      "outputs": []
    },
    {
      "cell_type": "code",
      "source": [
        "torch.manual_seed(42)\n",
        "\n",
        "#Setup model with input parameters\n",
        "model_0=FashionMNISTModelV0(input_shape = 784,\n",
        "                            hidden_units = 10,\n",
        "                            output_shape = len(class_names))\n",
        "\n",
        "model_0.to('cpu')\n",
        "\n",
        "model_0"
      ],
      "metadata": {
        "colab": {
          "base_uri": "https://localhost:8080/"
        },
        "id": "kiETFIs1cT-I",
        "outputId": "70c2f566-278e-4ced-ab29-60bf2c8b7dc9"
      },
      "execution_count": null,
      "outputs": [
        {
          "output_type": "execute_result",
          "data": {
            "text/plain": [
              "FashionMNISTModelV0(\n",
              "  (layer_stack): Sequential(\n",
              "    (0): Flatten(start_dim=1, end_dim=-1)\n",
              "    (1): Linear(in_features=784, out_features=10, bias=True)\n",
              "    (2): Linear(in_features=10, out_features=10, bias=True)\n",
              "  )\n",
              ")"
            ]
          },
          "metadata": {},
          "execution_count": 26
        }
      ]
    },
    {
      "cell_type": "code",
      "source": [
        "dummy_x = torch.rand([1,1,28,28])\n",
        "model_0(dummy_x)"
      ],
      "metadata": {
        "colab": {
          "base_uri": "https://localhost:8080/"
        },
        "id": "sQ9oo5hse0Ot",
        "outputId": "2bbbe8c4-d8e3-4503-cffd-4b2b8557772e"
      },
      "execution_count": null,
      "outputs": [
        {
          "output_type": "execute_result",
          "data": {
            "text/plain": [
              "tensor([[-0.0315,  0.3171,  0.0531, -0.2525,  0.5959,  0.2112,  0.3233,  0.2694,\n",
              "         -0.1004,  0.0157]], grad_fn=<AddmmBackward0>)"
            ]
          },
          "metadata": {},
          "execution_count": 27
        }
      ]
    },
    {
      "cell_type": "code",
      "source": [
        "model_0.state_dict()"
      ],
      "metadata": {
        "colab": {
          "base_uri": "https://localhost:8080/"
        },
        "id": "YqcvUE5YuqDW",
        "outputId": "90828dde-cdcd-4dc2-a210-8a057b3b5817"
      },
      "execution_count": null,
      "outputs": [
        {
          "output_type": "execute_result",
          "data": {
            "text/plain": [
              "OrderedDict([('layer_stack.1.weight',\n",
              "              tensor([[ 0.0273,  0.0296, -0.0084,  ..., -0.0142,  0.0093,  0.0135],\n",
              "                      [-0.0188, -0.0354,  0.0187,  ..., -0.0106, -0.0001,  0.0115],\n",
              "                      [-0.0008,  0.0017,  0.0045,  ..., -0.0127, -0.0188,  0.0059],\n",
              "                      ...,\n",
              "                      [-0.0116,  0.0273, -0.0344,  ...,  0.0176,  0.0283, -0.0011],\n",
              "                      [-0.0230,  0.0257,  0.0291,  ..., -0.0187, -0.0087,  0.0001],\n",
              "                      [ 0.0176, -0.0147,  0.0053,  ..., -0.0336, -0.0221,  0.0205]])),\n",
              "             ('layer_stack.1.bias',\n",
              "              tensor([-0.0093,  0.0283, -0.0033,  0.0255,  0.0017,  0.0037, -0.0302, -0.0123,\n",
              "                       0.0018,  0.0163])),\n",
              "             ('layer_stack.2.weight',\n",
              "              tensor([[ 0.0614, -0.0687,  0.0021,  0.2718,  0.2109,  0.1079, -0.2279, -0.1063,\n",
              "                        0.2019,  0.2847],\n",
              "                      [-0.1495,  0.1344, -0.0740,  0.2006, -0.0475, -0.2514, -0.3130, -0.0118,\n",
              "                        0.0932, -0.1864],\n",
              "                      [ 0.2488,  0.1500,  0.1907,  0.1457, -0.3050, -0.0580,  0.1643,  0.1565,\n",
              "                       -0.2877, -0.1792],\n",
              "                      [ 0.2305, -0.2618,  0.2397, -0.0610,  0.0232,  0.1542,  0.0851, -0.2027,\n",
              "                        0.1030, -0.2715],\n",
              "                      [-0.1596, -0.0555, -0.0633,  0.2302, -0.1726,  0.2654,  0.1473,  0.1029,\n",
              "                        0.2252, -0.2160],\n",
              "                      [-0.2725,  0.0118,  0.1559,  0.1596,  0.0132,  0.3024,  0.1124,  0.1366,\n",
              "                       -0.1533,  0.0965],\n",
              "                      [-0.1184, -0.2555, -0.2057, -0.1909, -0.0477, -0.1324,  0.2905,  0.1307,\n",
              "                       -0.2629,  0.0133],\n",
              "                      [ 0.2727, -0.0127,  0.0513,  0.0863, -0.1043, -0.2047, -0.1185, -0.0825,\n",
              "                        0.2488, -0.2571],\n",
              "                      [ 0.0425, -0.1209, -0.0336, -0.0281, -0.1227,  0.0730,  0.0747, -0.1816,\n",
              "                        0.1943,  0.2853],\n",
              "                      [-0.1310,  0.0645, -0.1171,  0.2168, -0.0245, -0.2820,  0.0736,  0.2621,\n",
              "                        0.0012, -0.0810]])),\n",
              "             ('layer_stack.2.bias',\n",
              "              tensor([-0.0087,  0.1791,  0.2712, -0.0791,  0.1685,  0.1762,  0.2825,  0.2266,\n",
              "                      -0.2612, -0.2613]))])"
            ]
          },
          "metadata": {},
          "execution_count": 28
        }
      ]
    },
    {
      "cell_type": "code",
      "source": [
        "## 3.1 Setup loss, optimizer and evaluation metrics"
      ],
      "metadata": {
        "id": "_Fp8dNXcDd4H"
      },
      "execution_count": null,
      "outputs": []
    },
    {
      "cell_type": "code",
      "source": [
        "##Loss function - since we are working with multi-class data, our loss function will be nn.CrossEntropyLoss()"
      ],
      "metadata": {
        "id": "hmOy6CuiDzNA"
      },
      "execution_count": null,
      "outputs": []
    },
    {
      "cell_type": "code",
      "source": [
        "## Optimizer - our otimizer torch.optim.SGD()\n",
        "# Evaluation metric - since we are working on a classification problem lets use accuracy as our evaluation metric."
      ],
      "metadata": {
        "id": "9vahdSPKEA50"
      },
      "execution_count": null,
      "outputs": []
    },
    {
      "cell_type": "code",
      "source": [
        "import requests\n",
        "from pathlib import Path\n",
        "## Wowload helper function from pytorch repo\n",
        "if Path(\"helper_functions.py\").is_file():\n",
        "  print(\"helper_functions.py already exists, skipping download...\")\n",
        "else:\n",
        "  print(\"Downloading helper_functions.py\")\n",
        "  request = requests.get(\"https://raw.githubusercontent.com/mrdbourke/pytorch-deep-learning/main/helper_functions.py\")\n",
        "  with open(\"helper_functions.py\", \"wb\") as f:\n",
        "    f.write(request.content)"
      ],
      "metadata": {
        "colab": {
          "base_uri": "https://localhost:8080/"
        },
        "id": "g_NZ_mTFEUBq",
        "outputId": "fafca1ea-eecd-4dfc-c437-aafee6e33ee0"
      },
      "execution_count": null,
      "outputs": [
        {
          "output_type": "stream",
          "name": "stdout",
          "text": [
            "Downloading helper_functions.py\n"
          ]
        }
      ]
    },
    {
      "cell_type": "code",
      "source": [
        "# Import accuracy metric\n",
        "\n",
        "from helper_functions import accuracy_fn\n",
        "\n",
        "# Setup loss function and optimizer\n",
        "\n",
        "loss_fn = nn.CrossEntropyLoss()\n",
        "optimizer = torch.optim.SGD(params = model_0.parameters(),\n",
        "                            lr=0.1)"
      ],
      "metadata": {
        "id": "d9gFZxUWFuKk"
      },
      "execution_count": null,
      "outputs": []
    },
    {
      "cell_type": "code",
      "source": [
        "## 3.2 Creating a function to time our experiments\n",
        "\n",
        "##Machine learning is very experimantal\n",
        "\n",
        "#Two of the main things you ll often want to track are\n",
        "#1. Models performance\n",
        "#2. How fast it runs"
      ],
      "metadata": {
        "id": "Dpyvji6rF9I2"
      },
      "execution_count": null,
      "outputs": []
    },
    {
      "cell_type": "code",
      "source": [
        "from timeit import default_timer as timer\n",
        "\n",
        "def print_train_time(start: float,\n",
        "                      end: float,\n",
        "                      device: torch.device = None):\n",
        "  \"\"\"Prints difference between start and end time.\"\"\"\n",
        "  total_time = end-start\n",
        "  print(f\"Train time on {device}: {total_time:.3F} seconds\")\n",
        "  return total_time"
      ],
      "metadata": {
        "id": "H6Md4cD_GWsD"
      },
      "execution_count": null,
      "outputs": []
    },
    {
      "cell_type": "code",
      "source": [
        "start_time = timer()\n",
        "end_time = timer()\n",
        "print_train_time(start=start_time, end=end_time, device='cpu')"
      ],
      "metadata": {
        "colab": {
          "base_uri": "https://localhost:8080/"
        },
        "id": "euYDzqjeHpNO",
        "outputId": "2dacc3b0-3be8-44e3-a135-0ee391ff0ab5"
      },
      "execution_count": null,
      "outputs": [
        {
          "output_type": "stream",
          "name": "stdout",
          "text": [
            "Train time on cpu: 0.000 seconds\n"
          ]
        },
        {
          "output_type": "execute_result",
          "data": {
            "text/plain": [
              "5.097199999681834e-05"
            ]
          },
          "metadata": {},
          "execution_count": 36
        }
      ]
    },
    {
      "cell_type": "code",
      "source": [
        "## 3.3 Creating a training loop and trainig a model on batches of data"
      ],
      "metadata": {
        "id": "vM6NzoK0H0V3"
      },
      "execution_count": null,
      "outputs": []
    },
    {
      "cell_type": "code",
      "source": [
        "# 1. Loop through epochs.\n",
        "#2. Loop through training batches, perform training steps, calculate the train loss\n",
        "# 3 . Loo through testing batches, perform testing steps, calculates the tess loss\n",
        "#4. Print out whats happening\n",
        "#5. Time it all\n"
      ],
      "metadata": {
        "id": "bJif9q9WIilX"
      },
      "execution_count": null,
      "outputs": []
    },
    {
      "cell_type": "code",
      "source": [
        "# import tqdm for progress bar\n",
        "from tqdm.auto import tqdm\n",
        "\n",
        "# Set the seed and start the timer\n",
        "\n",
        "torch.manual_seed(42)\n",
        "train_time_start_on_cpu= timer()\n",
        "\n",
        "#Set the number of epochs\n",
        "epochs = 3\n",
        "\n",
        "# Create training and test loop\n",
        "\n",
        "for epochs in tqdm(range(epochs)):\n",
        "  print(f'Epochs: {epochs}\\n-----')\n",
        "  ### Training\n",
        "  train_loss = 0\n",
        "  # Add a loop to loop throigh the training batches\n",
        "  for batch, (X,y) in enumerate(train_dataloader):\n",
        "    model_0.train()\n",
        "    #1 Forwared pass\n",
        "    y_pred = model_0(X)\n",
        "\n",
        "    #2. Calculate the loss\n",
        "    loss = loss_fn(y_pred, y)\n",
        "    train_loss += loss # accumulate train loss\n",
        "\n",
        "    #3. Optmizer zero grad\n",
        "    optimizer.zero_grad()\n",
        "\n",
        "    #4. Loss backward\n",
        "    loss.backward()\n",
        "\n",
        "    #5. Optmizer step\n",
        "    optimizer.step()\n",
        "\n",
        "    # Print out what happening\n",
        "\n",
        "    if batch % 400 == 0:\n",
        "\n",
        "      print(f\"Looked at {batch * len(X)}/{len(train_dataloader.dataset)} samples.\")\n",
        "\n",
        "# Divide total train loss by length of train dataloader\n",
        "  train_loss /= len(train_dataloader)\n",
        "\n",
        "  ### Testing loop\n",
        "\n",
        "  test_loss, test_acc = 0, 0\n",
        "  model_0.eval()\n",
        "  with torch.inference_mode():\n",
        "    for X_test, y_test in test_dataloader:\n",
        "      #1. Forward pass\n",
        "      test_pred= model_0(X_test)\n",
        "\n",
        "      #2. Calculate loss(accumalatively)\n",
        "      test_loss += loss_fn(test_pred, y_test)\n",
        "\n",
        "      #3. Calculate accuracy\n",
        "      test_acc+= accuracy_fn(y_true = y_test, y_pred=test_pred.argmax(dim=1))\n",
        "\n",
        "    #Calculate test lodd avergae per batch\n",
        "\n",
        "    test_loss /= len(test_dataloader)\n",
        "\n",
        "    # Calculate the test acc average per batch\n",
        "\n",
        "    test_acc/= len(test_dataloader)\n",
        "\n",
        "  # Print what happening\n",
        "  print(f\" \\nTrain loss :{ train_loss: .4f} | Test loss: {test_loss: .4f}, Test acc: {test_acc:.4f}\")\n",
        "\n",
        "# Calculate training time\n",
        "\n",
        "train_time_end_on_cpu = timer()\n",
        "\n",
        "total_train_time_model_0= print_train_time(start= train_time_start_on_cpu,\n",
        "                                            end = train_time_end_on_cpu,\n",
        "                                            device=str(next(model_0.parameters()).device))\n"
      ],
      "metadata": {
        "colab": {
          "base_uri": "https://localhost:8080/",
          "height": 549,
          "referenced_widgets": [
            "03d0aee4516d4a778a870f980d9d0d01",
            "f5db35039af742c6980da54b3246741a",
            "4cf9c83a6699471898a0b1d529c5b3bc",
            "82823c621e664613ad90eb794dd45c9b",
            "b250a500c4cf4ea2910c24bfa1ee3040",
            "862fedbfa3f04c119d4087583a372185",
            "7a0eea6ac1d1437fa3fa5712c092f4f8",
            "f5cddf040b5c41c3b38756035cf98886",
            "a742328082604fd98518c875a25fa254",
            "1e58ca17b8c64585b00da4dee621f9a8",
            "6b9e2b65f30f4189baa64feb2457dd9c"
          ]
        },
        "id": "Zkb6A0mlJHyo",
        "outputId": "002b80a9-7617-4c59-e4ca-a3350f595837"
      },
      "execution_count": null,
      "outputs": [
        {
          "output_type": "display_data",
          "data": {
            "text/plain": [
              "  0%|          | 0/3 [00:00<?, ?it/s]"
            ],
            "application/vnd.jupyter.widget-view+json": {
              "version_major": 2,
              "version_minor": 0,
              "model_id": "03d0aee4516d4a778a870f980d9d0d01"
            }
          },
          "metadata": {}
        },
        {
          "output_type": "stream",
          "name": "stdout",
          "text": [
            "Epochs: 0\n",
            "-----\n",
            "Looked at 0/60000 samples.\n",
            "Looked at 12800/60000 samples.\n",
            "Looked at 25600/60000 samples.\n",
            "Looked at 38400/60000 samples.\n",
            "Looked at 51200/60000 samples.\n",
            " \n",
            "Train loss : 0.5904 | Test loss:  0.5095, Test acc: 82.0387\n",
            "Epochs: 1\n",
            "-----\n",
            "Looked at 0/60000 samples.\n",
            "Looked at 12800/60000 samples.\n",
            "Looked at 25600/60000 samples.\n",
            "Looked at 38400/60000 samples.\n",
            "Looked at 51200/60000 samples.\n",
            " \n",
            "Train loss : 0.4763 | Test loss:  0.4799, Test acc: 83.1969\n",
            "Epochs: 2\n",
            "-----\n",
            "Looked at 0/60000 samples.\n",
            "Looked at 12800/60000 samples.\n",
            "Looked at 25600/60000 samples.\n",
            "Looked at 38400/60000 samples.\n",
            "Looked at 51200/60000 samples.\n",
            " \n",
            "Train loss : 0.4550 | Test loss:  0.4766, Test acc: 83.4265\n",
            "Train time on cpu: 36.034 seconds\n"
          ]
        }
      ]
    },
    {
      "cell_type": "code",
      "source": [
        "# 4. Make predictions and get Model 0 results"
      ],
      "metadata": {
        "id": "w5lvWHnFN2qq"
      },
      "execution_count": null,
      "outputs": []
    },
    {
      "cell_type": "code",
      "source": [
        "torch.manual_seed(42)\n",
        "\n",
        "def eval_model(model: torch.nn.Module,\n",
        "               data_loader: torch.utils.data.DataLoader,\n",
        "               loss_fn: torch.nn.Module,\n",
        "               accuracy_fn):\n",
        "  loss, acc = 0, 0\n",
        "  model.eval()\n",
        "\n",
        "  with torch.inference_mode():\n",
        "    for X, y in tqdm(data_loader):\n",
        "      # make predictions\n",
        "      y_pred = model(X)\n",
        "      # Accumulate the loss and acc values per batch\n",
        "\n",
        "      loss+= loss_fn(y_pred, y)\n",
        "      acc+= accuracy_fn(y_true=y,\n",
        "                        y_pred = y_pred.argmax(dim=1))\n",
        "\n",
        "    #Scale loss and acc to find the avergate loss/acc per batch\n",
        "    loss /= len(data_loader)\n",
        "\n",
        "    acc/= len(data_loader)\n",
        "\n",
        "  return{\"model_name\": model.__class__.__name__, # only works when model was created with a class\n",
        "         \"model_loss\": loss.item(),\n",
        "         \"model_acc\": acc}\n",
        "\n",
        "# calculate model 0 results on test dataset\n",
        "\n",
        "model_0_results = eval_model(model=model_0,\n",
        "                             data_loader= test_dataloader,\n",
        "                             loss_fn = loss_fn,\n",
        "                             accuracy_fn = accuracy_fn)\n",
        "model_0_results"
      ],
      "metadata": {
        "colab": {
          "base_uri": "https://localhost:8080/",
          "height": 103,
          "referenced_widgets": [
            "fa4a7b39bb2e441cbbaf8b76098a6565",
            "632b4c18d70e40c7830e2a39e42c4177",
            "01e7afad08d34ef6b8709d430849442f",
            "eeea985eb19f4888b602c8708a8e1ebc",
            "759fc9b57526486daf98bd2b5f8ae864",
            "4794979cee2249eba59f965c0b412d18",
            "17b51bd8b8bc43d19f5a11c77ba5686f",
            "08911a2a0acb4991ba205a9ef1fecf2f",
            "707b59987dcb43f78d638d18cfb620a0",
            "a0debd50fa424abd985db1b11fe6a9bd",
            "5884b38fd28043cd81a702d94b375272"
          ]
        },
        "id": "IWchv-TZQS-c",
        "outputId": "5fd18138-886a-4b05-e0f4-65d0859bcfad"
      },
      "execution_count": null,
      "outputs": [
        {
          "output_type": "display_data",
          "data": {
            "text/plain": [
              "  0%|          | 0/313 [00:00<?, ?it/s]"
            ],
            "application/vnd.jupyter.widget-view+json": {
              "version_major": 2,
              "version_minor": 0,
              "model_id": "fa4a7b39bb2e441cbbaf8b76098a6565"
            }
          },
          "metadata": {}
        },
        {
          "output_type": "execute_result",
          "data": {
            "text/plain": [
              "{'model_name': 'FashionMNISTModelV0',\n",
              " 'model_loss': 0.47663894295692444,\n",
              " 'model_acc': 83.42651757188499}"
            ]
          },
          "metadata": {},
          "execution_count": 41
        }
      ]
    },
    {
      "cell_type": "code",
      "source": [
        "## 5. Setup device agnostic-code (for using a GPU if there is one)"
      ],
      "metadata": {
        "id": "O4WdhaFOQvDL"
      },
      "execution_count": null,
      "outputs": []
    },
    {
      "cell_type": "code",
      "source": [
        "torch.cuda.is_available()"
      ],
      "metadata": {
        "colab": {
          "base_uri": "https://localhost:8080/"
        },
        "id": "d2k-OStTUpvv",
        "outputId": "0b07225b-5169-4975-ce2e-2a4e61a4f963"
      },
      "execution_count": null,
      "outputs": [
        {
          "output_type": "execute_result",
          "data": {
            "text/plain": [
              "False"
            ]
          },
          "metadata": {},
          "execution_count": 43
        }
      ]
    },
    {
      "cell_type": "code",
      "source": [
        "import torch\n",
        "\n",
        "device = \"cuda\" if torch.cuda.is_available() else \"cpu\"\n",
        "\n",
        "device"
      ],
      "metadata": {
        "colab": {
          "base_uri": "https://localhost:8080/",
          "height": 35
        },
        "id": "dJczUaZt0PqS",
        "outputId": "b5db793b-29fd-4498-a47d-475f13e59f8e"
      },
      "execution_count": null,
      "outputs": [
        {
          "output_type": "execute_result",
          "data": {
            "text/plain": [
              "'cpu'"
            ],
            "application/vnd.google.colaboratory.intrinsic+json": {
              "type": "string"
            }
          },
          "metadata": {},
          "execution_count": 44
        }
      ]
    },
    {
      "cell_type": "code",
      "source": [
        "## Model 1: Building a better model with non linearity\n",
        "\n",
        "# Create a model with non linear and linear layers"
      ],
      "metadata": {
        "id": "SjZLOE5_0x_a"
      },
      "execution_count": null,
      "outputs": []
    },
    {
      "cell_type": "code",
      "source": [
        "class FashionMNISTModelV1(nn.Module):\n",
        "  def __init__(self,\n",
        "               input_shape:int,\n",
        "               hidden_units:int,\n",
        "               output_shape :int):\n",
        "    super().__init__()\n",
        "\n",
        "    self.layer_stack = nn.Sequential(\n",
        "        nn.Flatten(),\n",
        "        nn.Linear(in_features=input_shape,\n",
        "                out_features=hidden_units),\n",
        "        nn.ReLU(),\n",
        "        nn.Linear(in_features=hidden_units,\n",
        "                out_features=output_shape),\n",
        "        nn.ReLU()\n",
        "    )\n",
        "  def forward(self, x: torch.Tensor):\n",
        "        return self.layer_stack(x)"
      ],
      "metadata": {
        "id": "qvyXkajL1tkP"
      },
      "execution_count": null,
      "outputs": []
    },
    {
      "cell_type": "code",
      "source": [
        "next(model_0.parameters()).device"
      ],
      "metadata": {
        "colab": {
          "base_uri": "https://localhost:8080/"
        },
        "id": "Xachm9S12eL6",
        "outputId": "a5e662de-0259-4770-c003-249912628bd9"
      },
      "execution_count": null,
      "outputs": [
        {
          "output_type": "execute_result",
          "data": {
            "text/plain": [
              "device(type='cpu')"
            ]
          },
          "metadata": {},
          "execution_count": 47
        }
      ]
    },
    {
      "cell_type": "code",
      "source": [
        "#Create an instance of model 1\n",
        "\n",
        "torch.manual_seed(42)\n",
        "model_1 = FashionMNISTModelV1(input_shape=784,\n",
        "                              hidden_units =10,\n",
        "                              output_shape=len(class_names)).to(device)"
      ],
      "metadata": {
        "id": "pueMRbZZ28dS"
      },
      "execution_count": null,
      "outputs": []
    },
    {
      "cell_type": "code",
      "source": [
        "next(model_1.parameters()).device"
      ],
      "metadata": {
        "colab": {
          "base_uri": "https://localhost:8080/"
        },
        "id": "j6YmIMyT3U1w",
        "outputId": "27de118b-2434-46a6-f2d1-e1b1fa14d98b"
      },
      "execution_count": null,
      "outputs": [
        {
          "output_type": "execute_result",
          "data": {
            "text/plain": [
              "device(type='cpu')"
            ]
          },
          "metadata": {},
          "execution_count": 49
        }
      ]
    },
    {
      "cell_type": "code",
      "source": [
        "# Setup loss, optimizer and evaluation metrics\n",
        "# Import accuracy metric\n",
        "\n",
        "from helper_functions import accuracy_fn\n",
        "\n",
        "# Setup loss function and optimizer\n",
        "\n",
        "loss_fn = nn.CrossEntropyLoss()\n",
        "optimizer = torch.optim.SGD(params = model_1.parameters(),\n",
        "                            lr=0.1)"
      ],
      "metadata": {
        "id": "Zi8oUz9N4tI3"
      },
      "execution_count": null,
      "outputs": []
    },
    {
      "cell_type": "code",
      "source": [
        "# Functionizing training and evaluation/testing loops"
      ],
      "metadata": {
        "id": "5SPGmZq73YP3"
      },
      "execution_count": null,
      "outputs": []
    },
    {
      "cell_type": "code",
      "source": [
        "def train_step(model: torch.nn.Module,\n",
        "               data_loader : torch.utils.data.DataLoader,\n",
        "               loss_fn: torch.nn.Module,\n",
        "               optimizer: torch.optim.Optimizer,\n",
        "               accuracy_fn,\n",
        "               device: torch.device=device):\n",
        "  \"\"\"Performs a training with model trying to learn on data_loader.\"\"\"\n",
        "  train_loss, train_acc =0, 0\n",
        "\n",
        "  #Put the model into training mode\n",
        "  model.train()\n",
        "  model.to(device)\n",
        "  # Add a loop to loop throigh the training batches\n",
        "  for batch, (X,y) in enumerate(data_loader):\n",
        "    #Put data on target device\n",
        "    X, y = X.to(device), y.to(device)\n",
        "    #1 Forwared pass\n",
        "    y_pred = model(X)\n",
        "\n",
        "    #2. Calculate the loss and accuracy per batch\n",
        "    loss = loss_fn(y_pred, y)\n",
        "    train_loss += loss # accumulate train loss\n",
        "    train_acc += accuracy_fn(y_true = y,\n",
        "                             y_pred = y_pred.argmax(dim=1)) # go from logits to predictions labels\n",
        "\n",
        "    #3. Optmizer zero grad\n",
        "    optimizer.zero_grad()\n",
        "\n",
        "    #4. Loss backward\n",
        "    loss.backward()\n",
        "\n",
        "    #5. Optmizer step\n",
        "    optimizer.step()\n",
        "\n",
        "# Divide total train loss and accuracy by length of train dataloader\n",
        "  train_loss /= len(data_loader)\n",
        "  train_acc /= len(data_loader)\n",
        "  print(f\"Train loss: {train_loss:.5f} | Train acc:{train_acc:.2f}%\")"
      ],
      "metadata": {
        "id": "D-pK3O0V4Gsg"
      },
      "execution_count": null,
      "outputs": []
    },
    {
      "cell_type": "code",
      "source": [
        "# Functionizing testing loop"
      ],
      "metadata": {
        "id": "35eO96zn8BhQ"
      },
      "execution_count": null,
      "outputs": []
    },
    {
      "cell_type": "code",
      "source": [
        "def test_step(model: torch.nn.Module,\n",
        "               data_loader : torch.utils.data.DataLoader,\n",
        "               loss_fn: torch.nn.Module,\n",
        "               accuracy_fn,\n",
        "               device: torch.device=device):\n",
        "  \"\"\"Performs a training with model trying to learn on data_loader.\"\"\"\n",
        "  test_loss, test_acc = 0, 0\n",
        "  #Put the model into testing mode\n",
        "  model.eval()\n",
        "  #Turn on inference mode context manager\n",
        "  with torch.inference_mode():\n",
        "    for X, y in data_loader:\n",
        "      #Put data on target device\n",
        "      X, y = X.to(device), y.to(device)\n",
        "      #1. Forward pass (outputs raw logits)\n",
        "      test_pred= model(X)\n",
        "\n",
        "      #2. Calculate loss(accumalatively)\n",
        "      test_loss += loss_fn(test_pred, y)\n",
        "\n",
        "      #3. Calculate accuracy\n",
        "      test_acc+= accuracy_fn(y_true = y,\n",
        "                             y_pred=test_pred.argmax(dim=1)) # go from logits to prediciton labels\n",
        "\n",
        "    #Calculate test loss average per batch\n",
        "\n",
        "    test_loss /= len(data_loader)\n",
        "\n",
        "    # Calculate the test acc average per batch\n",
        "\n",
        "    test_acc /= len(data_loader)\n",
        "\n",
        "  # Print what happening\n",
        "  print(f\" \\nTest loss :{ test_loss: .5f} | Test acc: {test_acc:.4f}\")"
      ],
      "metadata": {
        "id": "MP9HNCi272VO"
      },
      "execution_count": null,
      "outputs": []
    },
    {
      "cell_type": "code",
      "source": [
        "# import tqdm for progress bar\n",
        "from tqdm.auto import tqdm\n",
        "\n",
        "# Set the seed and start the timer\n",
        "torch.manual_seed(42)\n",
        "train_time_start_on_device= timer()\n",
        "\n",
        "#Set the number of epochs\n",
        "epochs = 3\n",
        "\n",
        "# Create training and test loop\n",
        "for epochs in tqdm(range(epochs)):\n",
        "  print(f'Epochs: {epochs}\\n-----')\n",
        "  train_step(data_loader = train_dataloader,\n",
        "             model= model_1,\n",
        "             loss_fn= loss_fn,\n",
        "             optimizer= optimizer,\n",
        "             accuracy_fn = accuracy_fn,\n",
        "             device=device)\n",
        "  test_step(model= model_1,\n",
        "            data_loader = train_dataloader,\n",
        "            loss_fn= loss_fn,\n",
        "            accuracy_fn = accuracy_fn,\n",
        "            device=device)\n",
        "\n",
        "# Calculate training time\n",
        "\n",
        "train_time_end_on_device = timer()\n",
        "\n",
        "total_train_time_model_1= print_train_time(start= train_time_start_on_device,\n",
        "                                            end = train_time_end_on_device,\n",
        "                                            device=device)\n"
      ],
      "metadata": {
        "colab": {
          "base_uri": "https://localhost:8080/",
          "height": 335,
          "referenced_widgets": [
            "03c90c5c996e4c5d8eecf56bc0dbdb9a",
            "6a31809dd7594ce888650a37712f0f87",
            "9b21297f7f454ce5a2bb21d32b2bfe6b",
            "7ec492a3f8634d0b9847ec4a19238d0a",
            "5e2dc5b47f564fea83b42b08b4456047",
            "0fd0e42d9d084a208c4846c6e48e4279",
            "298ba590fe79494a977f25226a71a17c",
            "29a5ff4daf494856b44e25518e9a527a",
            "ba415545ccfa47d496ea44bcf28c15da",
            "623f4e33daae46d39dea6c86379202cd",
            "be2eeea5f9d644b8997a100e715c8efb"
          ]
        },
        "id": "UrcqAKKz-bpb",
        "outputId": "b54fa600-d2da-48db-cb7c-0ce75cf745c0"
      },
      "execution_count": null,
      "outputs": [
        {
          "output_type": "display_data",
          "data": {
            "text/plain": [
              "  0%|          | 0/3 [00:00<?, ?it/s]"
            ],
            "application/vnd.jupyter.widget-view+json": {
              "version_major": 2,
              "version_minor": 0,
              "model_id": "03c90c5c996e4c5d8eecf56bc0dbdb9a"
            }
          },
          "metadata": {}
        },
        {
          "output_type": "stream",
          "name": "stdout",
          "text": [
            "Epochs: 0\n",
            "-----\n",
            "Train loss: 1.09199 | Train acc:61.34%\n",
            " \n",
            "Test loss : 0.92727 | Test acc: 66.0050\n",
            "Epochs: 1\n",
            "-----\n",
            "Train loss: 0.73779 | Train acc:73.69%\n",
            " \n",
            "Test loss : 0.68793 | Test acc: 75.4267\n",
            "Epochs: 2\n",
            "-----\n",
            "Train loss: 0.66776 | Train acc:76.08%\n",
            " \n",
            "Test loss : 0.64329 | Test acc: 76.8717\n",
            "Train time on cpu: 57.253 seconds\n"
          ]
        }
      ]
    },
    {
      "cell_type": "code",
      "source": [
        "device"
      ],
      "metadata": {
        "id": "rlgGlRBBAK5M",
        "colab": {
          "base_uri": "https://localhost:8080/",
          "height": 35
        },
        "outputId": "6d794a53-05b1-468b-e624-8d2f3330e3e3"
      },
      "execution_count": null,
      "outputs": [
        {
          "output_type": "execute_result",
          "data": {
            "text/plain": [
              "'cpu'"
            ],
            "application/vnd.google.colaboratory.intrinsic+json": {
              "type": "string"
            }
          },
          "metadata": {},
          "execution_count": 56
        }
      ]
    },
    {
      "cell_type": "code",
      "source": [
        "model_0_results"
      ],
      "metadata": {
        "id": "TPk3r6jlEcai",
        "colab": {
          "base_uri": "https://localhost:8080/"
        },
        "outputId": "9d18af95-3332-43fd-9f0d-5ce6018ddcf3"
      },
      "execution_count": null,
      "outputs": [
        {
          "output_type": "execute_result",
          "data": {
            "text/plain": [
              "{'model_name': 'FashionMNISTModelV0',\n",
              " 'model_loss': 0.47663894295692444,\n",
              " 'model_acc': 83.42651757188499}"
            ]
          },
          "metadata": {},
          "execution_count": 57
        }
      ]
    },
    {
      "cell_type": "code",
      "source": [
        "def eval_model(model: torch.nn.Module,\n",
        "               data_loader: torch.utils.data.DataLoader,\n",
        "               loss_fn: torch.nn.Module,\n",
        "               accuracy_fn,\n",
        "               device=device):\n",
        "  loss, acc = 0, 0\n",
        "  model.eval()\n",
        "\n",
        "  with torch.inference_mode():\n",
        "    for X, y in tqdm(data_loader):\n",
        "      #Make our data device agnostic\n",
        "      X, y = X.to(device), y.to(device)\n",
        "      # make predictions\n",
        "      y_pred = model(X)\n",
        "      # Accumulate the loss and acc values per batch\n",
        "\n",
        "      loss+= loss_fn(y_pred, y)\n",
        "      acc+= accuracy_fn(y_true=y,\n",
        "                        y_pred = y_pred.argmax(dim=1))\n",
        "\n",
        "    #Scale loss and acc to find the avergate loss/acc per batch\n",
        "    loss /= len(data_loader)\n",
        "\n",
        "    acc/= len(data_loader)\n",
        "\n",
        "  return{\"model_name\": model.__class__.__name__, # only works when model was created with a class\n",
        "         \"model_loss\": loss.item(),\n",
        "         \"model_acc\": acc}\n"
      ],
      "metadata": {
        "id": "UzdvEadkDBOz"
      },
      "execution_count": null,
      "outputs": []
    },
    {
      "cell_type": "code",
      "source": [
        "# Get model 1 results dictionary\n",
        "\n",
        "model_1_results = eval_model(model=model_1,\n",
        "                             data_loader = test_dataloader,\n",
        "                             loss_fn=loss_fn,\n",
        "                             accuracy_fn=accuracy_fn,\n",
        "                             device=device)\n",
        "\n",
        "model_1_results"
      ],
      "metadata": {
        "colab": {
          "base_uri": "https://localhost:8080/",
          "height": 103,
          "referenced_widgets": [
            "2fdd8d56e34f4986b9df56e9bde62ab2",
            "43caa736eb2d4ee48b58abf076722d40",
            "b60817e738d94a998142688a77299a2e",
            "5d11025f45184bc08cc7b0ae7acb89b8",
            "5e12dc52766e4a898c1356cd713f1ed3",
            "52dc55ae3e004304b0c3d87d8b308225",
            "17f5d2be231e44248e032a5e80b967c0",
            "3302983d06db4e53b0141a9496193c95",
            "5b26e85c058c46a4a6099c32c908039f",
            "1cdf9e93acfd489b9a6ea910883676c7",
            "f55be62a7a2d4141978ebd5374939aae"
          ]
        },
        "id": "9TP3pcARDT6D",
        "outputId": "39b6ecad-418f-414e-8f30-e211c8873827"
      },
      "execution_count": null,
      "outputs": [
        {
          "output_type": "display_data",
          "data": {
            "text/plain": [
              "  0%|          | 0/313 [00:00<?, ?it/s]"
            ],
            "application/vnd.jupyter.widget-view+json": {
              "version_major": 2,
              "version_minor": 0,
              "model_id": "2fdd8d56e34f4986b9df56e9bde62ab2"
            }
          },
          "metadata": {}
        },
        {
          "output_type": "execute_result",
          "data": {
            "text/plain": [
              "{'model_name': 'FashionMNISTModelV1',\n",
              " 'model_loss': 0.6874349117279053,\n",
              " 'model_acc': 75.65894568690096}"
            ]
          },
          "metadata": {},
          "execution_count": 59
        }
      ]
    },
    {
      "cell_type": "code",
      "source": [
        "## Model 2: Building a Concolutional Neural Network"
      ],
      "metadata": {
        "id": "No0-3VEqGVzf"
      },
      "execution_count": null,
      "outputs": []
    },
    {
      "cell_type": "code",
      "source": [
        "class FashionMNISTModelV2(nn.Module):\n",
        "  \"\"\"\n",
        "  Model architecture that replicates the TinyVGG\n",
        "  model from CNN explainer website.\n",
        "\n",
        "  \"\"\"\n",
        "\n",
        "  def __init__(self, input_shape:int, hidden_units:int, output_shape:int):\n",
        "    super().__init__()\n",
        "    self.conv_block_1 = nn.Sequential(\n",
        "        nn.Conv2d(in_channels = input_shape,\n",
        "                  out_channels = hidden_units,\n",
        "                  kernel_size =3,\n",
        "                  stride=1,\n",
        "                  padding=1), # Values we can set ourselves in our NNs are called hyperparameters\n",
        "        nn.ReLU(),\n",
        "        nn.Conv2d(in_channels= hidden_units,\n",
        "                  out_channels = hidden_units,\n",
        "                  kernel_size=3,\n",
        "                  stride=1,\n",
        "                  padding=1),\n",
        "        nn.ReLU(),\n",
        "        nn.MaxPool2d(kernel_size=2)\n",
        "    )\n",
        "    self.conv_block_2 = nn.Sequential(\n",
        "        nn.Conv2d(in_channels=hidden_units,\n",
        "                  out_channels=hidden_units,\n",
        "                  kernel_size=3,\n",
        "                  stride=1,\n",
        "                  padding=1),\n",
        "        nn.ReLU(),\n",
        "        nn.Conv2d(in_channels=hidden_units,\n",
        "                  out_channels=hidden_units,\n",
        "                  kernel_size=3,\n",
        "                  stride=1,\n",
        "                  padding=1),\n",
        "        nn.ReLU(),\n",
        "        nn.MaxPool2d(kernel_size=2)\n",
        "    )\n",
        "    self.classifier = nn.Sequential(\n",
        "        nn.Flatten(),\n",
        "        nn.Linear(in_features=hidden_units*7*7, # there is a trick to calculating this ...\n",
        "                  out_features=output_shape)\n",
        "    )\n",
        "\n",
        "  def forward(self,x):\n",
        "    x=self.conv_block_1(x)\n",
        "    #print(f\"Output shape of con_block_1:{x.shape}\")\n",
        "    x=self.conv_block_2(x)\n",
        "    #print(f\"Output shape of con_block_2:{x.shape}\")\n",
        "    x=self.classifier(x)\n",
        "    #print(f\"Output shape of classifier: {x.shape}\")\n",
        "    return x\n",
        "\n"
      ],
      "metadata": {
        "id": "elHxQhsxEIRt"
      },
      "execution_count": null,
      "outputs": []
    },
    {
      "cell_type": "code",
      "source": [
        "torch.manual_seed(42)\n",
        "\n",
        "model_2 = FashionMNISTModelV2(input_shape=1,\n",
        "                              hidden_units=10,\n",
        "                              output_shape=len(class_names)).to(device)"
      ],
      "metadata": {
        "id": "7KvuD_IZR1Lg"
      },
      "execution_count": null,
      "outputs": []
    },
    {
      "cell_type": "code",
      "source": [
        "plt.imshow(image.squeeze(), cmap=\"gray\")"
      ],
      "metadata": {
        "colab": {
          "base_uri": "https://localhost:8080/",
          "height": 448
        },
        "id": "fTrbgUpPZ4rR",
        "outputId": "9f617921-c8c7-48d7-99ab-27d8ec87c039"
      },
      "execution_count": null,
      "outputs": [
        {
          "output_type": "execute_result",
          "data": {
            "text/plain": [
              "<matplotlib.image.AxesImage at 0x7cdad15ac700>"
            ]
          },
          "metadata": {},
          "execution_count": 63
        },
        {
          "output_type": "display_data",
          "data": {
            "text/plain": [
              "<Figure size 640x480 with 1 Axes>"
            ],
            "image/png": "[encoded data removed]"
          },
          "metadata": {}
        }
      ]
    },
    {
      "cell_type": "code",
      "source": [],
      "metadata": {
        "id": "O9YVRs8JbnAP"
      },
      "execution_count": null,
      "outputs": []
    },
    {
      "cell_type": "code",
      "source": [
        "rand_image_tensor = torch.randn(size=(1,28,28))\n",
        "rand_image_tensor.shape"
      ],
      "metadata": {
        "colab": {
          "base_uri": "https://localhost:8080/"
        },
        "id": "3VuFZyioaEuP",
        "outputId": "fc53c203-de9c-44f5-906f-88ec64e770fc"
      },
      "execution_count": null,
      "outputs": [
        {
          "output_type": "execute_result",
          "data": {
            "text/plain": [
              "torch.Size([1, 28, 28])"
            ]
          },
          "metadata": {},
          "execution_count": 64
        }
      ]
    },
    {
      "cell_type": "code",
      "source": [
        "model_2(rand_image_tensor.unsqueeze(0).to(device))"
      ],
      "metadata": {
        "colab": {
          "base_uri": "https://localhost:8080/"
        },
        "id": "Vh9wwSOPaEr5",
        "outputId": "6dbab540-d628-4d02-aca6-f6ad780225db"
      },
      "execution_count": null,
      "outputs": [
        {
          "output_type": "execute_result",
          "data": {
            "text/plain": [
              "tensor([[ 0.0366, -0.0940,  0.0686, -0.0485,  0.0068,  0.0290,  0.0132,  0.0084,\n",
              "         -0.0030, -0.0185]], grad_fn=<AddmmBackward0>)"
            ]
          },
          "metadata": {},
          "execution_count": 65
        }
      ]
    },
    {
      "cell_type": "code",
      "source": [],
      "metadata": {
        "id": "V36PLPOGaEpk"
      },
      "execution_count": null,
      "outputs": []
    },
    {
      "cell_type": "code",
      "source": [],
      "metadata": {
        "id": "Wb7YD6UGaEne"
      },
      "execution_count": null,
      "outputs": []
    },
    {
      "cell_type": "code",
      "source": [],
      "metadata": {
        "id": "jxyTeraoaElI"
      },
      "execution_count": null,
      "outputs": []
    },
    {
      "cell_type": "code",
      "source": [],
      "metadata": {
        "id": "v-gDJuq7aEdX"
      },
      "execution_count": null,
      "outputs": []
    },
    {
      "cell_type": "code",
      "source": [
        "### 7.1 Stepping through nn.Conv2d"
      ],
      "metadata": {
        "id": "m2DmEeqhSVWs"
      },
      "execution_count": null,
      "outputs": []
    },
    {
      "cell_type": "code",
      "source": [
        "torch.manual_seed(42)\n",
        "\n",
        "# Create a batch of images\n",
        "\n",
        "images = torch.randn(size=(32,3,64,64))\n",
        "\n",
        "test_image = images[0]\n",
        "\n",
        "print(f\"Image batch shape: {image.shape}\")\n",
        "print(f\"Single image_shape: {test_image.shape}\")\n",
        "print(f\"Test image: \\n {test_image}\")"
      ],
      "metadata": {
        "colab": {
          "base_uri": "https://localhost:8080/"
        },
        "id": "iXv9PRXIQ0iO",
        "outputId": "fb776d44-8290-4aed-bc05-e9e84c9aebda"
      },
      "execution_count": null,
      "outputs": [
        {
          "output_type": "stream",
          "name": "stdout",
          "text": [
            "Image batch shape: torch.Size([1, 28, 28])\n",
            "Single image_shape: torch.Size([3, 64, 64])\n",
            "Test image: \n",
            " tensor([[[ 1.9269,  1.4873,  0.9007,  ...,  1.8446, -1.1845,  1.3835],\n",
            "         [ 1.4451,  0.8564,  2.2181,  ...,  0.3399,  0.7200,  0.4114],\n",
            "         [ 1.9312,  1.0119, -1.4364,  ..., -0.5558,  0.7043,  0.7099],\n",
            "         ...,\n",
            "         [-0.5610, -0.4830,  0.4770,  ..., -0.2713, -0.9537, -0.6737],\n",
            "         [ 0.3076, -0.1277,  0.0366,  ..., -2.0060,  0.2824, -0.8111],\n",
            "         [-1.5486,  0.0485, -0.7712,  ..., -0.1403,  0.9416, -0.0118]],\n",
            "\n",
            "        [[-0.5197,  1.8524,  1.8365,  ...,  0.8935, -1.5114, -0.8515],\n",
            "         [ 2.0818,  1.0677, -1.4277,  ...,  1.6612, -2.6223, -0.4319],\n",
            "         [-0.1010, -0.4388, -1.9775,  ...,  0.2106,  0.2536, -0.7318],\n",
            "         ...,\n",
            "         [ 0.2779,  0.7342, -0.3736,  ..., -0.4601,  0.1815,  0.1850],\n",
            "         [ 0.7205, -0.2833,  0.0937,  ..., -0.1002, -2.3609,  2.2465],\n",
            "         [-1.3242, -0.1973,  0.2920,  ...,  0.5409,  0.6940,  1.8563]],\n",
            "\n",
            "        [[-0.7978,  1.0261,  1.1465,  ...,  1.2134,  0.9354, -0.0780],\n",
            "         [-1.4647, -1.9571,  0.1017,  ..., -1.9986, -0.7409,  0.7011],\n",
            "         [-1.3938,  0.8466, -1.7191,  ..., -1.1867,  0.1320,  0.3407],\n",
            "         ...,\n",
            "         [ 0.8206, -0.3745,  1.2499,  ..., -0.0676,  0.0385,  0.6335],\n",
            "         [-0.5589, -0.3393,  0.2347,  ...,  2.1181,  2.4569,  1.3083],\n",
            "         [-0.4092,  1.5199,  0.2401,  ..., -0.2558,  0.7870,  0.9924]]])\n"
          ]
        }
      ]
    },
    {
      "cell_type": "code",
      "source": [
        "torch.manual_seed(42)\n",
        "# Create a single a Conv2d layer\n",
        "\n",
        "conv_layer = nn.Conv2d(in_channels=3,\n",
        "                       out_channels = 10,\n",
        "                       kernel_size = 3,\n",
        "                       stride=1,\n",
        "                       padding=0)\n",
        "\n",
        "# Pass the data through the CNN layer\n",
        "\n",
        "conv_output = conv_layer(test_image)\n",
        "conv_output"
      ],
      "metadata": {
        "colab": {
          "base_uri": "https://localhost:8080/"
        },
        "id": "7EyYDetyRHlW",
        "outputId": "6d66dffd-2353-4e00-aaf1-d51c6df8c010"
      },
      "execution_count": null,
      "outputs": [
        {
          "output_type": "execute_result",
          "data": {
            "text/plain": [
              "tensor([[[ 1.5396,  0.0516,  0.6454,  ..., -0.3673,  0.8711,  0.4256],\n",
              "         [ 0.3662,  1.0114, -0.5997,  ...,  0.8983,  0.2809, -0.2741],\n",
              "         [ 1.2664, -1.4054,  0.3727,  ..., -0.3409,  1.2191, -0.0463],\n",
              "         ...,\n",
              "         [-0.1541,  0.5132, -0.3624,  ..., -0.2360, -0.4609, -0.0035],\n",
              "         [ 0.2981, -0.2432,  1.5012,  ..., -0.6289, -0.7283, -0.5767],\n",
              "         [-0.0386, -0.0781, -0.0388,  ...,  0.2842,  0.4228, -0.1802]],\n",
              "\n",
              "        [[-0.2840, -0.0319, -0.4455,  ..., -0.7956,  1.5599, -1.2449],\n",
              "         [ 0.2753, -0.1262, -0.6541,  ..., -0.2211,  0.1999, -0.8856],\n",
              "         [-0.5404, -1.5489,  0.0249,  ..., -0.5932, -1.0913, -0.3849],\n",
              "         ...,\n",
              "         [ 0.3870, -0.4064, -0.8236,  ...,  0.1734, -0.4330, -0.4951],\n",
              "         [-0.1984, -0.6386,  1.0263,  ..., -0.9401, -0.0585, -0.7833],\n",
              "         [-0.6306, -0.2052, -0.3694,  ..., -1.3248,  0.2456, -0.7134]],\n",
              "\n",
              "        [[ 0.4414,  0.5100,  0.4846,  ..., -0.8484,  0.2638,  1.1258],\n",
              "         [ 0.8117,  0.3191, -0.0157,  ...,  1.2686,  0.2319,  0.5003],\n",
              "         [ 0.3212,  0.0485, -0.2581,  ...,  0.2258,  0.2587, -0.8804],\n",
              "         ...,\n",
              "         [-0.1144, -0.1869,  0.0160,  ..., -0.8346,  0.0974,  0.8421],\n",
              "         [ 0.2941,  0.4417,  0.5866,  ..., -0.1224,  0.4814, -0.4799],\n",
              "         [ 0.6059, -0.0415, -0.2028,  ...,  0.1170,  0.2521, -0.4372]],\n",
              "\n",
              "        ...,\n",
              "\n",
              "        [[-0.2560, -0.0477,  0.6380,  ...,  0.6436,  0.7553, -0.7055],\n",
              "         [ 1.5595, -0.2209, -0.9486,  ..., -0.4876,  0.7754,  0.0750],\n",
              "         [-0.0797,  0.2471,  1.1300,  ...,  0.1505,  0.2354,  0.9576],\n",
              "         ...,\n",
              "         [ 1.1065,  0.6839,  1.2183,  ...,  0.3015, -0.1910, -0.1902],\n",
              "         [-0.3486, -0.7173, -0.3582,  ...,  0.4917,  0.7219,  0.1513],\n",
              "         [ 0.0119,  0.1017,  0.7839,  ..., -0.3752, -0.8127, -0.1257]],\n",
              "\n",
              "        [[ 0.3841,  1.1322,  0.1620,  ...,  0.7010,  0.0109,  0.6058],\n",
              "         [ 0.1664,  0.1873,  1.5924,  ...,  0.3733,  0.9096, -0.5399],\n",
              "         [ 0.4094, -0.0861, -0.7935,  ..., -0.1285, -0.9932, -0.3013],\n",
              "         ...,\n",
              "         [ 0.2688, -0.5630, -1.1902,  ...,  0.4493,  0.5404, -0.0103],\n",
              "         [ 0.0535,  0.4411,  0.5313,  ...,  0.0148, -1.0056,  0.3759],\n",
              "         [ 0.3031, -0.1590, -0.1316,  ..., -0.5384, -0.4271, -0.4876]],\n",
              "\n",
              "        [[-1.1865, -0.7280, -1.2331,  ..., -0.9013, -0.0542, -1.5949],\n",
              "         [-0.6345, -0.5920,  0.5326,  ..., -1.0395, -0.7963, -0.0647],\n",
              "         [-0.1132,  0.5166,  0.2569,  ...,  0.5595, -1.6881,  0.9485],\n",
              "         ...,\n",
              "         [-0.0254, -0.2669,  0.1927,  ..., -0.2917,  0.1088, -0.4807],\n",
              "         [-0.2609, -0.2328,  0.1404,  ..., -0.1325, -0.8436, -0.7524],\n",
              "         [-1.1399, -0.1751, -0.8705,  ...,  0.1589,  0.3377,  0.3493]]],\n",
              "       grad_fn=<SqueezeBackward1>)"
            ]
          },
          "metadata": {},
          "execution_count": 68
        }
      ]
    },
    {
      "cell_type": "code",
      "source": [
        "### 7.2 Stepping through nn.MaxPool2d\n",
        "\n",
        "# Print out original image shape without unsqueezed dimension\n",
        "\n",
        "print(f\"Test image orfiginal shape: {test_image.shape}\")\n",
        "\n",
        "# Create a sample nn.MaxPool2d layer\n",
        "\n",
        "max_pool_layer = nn.MaxPool2d(kernel_size=2)\n",
        "\n",
        "test_image_through_conv = conv_layer(test_image)\n",
        "\n",
        "print(f\"Shape after going through conv_layer: {test_image_through_conv.shape}\")\n",
        "\n",
        "#Pass data through the maxpool layer\n",
        "\n",
        "test_image_through_conv_and_max_pool= max_pool_layer(test_image_through_conv)\n",
        "\n",
        "print(f\"Shape after going through conv_layer and max_pool_layer: {test_image_through_conv_and_max_pool.shape}\")"
      ],
      "metadata": {
        "colab": {
          "base_uri": "https://localhost:8080/"
        },
        "id": "K8b1pcRPTMIg",
        "outputId": "24285eca-f2ef-4a5c-dd08-4bc12edefc08"
      },
      "execution_count": null,
      "outputs": [
        {
          "output_type": "stream",
          "name": "stdout",
          "text": [
            "Test image orfiginal shape: torch.Size([3, 64, 64])\n",
            "Shape after going through conv_layer: torch.Size([10, 62, 62])\n",
            "Shape after going through conv_layer and max_pool_layer: torch.Size([10, 31, 31])\n"
          ]
        }
      ]
    },
    {
      "cell_type": "code",
      "source": [
        "torch.manual_seed(42)"
      ],
      "metadata": {
        "colab": {
          "base_uri": "https://localhost:8080/"
        },
        "id": "G28BPQXTVcL7",
        "outputId": "a45a156c-14ad-43a6-8fe8-659652180afd"
      },
      "execution_count": null,
      "outputs": [
        {
          "output_type": "execute_result",
          "data": {
            "text/plain": [
              "<torch._C.Generator at 0x7cdbb41a9f90>"
            ]
          },
          "metadata": {},
          "execution_count": 70
        }
      ]
    },
    {
      "cell_type": "code",
      "source": [
        "# Create a random tensor with a similar number of dimensions to our images\n",
        "\n",
        "random_tensor = torch.randn(size =(1,1,2,2))\n",
        "\n",
        "#Create a max pool layer\n",
        "\n",
        "max_pool_layer = nn.MaxPool2d(kernel_size=2)\n",
        "\n",
        "# Pass the random tensor through the max pool layer\n",
        "max_pool_tensor = max_pool_layer(random_tensor)\n",
        "\n",
        "max_pool_tensor"
      ],
      "metadata": {
        "colab": {
          "base_uri": "https://localhost:8080/"
        },
        "id": "A61xb5ECWxtJ",
        "outputId": "59fac598-b827-46a1-efe1-3dcea4bcc1fe"
      },
      "execution_count": null,
      "outputs": [
        {
          "output_type": "execute_result",
          "data": {
            "text/plain": [
              "tensor([[[[0.3367]]]])"
            ]
          },
          "metadata": {},
          "execution_count": 71
        }
      ]
    },
    {
      "cell_type": "code",
      "source": [
        "### 7.3 Setup a loss function and optimizer for model_2\n",
        "\n",
        "from helper_functions import accuracy_fn\n",
        "loos_fn = nn.CrossEntropyLoss()\n",
        "optimizer = torch.optim.SGD(params=model_2.parameters(),\n",
        "                            lr=0.1)\n",
        "\n"
      ],
      "metadata": {
        "id": "BI5UtyfJXEsm"
      },
      "execution_count": null,
      "outputs": []
    },
    {
      "cell_type": "code",
      "source": [
        "## 7.4 Training\n",
        "# import tqdm for progress bar\n",
        "from tqdm.auto import tqdm\n",
        "\n",
        "# Set the seed and start the timer\n",
        "torch.manual_seed(42)\n",
        "train_time_start_of_model_2= timer()\n",
        "\n",
        "#Set the number of epochs\n",
        "epochs = 3\n",
        "\n",
        "# Create training and test loop\n",
        "for epochs in tqdm(range(epochs)):\n",
        "  print(f'Epochs: {epochs}\\n-----')\n",
        "  train_step(data_loader = train_dataloader,\n",
        "             model= model_2,\n",
        "             loss_fn= loss_fn,\n",
        "             optimizer= optimizer,\n",
        "             accuracy_fn = accuracy_fn,\n",
        "             device=device)\n",
        "  test_step(model= model_2,\n",
        "            data_loader = train_dataloader,\n",
        "            loss_fn= loss_fn,\n",
        "            accuracy_fn = accuracy_fn,\n",
        "            device=device)\n",
        "\n",
        "# Calculate training time\n",
        "\n",
        "train_time_end_of_model_2 = timer()\n",
        "\n",
        "total_train_time_model_2= print_train_time(start= train_time_start_of_model_2,\n",
        "                                            end = train_time_end_of_model_2,\n",
        "                                            device=device)\n"
      ],
      "metadata": {
        "colab": {
          "base_uri": "https://localhost:8080/",
          "height": 335,
          "referenced_widgets": [
            "2cc357bb27a643e6b75346844c365641",
            "2cd015fabc0e4b80addf91cab7b0e4be",
            "0df28bf4e4664488bcc6da2fea09da82",
            "b1a61e2081284353b478070ab14d3b5c",
            "fdea732e51404ba3aa62177db111face",
            "dedc5518e4ef44828110cc8f4b7c46fb",
            "13ec3942cf0548e19220c309657d23bc",
            "99c9ca2c1977485d98adcc4ab6f2d8cd",
            "6831864280d748caa245091e58b3c880",
            "b3a3b96b5adc4474b763fa11393e34b4",
            "8c5940cce2d341138ffb389c53ad34e8"
          ]
        },
        "id": "vTSEqPx8dSji",
        "outputId": "4ad19fd0-4d42-4e16-91c6-d821e3322d7c"
      },
      "execution_count": null,
      "outputs": [
        {
          "output_type": "display_data",
          "data": {
            "text/plain": [
              "  0%|          | 0/3 [00:00<?, ?it/s]"
            ],
            "application/vnd.jupyter.widget-view+json": {
              "version_major": 2,
              "version_minor": 0,
              "model_id": "2cc357bb27a643e6b75346844c365641"
            }
          },
          "metadata": {}
        },
        {
          "output_type": "stream",
          "name": "stdout",
          "text": [
            "Epochs: 0\n",
            "-----\n",
            "Train loss: 0.59518 | Train acc:78.38%\n",
            " \n",
            "Test loss : 0.37069 | Test acc: 86.7767\n",
            "Epochs: 1\n",
            "-----\n",
            "Train loss: 0.36421 | Train acc:86.86%\n",
            " \n",
            "Test loss : 0.36101 | Test acc: 87.5483\n",
            "Epochs: 2\n",
            "-----\n",
            "Train loss: 0.32472 | Train acc:88.31%\n",
            " \n",
            "Test loss : 0.31951 | Test acc: 88.6533\n",
            "Train time on cpu: 246.454 seconds\n"
          ]
        }
      ]
    },
    {
      "cell_type": "code",
      "source": [
        "# Get model 2 results dictionary\n",
        "\n",
        "model_2_results = eval_model(model=model_2,\n",
        "                             data_loader = test_dataloader,\n",
        "                             loss_fn=loss_fn,\n",
        "                             accuracy_fn=accuracy_fn,\n",
        "                             device=device)\n",
        "\n",
        "model_2_results"
      ],
      "metadata": {
        "colab": {
          "base_uri": "https://localhost:8080/",
          "height": 103,
          "referenced_widgets": [
            "a848300cea8f468e90f8396315f68a9f",
            "c78db9222eaa4bb0a163dbb893d00d52",
            "562a3eba0b584843b716bfa78e8f72d4",
            "38700ca502d54b12ba49ea87f6495f94",
            "a3fbba90a75a41aab3dec1ea0c2161e9",
            "858da3bf59e94b898968f7eee81e5dd0",
            "08e78e9821cc4bf3bfbc18b214ea9e61",
            "b0da37268ae44547ac88b899a66a7c77",
            "b1d9bea5d20841099c81841b65f8ab46",
            "4755e1e708224934b6cbd0157319011e",
            "f038f5154c9a4d8ba55877a76ab42460"
          ]
        },
        "id": "B9DAWhACdoYH",
        "outputId": "c7dec32b-b0cf-40e6-b377-8ad61bf619e6"
      },
      "execution_count": null,
      "outputs": [
        {
          "output_type": "display_data",
          "data": {
            "text/plain": [
              "  0%|          | 0/313 [00:00<?, ?it/s]"
            ],
            "application/vnd.jupyter.widget-view+json": {
              "version_major": 2,
              "version_minor": 0,
              "model_id": "a848300cea8f468e90f8396315f68a9f"
            }
          },
          "metadata": {}
        },
        {
          "output_type": "execute_result",
          "data": {
            "text/plain": [
              "{'model_name': 'FashionMNISTModelV2',\n",
              " 'model_loss': 0.34938228130340576,\n",
              " 'model_acc': 87.46006389776358}"
            ]
          },
          "metadata": {},
          "execution_count": 74
        }
      ]
    },
    {
      "cell_type": "code",
      "source": [
        "model_0_results"
      ],
      "metadata": {
        "id": "MhWUTSIDeEvF",
        "colab": {
          "base_uri": "https://localhost:8080/"
        },
        "outputId": "296c90f3-d595-4572-c857-7e8558daef82"
      },
      "execution_count": null,
      "outputs": [
        {
          "output_type": "execute_result",
          "data": {
            "text/plain": [
              "{'model_name': 'FashionMNISTModelV0',\n",
              " 'model_loss': 0.47663894295692444,\n",
              " 'model_acc': 83.42651757188499}"
            ]
          },
          "metadata": {},
          "execution_count": 75
        }
      ]
    },
    {
      "cell_type": "code",
      "source": [
        "## 8. Compare model results and training time"
      ],
      "metadata": {
        "id": "z9eMzScEwE7v"
      },
      "execution_count": null,
      "outputs": []
    },
    {
      "cell_type": "code",
      "source": [
        "import pandas as pd\n",
        "\n",
        "compare_results = pd.DataFrame([model_0_results,\n",
        "                                model_1_results,\n",
        "                                model_2_results])\n",
        "compare_results"
      ],
      "metadata": {
        "colab": {
          "base_uri": "https://localhost:8080/",
          "height": 143
        },
        "id": "iJf_c18ZwRP0",
        "outputId": "8cf38461-7ed7-4cc5-e359-62aec6987a2d"
      },
      "execution_count": null,
      "outputs": [
        {
          "output_type": "execute_result",
          "data": {
            "text/plain": [
              "            model_name  model_loss  model_acc\n",
              "0  FashionMNISTModelV0    0.476639  83.426518\n",
              "1  FashionMNISTModelV1    0.687435  75.658946\n",
              "2  FashionMNISTModelV2    0.349382  87.460064"
            ],
            "text/html": [
              "\n",
              "  <div id=\"df-f85c3db9-ed67-4ae8-a806-1e4d164dd9e4\" class=\"colab-df-container\">\n",
              "    <div>\n",
              "<style scoped>\n",
              "    .dataframe tbody tr th:only-of-type {\n",
              "        vertical-align: middle;\n",
              "    }\n",
              "\n",
              "    .dataframe tbody tr th {\n",
              "        vertical-align: top;\n",
              "    }\n",
              "\n",
              "    .dataframe thead th {\n",
              "        text-align: right;\n",
              "    }\n",
              "</style>\n",
              "<table border=\"1\" class=\"dataframe\">\n",
              "  <thead>\n",
              "    <tr style=\"text-align: right;\">\n",
              "      <th></th>\n",
              "      <th>model_name</th>\n",
              "      <th>model_loss</th>\n",
              "      <th>model_acc</th>\n",
              "    </tr>\n",
              "  </thead>\n",
              "  <tbody>\n",
              "    <tr>\n",
              "      <th>0</th>\n",
              "      <td>FashionMNISTModelV0</td>\n",
              "      <td>0.476639</td>\n",
              "      <td>83.426518</td>\n",
              "    </tr>\n",
              "    <tr>\n",
              "      <th>1</th>\n",
              "      <td>FashionMNISTModelV1</td>\n",
              "      <td>0.687435</td>\n",
              "      <td>75.658946</td>\n",
              "    </tr>\n",
              "    <tr>\n",
              "      <th>2</th>\n",
              "      <td>FashionMNISTModelV2</td>\n",
              "      <td>0.349382</td>\n",
              "      <td>87.460064</td>\n",
              "    </tr>\n",
              "  </tbody>\n",
              "</table>\n",
              "</div>\n",
              "    <div class=\"colab-df-buttons\">\n",
              "\n",
              "  <div class=\"colab-df-container\">\n",
              "    <button class=\"colab-df-convert\" onclick=\"convertToInteractive('df-f85c3db9-ed67-4ae8-a806-1e4d164dd9e4')\"\n",
              "            title=\"Convert this dataframe to an interactive table.\"\n",
              "            style=\"display:none;\">\n",
              "\n",
              "  <svg xmlns=\"http://www.w3.org/2000/svg\" height=\"24px\" viewBox=\"0 -960 960 960\">\n",
              "    <path d=\"M120-120v-720h720v720H120Zm60-500h600v-160H180v160Zm220 220h160v-160H400v160Zm0 220h160v-160H400v160ZM180-400h160v-160H180v160Zm440 0h160v-160H620v160ZM180-180h160v-160H180v160Zm440 0h160v-160H620v160Z\"/>\n",
              "  </svg>\n",
              "    </button>\n",
              "\n",
              "  <style>\n",
              "    .colab-df-container {\n",
              "      display:flex;\n",
              "      gap: 12px;\n",
              "    }\n",
              "\n",
              "    .colab-df-convert {\n",
              "      background-color: #E8F0FE;\n",
              "      border: none;\n",
              "      border-radius: 50%;\n",
              "      cursor: pointer;\n",
              "      display: none;\n",
              "      fill: #1967D2;\n",
              "      height: 32px;\n",
              "      padding: 0 0 0 0;\n",
              "      width: 32px;\n",
              "    }\n",
              "\n",
              "    .colab-df-convert:hover {\n",
              "      background-color: #E2EBFA;\n",
              "      box-shadow: 0px 1px 2px rgba(60, 64, 67, 0.3), 0px 1px 3px 1px rgba(60, 64, 67, 0.15);\n",
              "      fill: #174EA6;\n",
              "    }\n",
              "\n",
              "    .colab-df-buttons div {\n",
              "      margin-bottom: 4px;\n",
              "    }\n",
              "\n",
              "    [theme=dark] .colab-df-convert {\n",
              "      background-color: #3B4455;\n",
              "      fill: #D2E3FC;\n",
              "    }\n",
              "\n",
              "    [theme=dark] .colab-df-convert:hover {\n",
              "      background-color: #434B5C;\n",
              "      box-shadow: 0px 1px 3px 1px rgba(0, 0, 0, 0.15);\n",
              "      filter: drop-shadow(0px 1px 2px rgba(0, 0, 0, 0.3));\n",
              "      fill: #FFFFFF;\n",
              "    }\n",
              "  </style>\n",
              "\n",
              "    <script>\n",
              "      const buttonEl =\n",
              "        document.querySelector('#df-f85c3db9-ed67-4ae8-a806-1e4d164dd9e4 button.colab-df-convert');\n",
              "      buttonEl.style.display =\n",
              "        google.colab.kernel.accessAllowed ? 'block' : 'none';\n",
              "\n",
              "      async function convertToInteractive(key) {\n",
              "        const element = document.querySelector('#df-f85c3db9-ed67-4ae8-a806-1e4d164dd9e4');\n",
              "        const dataTable =\n",
              "          await google.colab.kernel.invokeFunction('convertToInteractive',\n",
              "                                                    [key], {});\n",
              "        if (!dataTable) return;\n",
              "\n",
              "        const docLinkHtml = 'Like what you see? Visit the ' +\n",
              "          '<a target=\"_blank\" href=https://colab.research.google.com/notebooks/data_table.ipynb>data table notebook</a>'\n",
              "          + ' to learn more about interactive tables.';\n",
              "        element.innerHTML = '';\n",
              "        dataTable['output_type'] = 'display_data';\n",
              "        await google.colab.output.renderOutput(dataTable, element);\n",
              "        const docLink = document.createElement('div');\n",
              "        docLink.innerHTML = docLinkHtml;\n",
              "        element.appendChild(docLink);\n",
              "      }\n",
              "    </script>\n",
              "  </div>\n",
              "\n",
              "\n",
              "<div id=\"df-bf2c6892-c1d9-4d18-a571-edc867a2ef0e\">\n",
              "  <button class=\"colab-df-quickchart\" onclick=\"quickchart('df-bf2c6892-c1d9-4d18-a571-edc867a2ef0e')\"\n",
              "            title=\"Suggest charts\"\n",
              "            style=\"display:none;\">\n",
              "\n",
              "<svg xmlns=\"http://www.w3.org/2000/svg\" height=\"24px\"viewBox=\"0 0 24 24\"\n",
              "     width=\"24px\">\n",
              "    <g>\n",
              "        <path d=\"M19 3H5c-1.1 0-2 .9-2 2v14c0 1.1.9 2 2 2h14c1.1 0 2-.9 2-2V5c0-1.1-.9-2-2-2zM9 17H7v-7h2v7zm4 0h-2V7h2v10zm4 0h-2v-4h2v4z\"/>\n",
              "    </g>\n",
              "</svg>\n",
              "  </button>\n",
              "\n",
              "<style>\n",
              "  .colab-df-quickchart {\n",
              "      --bg-color: #E8F0FE;\n",
              "      --fill-color: #1967D2;\n",
              "      --hover-bg-color: #E2EBFA;\n",
              "      --hover-fill-color: #174EA6;\n",
              "      --disabled-fill-color: #AAA;\n",
              "      --disabled-bg-color: #DDD;\n",
              "  }\n",
              "\n",
              "  [theme=dark] .colab-df-quickchart {\n",
              "      --bg-color: #3B4455;\n",
              "      --fill-color: #D2E3FC;\n",
              "      --hover-bg-color: #434B5C;\n",
              "      --hover-fill-color: #FFFFFF;\n",
              "      --disabled-bg-color: #3B4455;\n",
              "      --disabled-fill-color: #666;\n",
              "  }\n",
              "\n",
              "  .colab-df-quickchart {\n",
              "    background-color: var(--bg-color);\n",
              "    border: none;\n",
              "    border-radius: 50%;\n",
              "    cursor: pointer;\n",
              "    display: none;\n",
              "    fill: var(--fill-color);\n",
              "    height: 32px;\n",
              "    padding: 0;\n",
              "    width: 32px;\n",
              "  }\n",
              "\n",
              "  .colab-df-quickchart:hover {\n",
              "    background-color: var(--hover-bg-color);\n",
              "    box-shadow: 0 1px 2px rgba(60, 64, 67, 0.3), 0 1px 3px 1px rgba(60, 64, 67, 0.15);\n",
              "    fill: var(--button-hover-fill-color);\n",
              "  }\n",
              "\n",
              "  .colab-df-quickchart-complete:disabled,\n",
              "  .colab-df-quickchart-complete:disabled:hover {\n",
              "    background-color: var(--disabled-bg-color);\n",
              "    fill: var(--disabled-fill-color);\n",
              "    box-shadow: none;\n",
              "  }\n",
              "\n",
              "  .colab-df-spinner {\n",
              "    border: 2px solid var(--fill-color);\n",
              "    border-color: transparent;\n",
              "    border-bottom-color: var(--fill-color);\n",
              "    animation:\n",
              "      spin 1s steps(1) infinite;\n",
              "  }\n",
              "\n",
              "  @keyframes spin {\n",
              "    0% {\n",
              "      border-color: transparent;\n",
              "      border-bottom-color: var(--fill-color);\n",
              "      border-left-color: var(--fill-color);\n",
              "    }\n",
              "    20% {\n",
              "      border-color: transparent;\n",
              "      border-left-color: var(--fill-color);\n",
              "      border-top-color: var(--fill-color);\n",
              "    }\n",
              "    30% {\n",
              "      border-color: transparent;\n",
              "      border-left-color: var(--fill-color);\n",
              "      border-top-color: var(--fill-color);\n",
              "      border-right-color: var(--fill-color);\n",
              "    }\n",
              "    40% {\n",
              "      border-color: transparent;\n",
              "      border-right-color: var(--fill-color);\n",
              "      border-top-color: var(--fill-color);\n",
              "    }\n",
              "    60% {\n",
              "      border-color: transparent;\n",
              "      border-right-color: var(--fill-color);\n",
              "    }\n",
              "    80% {\n",
              "      border-color: transparent;\n",
              "      border-right-color: var(--fill-color);\n",
              "      border-bottom-color: var(--fill-color);\n",
              "    }\n",
              "    90% {\n",
              "      border-color: transparent;\n",
              "      border-bottom-color: var(--fill-color);\n",
              "    }\n",
              "  }\n",
              "</style>\n",
              "\n",
              "  <script>\n",
              "    async function quickchart(key) {\n",
              "      const quickchartButtonEl =\n",
              "        document.querySelector('#' + key + ' button');\n",
              "      quickchartButtonEl.disabled = true;  // To prevent multiple clicks.\n",
              "      quickchartButtonEl.classList.add('colab-df-spinner');\n",
              "      try {\n",
              "        const charts = await google.colab.kernel.invokeFunction(\n",
              "            'suggestCharts', [key], {});\n",
              "      } catch (error) {\n",
              "        console.error('Error during call to suggestCharts:', error);\n",
              "      }\n",
              "      quickchartButtonEl.classList.remove('colab-df-spinner');\n",
              "      quickchartButtonEl.classList.add('colab-df-quickchart-complete');\n",
              "    }\n",
              "    (() => {\n",
              "      let quickchartButtonEl =\n",
              "        document.querySelector('#df-bf2c6892-c1d9-4d18-a571-edc867a2ef0e button');\n",
              "      quickchartButtonEl.style.display =\n",
              "        google.colab.kernel.accessAllowed ? 'block' : 'none';\n",
              "    })();\n",
              "  </script>\n",
              "</div>\n",
              "    </div>\n",
              "  </div>\n"
            ],
            "application/vnd.google.colaboratory.intrinsic+json": {
              "type": "dataframe",
              "variable_name": "compare_results",
              "summary": "{\n  \"name\": \"compare_results\",\n  \"rows\": 3,\n  \"fields\": [\n    {\n      \"column\": \"model_name\",\n      \"properties\": {\n        \"dtype\": \"string\",\n        \"num_unique_values\": 3,\n        \"samples\": [\n          \"FashionMNISTModelV0\",\n          \"FashionMNISTModelV1\",\n          \"FashionMNISTModelV2\"\n        ],\n        \"semantic_type\": \"\",\n        \"description\": \"\"\n      }\n    },\n    {\n      \"column\": \"model_loss\",\n      \"properties\": {\n        \"dtype\": \"number\",\n        \"std\": 0.17073799583095034,\n        \"min\": 0.34938228130340576,\n        \"max\": 0.6874349117279053,\n        \"num_unique_values\": 3,\n        \"samples\": [\n          0.47663894295692444,\n          0.6874349117279053,\n          0.34938228130340576\n        ],\n        \"semantic_type\": \"\",\n        \"description\": \"\"\n      }\n    },\n    {\n      \"column\": \"model_acc\",\n      \"properties\": {\n        \"dtype\": \"number\",\n        \"std\": 5.998208899026387,\n        \"min\": 75.65894568690096,\n        \"max\": 87.46006389776358,\n        \"num_unique_values\": 3,\n        \"samples\": [\n          83.42651757188499,\n          75.65894568690096,\n          87.46006389776358\n        ],\n        \"semantic_type\": \"\",\n        \"description\": \"\"\n      }\n    }\n  ]\n}"
            }
          },
          "metadata": {},
          "execution_count": 77
        }
      ]
    },
    {
      "cell_type": "code",
      "source": [
        "## Add training time to results comparison\n",
        "\n",
        "compare_results[\"training_time\"] = [total_train_time_model_0,\n",
        "                                    total_train_time_model_1,\n",
        "                                    total_train_time_model_2]\n",
        "compare_results"
      ],
      "metadata": {
        "colab": {
          "base_uri": "https://localhost:8080/",
          "height": 143
        },
        "id": "h87W3tvYwbMw",
        "outputId": "c7600f4f-fbe7-4023-c812-b71ba6903fcc"
      },
      "execution_count": null,
      "outputs": [
        {
          "output_type": "execute_result",
          "data": {
            "text/plain": [
              "            model_name  model_loss  model_acc  training_time\n",
              "0  FashionMNISTModelV0    0.476639  83.426518      36.033509\n",
              "1  FashionMNISTModelV1    0.687435  75.658946      57.253050\n",
              "2  FashionMNISTModelV2    0.349382  87.460064     246.454172"
            ],
            "text/html": [
              "\n",
              "  <div id=\"df-81f75d33-eb81-4fb0-97cc-270daa81ddd5\" class=\"colab-df-container\">\n",
              "    <div>\n",
              "<style scoped>\n",
              "    .dataframe tbody tr th:only-of-type {\n",
              "        vertical-align: middle;\n",
              "    }\n",
              "\n",
              "    .dataframe tbody tr th {\n",
              "        vertical-align: top;\n",
              "    }\n",
              "\n",
              "    .dataframe thead th {\n",
              "        text-align: right;\n",
              "    }\n",
              "</style>\n",
              "<table border=\"1\" class=\"dataframe\">\n",
              "  <thead>\n",
              "    <tr style=\"text-align: right;\">\n",
              "      <th></th>\n",
              "      <th>model_name</th>\n",
              "      <th>model_loss</th>\n",
              "      <th>model_acc</th>\n",
              "      <th>training_time</th>\n",
              "    </tr>\n",
              "  </thead>\n",
              "  <tbody>\n",
              "    <tr>\n",
              "      <th>0</th>\n",
              "      <td>FashionMNISTModelV0</td>\n",
              "      <td>0.476639</td>\n",
              "      <td>83.426518</td>\n",
              "      <td>36.033509</td>\n",
              "    </tr>\n",
              "    <tr>\n",
              "      <th>1</th>\n",
              "      <td>FashionMNISTModelV1</td>\n",
              "      <td>0.687435</td>\n",
              "      <td>75.658946</td>\n",
              "      <td>57.253050</td>\n",
              "    </tr>\n",
              "    <tr>\n",
              "      <th>2</th>\n",
              "      <td>FashionMNISTModelV2</td>\n",
              "      <td>0.349382</td>\n",
              "      <td>87.460064</td>\n",
              "      <td>246.454172</td>\n",
              "    </tr>\n",
              "  </tbody>\n",
              "</table>\n",
              "</div>\n",
              "    <div class=\"colab-df-buttons\">\n",
              "\n",
              "  <div class=\"colab-df-container\">\n",
              "    <button class=\"colab-df-convert\" onclick=\"convertToInteractive('df-81f75d33-eb81-4fb0-97cc-270daa81ddd5')\"\n",
              "            title=\"Convert this dataframe to an interactive table.\"\n",
              "            style=\"display:none;\">\n",
              "\n",
              "  <svg xmlns=\"http://www.w3.org/2000/svg\" height=\"24px\" viewBox=\"0 -960 960 960\">\n",
              "    <path d=\"M120-120v-720h720v720H120Zm60-500h600v-160H180v160Zm220 220h160v-160H400v160Zm0 220h160v-160H400v160ZM180-400h160v-160H180v160Zm440 0h160v-160H620v160ZM180-180h160v-160H180v160Zm440 0h160v-160H620v160Z\"/>\n",
              "  </svg>\n",
              "    </button>\n",
              "\n",
              "  <style>\n",
              "    .colab-df-container {\n",
              "      display:flex;\n",
              "      gap: 12px;\n",
              "    }\n",
              "\n",
              "    .colab-df-convert {\n",
              "      background-color: #E8F0FE;\n",
              "      border: none;\n",
              "      border-radius: 50%;\n",
              "      cursor: pointer;\n",
              "      display: none;\n",
              "      fill: #1967D2;\n",
              "      height: 32px;\n",
              "      padding: 0 0 0 0;\n",
              "      width: 32px;\n",
              "    }\n",
              "\n",
              "    .colab-df-convert:hover {\n",
              "      background-color: #E2EBFA;\n",
              "      box-shadow: 0px 1px 2px rgba(60, 64, 67, 0.3), 0px 1px 3px 1px rgba(60, 64, 67, 0.15);\n",
              "      fill: #174EA6;\n",
              "    }\n",
              "\n",
              "    .colab-df-buttons div {\n",
              "      margin-bottom: 4px;\n",
              "    }\n",
              "\n",
              "    [theme=dark] .colab-df-convert {\n",
              "      background-color: #3B4455;\n",
              "      fill: #D2E3FC;\n",
              "    }\n",
              "\n",
              "    [theme=dark] .colab-df-convert:hover {\n",
              "      background-color: #434B5C;\n",
              "      box-shadow: 0px 1px 3px 1px rgba(0, 0, 0, 0.15);\n",
              "      filter: drop-shadow(0px 1px 2px rgba(0, 0, 0, 0.3));\n",
              "      fill: #FFFFFF;\n",
              "    }\n",
              "  </style>\n",
              "\n",
              "    <script>\n",
              "      const buttonEl =\n",
              "        document.querySelector('#df-81f75d33-eb81-4fb0-97cc-270daa81ddd5 button.colab-df-convert');\n",
              "      buttonEl.style.display =\n",
              "        google.colab.kernel.accessAllowed ? 'block' : 'none';\n",
              "\n",
              "      async function convertToInteractive(key) {\n",
              "        const element = document.querySelector('#df-81f75d33-eb81-4fb0-97cc-270daa81ddd5');\n",
              "        const dataTable =\n",
              "          await google.colab.kernel.invokeFunction('convertToInteractive',\n",
              "                                                    [key], {});\n",
              "        if (!dataTable) return;\n",
              "\n",
              "        const docLinkHtml = 'Like what you see? Visit the ' +\n",
              "          '<a target=\"_blank\" href=https://colab.research.google.com/notebooks/data_table.ipynb>data table notebook</a>'\n",
              "          + ' to learn more about interactive tables.';\n",
              "        element.innerHTML = '';\n",
              "        dataTable['output_type'] = 'display_data';\n",
              "        await google.colab.output.renderOutput(dataTable, element);\n",
              "        const docLink = document.createElement('div');\n",
              "        docLink.innerHTML = docLinkHtml;\n",
              "        element.appendChild(docLink);\n",
              "      }\n",
              "    </script>\n",
              "  </div>\n",
              "\n",
              "\n",
              "<div id=\"df-1ffb7d2f-9217-490e-acbd-8ea7490bc902\">\n",
              "  <button class=\"colab-df-quickchart\" onclick=\"quickchart('df-1ffb7d2f-9217-490e-acbd-8ea7490bc902')\"\n",
              "            title=\"Suggest charts\"\n",
              "            style=\"display:none;\">\n",
              "\n",
              "<svg xmlns=\"http://www.w3.org/2000/svg\" height=\"24px\"viewBox=\"0 0 24 24\"\n",
              "     width=\"24px\">\n",
              "    <g>\n",
              "        <path d=\"M19 3H5c-1.1 0-2 .9-2 2v14c0 1.1.9 2 2 2h14c1.1 0 2-.9 2-2V5c0-1.1-.9-2-2-2zM9 17H7v-7h2v7zm4 0h-2V7h2v10zm4 0h-2v-4h2v4z\"/>\n",
              "    </g>\n",
              "</svg>\n",
              "  </button>\n",
              "\n",
              "<style>\n",
              "  .colab-df-quickchart {\n",
              "      --bg-color: #E8F0FE;\n",
              "      --fill-color: #1967D2;\n",
              "      --hover-bg-color: #E2EBFA;\n",
              "      --hover-fill-color: #174EA6;\n",
              "      --disabled-fill-color: #AAA;\n",
              "      --disabled-bg-color: #DDD;\n",
              "  }\n",
              "\n",
              "  [theme=dark] .colab-df-quickchart {\n",
              "      --bg-color: #3B4455;\n",
              "      --fill-color: #D2E3FC;\n",
              "      --hover-bg-color: #434B5C;\n",
              "      --hover-fill-color: #FFFFFF;\n",
              "      --disabled-bg-color: #3B4455;\n",
              "      --disabled-fill-color: #666;\n",
              "  }\n",
              "\n",
              "  .colab-df-quickchart {\n",
              "    background-color: var(--bg-color);\n",
              "    border: none;\n",
              "    border-radius: 50%;\n",
              "    cursor: pointer;\n",
              "    display: none;\n",
              "    fill: var(--fill-color);\n",
              "    height: 32px;\n",
              "    padding: 0;\n",
              "    width: 32px;\n",
              "  }\n",
              "\n",
              "  .colab-df-quickchart:hover {\n",
              "    background-color: var(--hover-bg-color);\n",
              "    box-shadow: 0 1px 2px rgba(60, 64, 67, 0.3), 0 1px 3px 1px rgba(60, 64, 67, 0.15);\n",
              "    fill: var(--button-hover-fill-color);\n",
              "  }\n",
              "\n",
              "  .colab-df-quickchart-complete:disabled,\n",
              "  .colab-df-quickchart-complete:disabled:hover {\n",
              "    background-color: var(--disabled-bg-color);\n",
              "    fill: var(--disabled-fill-color);\n",
              "    box-shadow: none;\n",
              "  }\n",
              "\n",
              "  .colab-df-spinner {\n",
              "    border: 2px solid var(--fill-color);\n",
              "    border-color: transparent;\n",
              "    border-bottom-color: var(--fill-color);\n",
              "    animation:\n",
              "      spin 1s steps(1) infinite;\n",
              "  }\n",
              "\n",
              "  @keyframes spin {\n",
              "    0% {\n",
              "      border-color: transparent;\n",
              "      border-bottom-color: var(--fill-color);\n",
              "      border-left-color: var(--fill-color);\n",
              "    }\n",
              "    20% {\n",
              "      border-color: transparent;\n",
              "      border-left-color: var(--fill-color);\n",
              "      border-top-color: var(--fill-color);\n",
              "    }\n",
              "    30% {\n",
              "      border-color: transparent;\n",
              "      border-left-color: var(--fill-color);\n",
              "      border-top-color: var(--fill-color);\n",
              "      border-right-color: var(--fill-color);\n",
              "    }\n",
              "    40% {\n",
              "      border-color: transparent;\n",
              "      border-right-color: var(--fill-color);\n",
              "      border-top-color: var(--fill-color);\n",
              "    }\n",
              "    60% {\n",
              "      border-color: transparent;\n",
              "      border-right-color: var(--fill-color);\n",
              "    }\n",
              "    80% {\n",
              "      border-color: transparent;\n",
              "      border-right-color: var(--fill-color);\n",
              "      border-bottom-color: var(--fill-color);\n",
              "    }\n",
              "    90% {\n",
              "      border-color: transparent;\n",
              "      border-bottom-color: var(--fill-color);\n",
              "    }\n",
              "  }\n",
              "</style>\n",
              "\n",
              "  <script>\n",
              "    async function quickchart(key) {\n",
              "      const quickchartButtonEl =\n",
              "        document.querySelector('#' + key + ' button');\n",
              "      quickchartButtonEl.disabled = true;  // To prevent multiple clicks.\n",
              "      quickchartButtonEl.classList.add('colab-df-spinner');\n",
              "      try {\n",
              "        const charts = await google.colab.kernel.invokeFunction(\n",
              "            'suggestCharts', [key], {});\n",
              "      } catch (error) {\n",
              "        console.error('Error during call to suggestCharts:', error);\n",
              "      }\n",
              "      quickchartButtonEl.classList.remove('colab-df-spinner');\n",
              "      quickchartButtonEl.classList.add('colab-df-quickchart-complete');\n",
              "    }\n",
              "    (() => {\n",
              "      let quickchartButtonEl =\n",
              "        document.querySelector('#df-1ffb7d2f-9217-490e-acbd-8ea7490bc902 button');\n",
              "      quickchartButtonEl.style.display =\n",
              "        google.colab.kernel.accessAllowed ? 'block' : 'none';\n",
              "    })();\n",
              "  </script>\n",
              "</div>\n",
              "    </div>\n",
              "  </div>\n"
            ],
            "application/vnd.google.colaboratory.intrinsic+json": {
              "type": "dataframe",
              "variable_name": "compare_results",
              "summary": "{\n  \"name\": \"compare_results\",\n  \"rows\": 3,\n  \"fields\": [\n    {\n      \"column\": \"model_name\",\n      \"properties\": {\n        \"dtype\": \"string\",\n        \"num_unique_values\": 3,\n        \"samples\": [\n          \"FashionMNISTModelV0\",\n          \"FashionMNISTModelV1\",\n          \"FashionMNISTModelV2\"\n        ],\n        \"semantic_type\": \"\",\n        \"description\": \"\"\n      }\n    },\n    {\n      \"column\": \"model_loss\",\n      \"properties\": {\n        \"dtype\": \"number\",\n        \"std\": 0.17073799583095034,\n        \"min\": 0.34938228130340576,\n        \"max\": 0.6874349117279053,\n        \"num_unique_values\": 3,\n        \"samples\": [\n          0.47663894295692444,\n          0.6874349117279053,\n          0.34938228130340576\n        ],\n        \"semantic_type\": \"\",\n        \"description\": \"\"\n      }\n    },\n    {\n      \"column\": \"model_acc\",\n      \"properties\": {\n        \"dtype\": \"number\",\n        \"std\": 5.998208899026387,\n        \"min\": 75.65894568690096,\n        \"max\": 87.46006389776358,\n        \"num_unique_values\": 3,\n        \"samples\": [\n          83.42651757188499,\n          75.65894568690096,\n          87.46006389776358\n        ],\n        \"semantic_type\": \"\",\n        \"description\": \"\"\n      }\n    },\n    {\n      \"column\": \"training_time\",\n      \"properties\": {\n        \"dtype\": \"number\",\n        \"std\": 115.84773698635856,\n        \"min\": 36.033509004999985,\n        \"max\": 246.45417203,\n        \"num_unique_values\": 3,\n        \"samples\": [\n          36.033509004999985,\n          57.25304980999999,\n          246.45417203\n        ],\n        \"semantic_type\": \"\",\n        \"description\": \"\"\n      }\n    }\n  ]\n}"
            }
          },
          "metadata": {},
          "execution_count": 78
        }
      ]
    },
    {
      "cell_type": "code",
      "source": [
        "# Visualize our model results\n",
        "\n",
        "compare_results.set_index(\"model_name\")[\"model_acc\"].plot(kind=\"barh\")\n",
        "\n",
        "plt.xlabel(\"accuracy (%)\")\n",
        "plt.ylabel(\"model\")"
      ],
      "metadata": {
        "colab": {
          "base_uri": "https://localhost:8080/",
          "height": 422
        },
        "id": "65l3P5vMw0PS",
        "outputId": "2dd7ba3c-b21c-4317-fa26-24fcae3be935"
      },
      "execution_count": null,
      "outputs": [
        {
          "output_type": "execute_result",
          "data": {
            "text/plain": [
              "Text(0, 0.5, 'model')"
            ]
          },
          "metadata": {},
          "execution_count": 79
        },
        {
          "output_type": "display_data",
          "data": {
            "text/plain": [
              "<Figure size 640x480 with 1 Axes>"
            ],
            "image/png": "[encoded data removed]"
          },
          "metadata": {}
        }
      ]
    },
    {
      "cell_type": "code",
      "source": [
        "## 9. Make and evaluate random predictions with best model"
      ],
      "metadata": {
        "id": "CCMVOT-fx355"
      },
      "execution_count": null,
      "outputs": []
    },
    {
      "cell_type": "code",
      "source": [
        "def make_predictions(model:torch.nn.Module,\n",
        "                     data:list,\n",
        "                     device:torch.device=device):\n",
        "  pred_probs = []\n",
        "  model.to(device)\n",
        "  model.eval()\n",
        "  with torch.inference_mode():\n",
        "    for sample in data:\n",
        "      #Prepare the sample\n",
        "      sample = torch.unsqueeze(sample,dim=0).to(device)\n",
        "\n",
        "      #Forware pass model outputs raw logits\n",
        "      pred_logit = model(sample)\n",
        "\n",
        "      #Get prediciton\n",
        "      pred_prob = torch.softmax(pred_logit.squeeze(), dim = 0)\n",
        "\n",
        "      #Get pred prob off the GPU for further calculations\n",
        "      pred_probs.append(pred_prob.cpu())\n",
        "\n",
        "  #Sstack the pred prob to turn list into a tensor\n",
        "\n",
        "  return torch.stack(pred_probs)"
      ],
      "metadata": {
        "id": "qGsghvFkzgco"
      },
      "execution_count": null,
      "outputs": []
    },
    {
      "cell_type": "code",
      "source": [
        "import random\n",
        "#random.seed(42)\n",
        "test_samples= []\n",
        "test_labels = []\n",
        "\n",
        "for sample, label in random.sample(list(test_data), k =9):\n",
        "  test_samples.append(sample)\n",
        "  test_labels.append(label)\n",
        "\n",
        "#View the first sample shape\n",
        "test_samples[0].shape"
      ],
      "metadata": {
        "colab": {
          "base_uri": "https://localhost:8080/"
        },
        "id": "GOtIJ7LY0b2w",
        "outputId": "200428a5-ab13-4ace-cedd-3b31746cd61e"
      },
      "execution_count": null,
      "outputs": [
        {
          "output_type": "execute_result",
          "data": {
            "text/plain": [
              "torch.Size([1, 28, 28])"
            ]
          },
          "metadata": {},
          "execution_count": 82
        }
      ]
    },
    {
      "cell_type": "code",
      "source": [
        "plt.imshow(test_samples[0].squeeze(), cmap=\"gray\")\n",
        "plt.title(class_names[test_labels[0]])"
      ],
      "metadata": {
        "colab": {
          "base_uri": "https://localhost:8080/",
          "height": 470
        },
        "id": "ojjAoYut1wjq",
        "outputId": "1bb19827-c5ed-4fea-9eff-9e17cf8d16a2"
      },
      "execution_count": null,
      "outputs": [
        {
          "output_type": "execute_result",
          "data": {
            "text/plain": [
              "Text(0.5, 1.0, 'Dress')"
            ]
          },
          "metadata": {},
          "execution_count": 83
        },
        {
          "output_type": "display_data",
          "data": {
            "text/plain": [
              "<Figure size 640x480 with 1 Axes>"
            ],
            "image/png": "[encoded data removed]"
          },
          "metadata": {}
        }
      ]
    },
    {
      "cell_type": "code",
      "source": [
        "#make_predictions\n",
        "\n",
        "pred_probs = make_predictions(model=model_2,\n",
        "                              data=test_samples)\n",
        "\n",
        "#View first two predictions probabilities\n",
        "pred_probs[:2]"
      ],
      "metadata": {
        "colab": {
          "base_uri": "https://localhost:8080/"
        },
        "id": "2gjlJVX-2BdG",
        "outputId": "89242847-6212-405f-d72d-17096675e763"
      },
      "execution_count": null,
      "outputs": [
        {
          "output_type": "execute_result",
          "data": {
            "text/plain": [
              "tensor([[4.3073e-03, 2.0004e-04, 1.9799e-05, 9.9389e-01, 6.9660e-05, 6.3457e-06,\n",
              "         9.4937e-04, 1.9043e-04, 3.3416e-04, 3.0761e-05],\n",
              "        [7.2678e-06, 9.9346e-01, 2.0445e-07, 6.4768e-03, 1.2676e-05, 1.0693e-06,\n",
              "         6.1950e-06, 2.6275e-06, 2.7214e-05, 2.4541e-06]])"
            ]
          },
          "metadata": {},
          "execution_count": 84
        }
      ]
    },
    {
      "cell_type": "code",
      "source": [
        "test_labels"
      ],
      "metadata": {
        "colab": {
          "base_uri": "https://localhost:8080/"
        },
        "id": "QIp5R7is2hVW",
        "outputId": "0f8f9c72-d6ef-4804-d771-754db75292cd"
      },
      "execution_count": null,
      "outputs": [
        {
          "output_type": "execute_result",
          "data": {
            "text/plain": [
              "[3, 1, 7, 8, 0, 6, 3, 4, 0]"
            ]
          },
          "metadata": {},
          "execution_count": 85
        }
      ]
    },
    {
      "cell_type": "code",
      "source": [
        "# Conver pred probabilities to labels\n",
        "pred_classes = pred_probs.argmax(dim=1)\n",
        "pred_classes"
      ],
      "metadata": {
        "colab": {
          "base_uri": "https://localhost:8080/"
        },
        "id": "kQDh9bpt3oCd",
        "outputId": "eb739918-b26e-451d-f20b-5d3b97473cb3"
      },
      "execution_count": null,
      "outputs": [
        {
          "output_type": "execute_result",
          "data": {
            "text/plain": [
              "tensor([3, 1, 7, 8, 0, 6, 3, 4, 0])"
            ]
          },
          "metadata": {},
          "execution_count": 86
        }
      ]
    },
    {
      "cell_type": "code",
      "source": [
        "# PLot predictions\n",
        "plt.figure(figsize=(9,9))\n",
        "nrows = 3\n",
        "ncols=3\n",
        "\n",
        "for i, sample in enumerate(test_samples):\n",
        "  #Create subplot\n",
        "  plt.subplot(nrows, ncols, i+1)\n",
        "\n",
        "  #Plot the target image\n",
        "  plt.imshow(sample.squeeze(), cmap=\"gray\")\n",
        "\n",
        "  #Find the prediction in text form\n",
        "  pred_label=class_names[pred_classes[i]]\n",
        "\n",
        "  #Get the truth label in text form ]\n",
        "  truth_label = class_names[test_labels[i]]\n",
        "\n",
        "  # Create a title for the plot\n",
        "  title_text = f\"Pred: {pred_label} | Truth: {truth_label}\"\n",
        "\n",
        "  #Check for equality between pred and truth and change color of title text\n",
        "  if pred_label == truth_label:\n",
        "    plt.title(title_text, fontsize=10, c=\"g\")\n",
        "\n",
        "  else:\n",
        "    plt.title(title_text, fontsize=10, c=\"r\")\n",
        "\n",
        "  plt.axis(False)"
      ],
      "metadata": {
        "colab": {
          "base_uri": "https://localhost:8080/",
          "height": 645
        },
        "id": "YI81v81P33Zp",
        "outputId": "692e6386-c406-47d3-807a-8d6e7381f9b0"
      },
      "execution_count": null,
      "outputs": [
        {
          "output_type": "display_data",
          "data": {
            "text/plain": [
              "<Figure size 900x900 with 9 Axes>"
            ],
            "image/png": "[encoded data removed]"
          },
          "metadata": {}
        }
      ]
    },
    {
      "cell_type": "code",
      "source": [
        "# 10. Making a confusion matrix for further visualization"
      ],
      "metadata": {
        "id": "6ORgmqGO5lFb"
      },
      "execution_count": null,
      "outputs": []
    },
    {
      "cell_type": "code",
      "source": [
        "import mlxtend\n",
        "mlxtend.__version__"
      ],
      "metadata": {
        "colab": {
          "base_uri": "https://localhost:8080/",
          "height": 35
        },
        "id": "DoMwTJeli_ri",
        "outputId": "7c033e67-0040-4041-9d54-d2aa3799a15b"
      },
      "execution_count": null,
      "outputs": [
        {
          "output_type": "execute_result",
          "data": {
            "text/plain": [
              "'0.22.0'"
            ],
            "application/vnd.google.colaboratory.intrinsic+json": {
              "type": "string"
            }
          },
          "metadata": {},
          "execution_count": 89
        }
      ]
    },
    {
      "cell_type": "code",
      "source": [
        "from tqdm.auto import tqdm\n",
        "\n",
        "#1. Make predictions with trained model\n",
        "y_preds = []\n",
        "model_2.eval()\n",
        "with torch.inference_mode():\n",
        "  for X, y in tqdm(test_dataloader, desc = \"Makinge predictions\"):\n",
        "    X, y = X.to(device), y.to(device)\n",
        "    y_logit=model_2(X)\n",
        "\n",
        "    y_pred = torch.softmax(y_logit.squeeze(), dim=0).argmax(dim=1)\n",
        "    y_preds.append(y_pred.cpu())\n",
        "\n",
        "\n",
        "#print(y_preds)\n",
        "y_pred_tensor = torch.cat(y_preds)\n",
        "y_pred_tensor"
      ],
      "metadata": {
        "colab": {
          "base_uri": "https://localhost:8080/",
          "height": 67,
          "referenced_widgets": [
            "c75b9e50a3cd453faee0b6b437922f35",
            "a84da35ffa474b25a9c4c54572f0b81d",
            "e5d72a52b2234e5583b0e158fcfe5aaf",
            "0166fa7cd51443ad9a192e3ea1e00b42",
            "a39efbf97ff948778fe9a5134715e71e",
            "9d4b1d730bf14a0c8301a92b6127902b",
            "b7217ff868f74e5d8c274086fc5dbf16",
            "fbd36d4239b3430c81cabda8544861aa",
            "561a0817f9b24952b7977d312cb73a8d",
            "2ec49c20f3054b0b8fe155899e19a154",
            "f8ab90e8a0ae498ab2350d16f10f6c26"
          ]
        },
        "id": "kPaMO5J4jEx7",
        "outputId": "8b86b8b5-94d2-4093-97cc-bec8e9af7f24"
      },
      "execution_count": null,
      "outputs": [
        {
          "output_type": "display_data",
          "data": {
            "text/plain": [
              "Makinge predictions:   0%|          | 0/313 [00:00<?, ?it/s]"
            ],
            "application/vnd.jupyter.widget-view+json": {
              "version_major": 2,
              "version_minor": 0,
              "model_id": "c75b9e50a3cd453faee0b6b437922f35"
            }
          },
          "metadata": {}
        },
        {
          "output_type": "execute_result",
          "data": {
            "text/plain": [
              "tensor([9, 2, 1,  ..., 8, 1, 2])"
            ]
          },
          "metadata": {},
          "execution_count": 90
        }
      ]
    },
    {
      "cell_type": "code",
      "source": [
        "!pip install torchmetrics\n",
        "import torchmetrics"
      ],
      "metadata": {
        "colab": {
          "base_uri": "https://localhost:8080/"
        },
        "id": "XerzT9ZrkA3P",
        "outputId": "441d2fd7-c88d-4689-b547-8221b3d68b6c"
      },
      "execution_count": null,
      "outputs": [
        {
          "output_type": "stream",
          "name": "stdout",
          "text": [
            "Collecting torchmetrics\n",
            "  Downloading torchmetrics-1.4.0.post0-py3-none-any.whl (868 kB)\n",
            "\u001b[2K     \u001b[90m━━━━━━━━━━━━━━━━━━━━━━━━━━━━━━━━━━━━━━━━\u001b[0m \u001b[32m868.8/868.8 kB\u001b[0m \u001b[31m4.2 MB/s\u001b[0m eta \u001b[36m0:00:00\u001b[0m\n",
            "\u001b[?25hRequirement already satisfied: numpy>1.20.0 in /usr/local/lib/python3.10/dist-packages (from torchmetrics) (1.25.2)\n",
            "Requirement already satisfied: packaging>17.1 in /usr/local/lib/python3.10/dist-packages (from torchmetrics) (24.0)\n",
            "Requirement already satisfied: torch>=1.10.0 in /usr/local/lib/python3.10/dist-packages (from torchmetrics) (2.3.0+cu121)\n",
            "Collecting lightning-utilities>=0.8.0 (from torchmetrics)\n",
            "  Downloading lightning_utilities-0.11.2-py3-none-any.whl (26 kB)\n",
            "Requirement already satisfied: setuptools in /usr/local/lib/python3.10/dist-packages (from lightning-utilities>=0.8.0->torchmetrics) (67.7.2)\n",
            "Requirement already satisfied: typing-extensions in /usr/local/lib/python3.10/dist-packages (from lightning-utilities>=0.8.0->torchmetrics) (4.11.0)\n",
            "Requirement already satisfied: filelock in /usr/local/lib/python3.10/dist-packages (from torch>=1.10.0->torchmetrics) (3.14.0)\n",
            "Requirement already satisfied: sympy in /usr/local/lib/python3.10/dist-packages (from torch>=1.10.0->torchmetrics) (1.12)\n",
            "Requirement already satisfied: networkx in /usr/local/lib/python3.10/dist-packages (from torch>=1.10.0->torchmetrics) (3.3)\n",
            "Requirement already satisfied: jinja2 in /usr/local/lib/python3.10/dist-packages (from torch>=1.10.0->torchmetrics) (3.1.4)\n",
            "Requirement already satisfied: fsspec in /usr/local/lib/python3.10/dist-packages (from torch>=1.10.0->torchmetrics) (2023.6.0)\n",
            "Collecting nvidia-cuda-nvrtc-cu12==12.1.105 (from torch>=1.10.0->torchmetrics)\n",
            "  Using cached nvidia_cuda_nvrtc_cu12-12.1.105-py3-none-manylinux1_x86_64.whl (23.7 MB)\n",
            "Collecting nvidia-cuda-runtime-cu12==12.1.105 (from torch>=1.10.0->torchmetrics)\n",
            "  Using cached nvidia_cuda_runtime_cu12-12.1.105-py3-none-manylinux1_x86_64.whl (823 kB)\n",
            "Collecting nvidia-cuda-cupti-cu12==12.1.105 (from torch>=1.10.0->torchmetrics)\n",
            "  Using cached nvidia_cuda_cupti_cu12-12.1.105-py3-none-manylinux1_x86_64.whl (14.1 MB)\n",
            "Collecting nvidia-cudnn-cu12==8.9.2.26 (from torch>=1.10.0->torchmetrics)\n",
            "  Using cached nvidia_cudnn_cu12-8.9.2.26-py3-none-manylinux1_x86_64.whl (731.7 MB)\n",
            "Collecting nvidia-cublas-cu12==12.1.3.1 (from torch>=1.10.0->torchmetrics)\n",
            "  Using cached nvidia_cublas_cu12-12.1.3.1-py3-none-manylinux1_x86_64.whl (410.6 MB)\n",
            "Collecting nvidia-cufft-cu12==11.0.2.54 (from torch>=1.10.0->torchmetrics)\n",
            "  Using cached nvidia_cufft_cu12-11.0.2.54-py3-none-manylinux1_x86_64.whl (121.6 MB)\n",
            "Collecting nvidia-curand-cu12==10.3.2.106 (from torch>=1.10.0->torchmetrics)\n",
            "  Using cached nvidia_curand_cu12-10.3.2.106-py3-none-manylinux1_x86_64.whl (56.5 MB)\n",
            "Collecting nvidia-cusolver-cu12==11.4.5.107 (from torch>=1.10.0->torchmetrics)\n",
            "  Using cached nvidia_cusolver_cu12-11.4.5.107-py3-none-manylinux1_x86_64.whl (124.2 MB)\n",
            "Collecting nvidia-cusparse-cu12==12.1.0.106 (from torch>=1.10.0->torchmetrics)\n",
            "  Using cached nvidia_cusparse_cu12-12.1.0.106-py3-none-manylinux1_x86_64.whl (196.0 MB)\n",
            "Collecting nvidia-nccl-cu12==2.20.5 (from torch>=1.10.0->torchmetrics)\n",
            "  Using cached nvidia_nccl_cu12-2.20.5-py3-none-manylinux2014_x86_64.whl (176.2 MB)\n",
            "Collecting nvidia-nvtx-cu12==12.1.105 (from torch>=1.10.0->torchmetrics)\n",
            "  Using cached nvidia_nvtx_cu12-12.1.105-py3-none-manylinux1_x86_64.whl (99 kB)\n",
            "Requirement already satisfied: triton==2.3.0 in /usr/local/lib/python3.10/dist-packages (from torch>=1.10.0->torchmetrics) (2.3.0)\n",
            "Collecting nvidia-nvjitlink-cu12 (from nvidia-cusolver-cu12==11.4.5.107->torch>=1.10.0->torchmetrics)\n",
            "  Downloading nvidia_nvjitlink_cu12-12.5.40-py3-none-manylinux2014_x86_64.whl (21.3 MB)\n",
            "\u001b[2K     \u001b[90m━━━━━━━━━━━━━━━━━━━━━━━━━━━━━━━━━━━━━━━━\u001b[0m \u001b[32m21.3/21.3 MB\u001b[0m \u001b[31m49.4 MB/s\u001b[0m eta \u001b[36m0:00:00\u001b[0m\n",
            "\u001b[?25hRequirement already satisfied: MarkupSafe>=2.0 in /usr/local/lib/python3.10/dist-packages (from jinja2->torch>=1.10.0->torchmetrics) (2.1.5)\n",
            "Requirement already satisfied: mpmath>=0.19 in /usr/local/lib/python3.10/dist-packages (from sympy->torch>=1.10.0->torchmetrics) (1.3.0)\n",
            "Installing collected packages: nvidia-nvtx-cu12, nvidia-nvjitlink-cu12, nvidia-nccl-cu12, nvidia-curand-cu12, nvidia-cufft-cu12, nvidia-cuda-runtime-cu12, nvidia-cuda-nvrtc-cu12, nvidia-cuda-cupti-cu12, nvidia-cublas-cu12, lightning-utilities, nvidia-cusparse-cu12, nvidia-cudnn-cu12, nvidia-cusolver-cu12, torchmetrics\n",
            "Successfully installed lightning-utilities-0.11.2 nvidia-cublas-cu12-12.1.3.1 nvidia-cuda-cupti-cu12-12.1.105 nvidia-cuda-nvrtc-cu12-12.1.105 nvidia-cuda-runtime-cu12-12.1.105 nvidia-cudnn-cu12-8.9.2.26 nvidia-cufft-cu12-11.0.2.54 nvidia-curand-cu12-10.3.2.106 nvidia-cusolver-cu12-11.4.5.107 nvidia-cusparse-cu12-12.1.0.106 nvidia-nccl-cu12-2.20.5 nvidia-nvjitlink-cu12-12.5.40 nvidia-nvtx-cu12-12.1.105 torchmetrics-1.4.0.post0\n"
          ]
        }
      ]
    },
    {
      "cell_type": "code",
      "source": [
        "import mlxtend\n",
        "mlxtend.__version__"
      ],
      "metadata": {
        "colab": {
          "base_uri": "https://localhost:8080/",
          "height": 35
        },
        "id": "NJwnNq8bka6C",
        "outputId": "abe23e18-931b-486c-bd75-fae8edbbf3de"
      },
      "execution_count": null,
      "outputs": [
        {
          "output_type": "execute_result",
          "data": {
            "text/plain": [
              "'0.22.0'"
            ],
            "application/vnd.google.colaboratory.intrinsic+json": {
              "type": "string"
            }
          },
          "metadata": {},
          "execution_count": 92
        }
      ]
    },
    {
      "cell_type": "code",
      "source": [
        "from torchmetrics import ConfusionMatrix\n",
        "from mlxtend.plotting import plot_confusion_matrix"
      ],
      "metadata": {
        "id": "nZs6BlEonu55"
      },
      "execution_count": null,
      "outputs": []
    },
    {
      "cell_type": "code",
      "source": [
        "#2. Setup confusion instance and compare predictions to targets\n",
        "confmat = ConfusionMatrix(num_classes=len(class_names), task='multiclass')\n",
        "confmat_tensor = confmat(preds=y_pred_tensor,\n",
        "                         target=test_data.targets)\n",
        "\n",
        "confmat_tensor"
      ],
      "metadata": {
        "colab": {
          "base_uri": "https://localhost:8080/"
        },
        "id": "YCuaNVZYrGiG",
        "outputId": "c3f140ef-db3e-4e69-960b-2746a0f1af6d"
      },
      "execution_count": null,
      "outputs": [
        {
          "output_type": "execute_result",
          "data": {
            "text/plain": [
              "tensor([[549,   5,  43,  65,  16,   1, 314,   0,   7,   0],\n",
              "        [  6, 886,   7,  83,  10,   0,   5,   0,   3,   0],\n",
              "        [  8,   3, 798,  10, 123,   0,  51,   0,   7,   0],\n",
              "        [ 21,  13,  26, 825,  66,   0,  38,   0,  10,   1],\n",
              "        [  1,   4, 125,  33, 786,   0,  42,   0,   9,   0],\n",
              "        [  3,   3,   3,   9,   0, 772,   2,  96,  85,  27],\n",
              "        [ 59,   5, 148,  44, 180,   0, 552,   0,  12,   0],\n",
              "        [  1,   0,   0,   0,   0,  19,   0, 942,   7,  31],\n",
              "        [ 10,   2,  35,  11,  27,   5,  14,   8, 887,   1],\n",
              "        [  1,   0,   4,   1,   0,  23,   1, 104,  11, 855]])"
            ]
          },
          "metadata": {},
          "execution_count": 94
        }
      ]
    },
    {
      "cell_type": "code",
      "source": [
        "#3. Plot the confusion matrix\n",
        "fig, ax = plot_confusion_matrix(\n",
        "    conf_mat = confmat_tensor.numpy(), # matplotlib likes working wit numpy\n",
        "    class_names = class_names,\n",
        "    figsize=(10,7)\n",
        ")"
      ],
      "metadata": {
        "colab": {
          "base_uri": "https://localhost:8080/",
          "height": 635
        },
        "id": "RFJfvujNrGD_",
        "outputId": "c4113f00-4db5-4d45-abcc-7f441d6fc08c"
      },
      "execution_count": null,
      "outputs": [
        {
          "output_type": "display_data",
          "data": {
            "text/plain": [
              "<Figure size 1000x700 with 1 Axes>"
            ],
            "image/png": "[encoded data removed]"
          },
          "metadata": {}
        }
      ]
    },
    {
      "cell_type": "code",
      "source": [
        "#11. Save and load the trained model\n",
        "\n",
        "from pathlib import Path\n",
        "\n",
        "#Create model directory path\n",
        "\n",
        "MODEL_PATH = Path(\"models\")\n",
        "MODEL_PATH.mkdir(parents=True,\n",
        "                 exist_ok=True)\n",
        "\n",
        "#Create model save\n",
        "MODEL_NAME = \"Pytorch computer vision model 2.pth\"\n",
        "MODEL_SAVE_PATH = MODEL_PATH / MODEL_NAME\n",
        "\n",
        "#Save the model state dict\n",
        "print(f\"Saving model to: {MODEL_SAVE_PATH}\")\n",
        "torch.save(obj= model_2.state_dict(),\n",
        "           f = MODEL_SAVE_PATH)"
      ],
      "metadata": {
        "colab": {
          "base_uri": "https://localhost:8080/"
        },
        "id": "TZvb2yOosxbs",
        "outputId": "66d1e723-5c14-4596-8292-2b834e254f25"
      },
      "execution_count": null,
      "outputs": [
        {
          "output_type": "stream",
          "name": "stdout",
          "text": [
            "Saving model to: models/Pytorch computer vision model 2.pth\n"
          ]
        }
      ]
    },
    {
      "cell_type": "code",
      "source": [
        "#Create a new instance\n",
        "torch.manual_seed(42)\n",
        "loaded_model_2 = FashionMNISTModelV2(input_shape=1,\n",
        "                                    hidden_units = 10,\n",
        "                                     output_shape=len(class_names))\n",
        "\n",
        "\n",
        "#Load in the save state_dict()\n",
        "\n",
        "loaded_model_2.load_state_dict(torch.load(f=MODEL_SAVE_PATH))\n",
        "\n",
        "#Send the model to the target device\n",
        "\n",
        "loaded_model_2.to(device)"
      ],
      "metadata": {
        "colab": {
          "base_uri": "https://localhost:8080/"
        },
        "id": "7KP6QOky2U_1",
        "outputId": "89641ede-3e2e-441b-90cf-4bfcfbfde114"
      },
      "execution_count": null,
      "outputs": [
        {
          "output_type": "execute_result",
          "data": {
            "text/plain": [
              "FashionMNISTModelV2(\n",
              "  (conv_block_1): Sequential(\n",
              "    (0): Conv2d(1, 10, kernel_size=(3, 3), stride=(1, 1), padding=(1, 1))\n",
              "    (1): ReLU()\n",
              "    (2): Conv2d(10, 10, kernel_size=(3, 3), stride=(1, 1), padding=(1, 1))\n",
              "    (3): ReLU()\n",
              "    (4): MaxPool2d(kernel_size=2, stride=2, padding=0, dilation=1, ceil_mode=False)\n",
              "  )\n",
              "  (conv_block_2): Sequential(\n",
              "    (0): Conv2d(10, 10, kernel_size=(3, 3), stride=(1, 1), padding=(1, 1))\n",
              "    (1): ReLU()\n",
              "    (2): Conv2d(10, 10, kernel_size=(3, 3), stride=(1, 1), padding=(1, 1))\n",
              "    (3): ReLU()\n",
              "    (4): MaxPool2d(kernel_size=2, stride=2, padding=0, dilation=1, ceil_mode=False)\n",
              "  )\n",
              "  (classifier): Sequential(\n",
              "    (0): Flatten(start_dim=1, end_dim=-1)\n",
              "    (1): Linear(in_features=490, out_features=10, bias=True)\n",
              "  )\n",
              ")"
            ]
          },
          "metadata": {},
          "execution_count": 97
        }
      ]
    },
    {
      "cell_type": "code",
      "source": [
        "# Evaluate loaded model\n",
        "\n",
        "model_2_results"
      ],
      "metadata": {
        "colab": {
          "base_uri": "https://localhost:8080/"
        },
        "id": "zi2r1tc55STP",
        "outputId": "e1eab430-45f3-4012-a0b4-1f91050086d6"
      },
      "execution_count": null,
      "outputs": [
        {
          "output_type": "execute_result",
          "data": {
            "text/plain": [
              "{'model_name': 'FashionMNISTModelV2',\n",
              " 'model_loss': 0.34938228130340576,\n",
              " 'model_acc': 87.46006389776358}"
            ]
          },
          "metadata": {},
          "execution_count": 99
        }
      ]
    },
    {
      "cell_type": "code",
      "source": [
        "torch.manual_seed(42)\n",
        "\n",
        "loaded_model_2_results = eval_model(model = loaded_model_2,\n",
        "                                    data_loader= test_dataloader,\n",
        "                                    loss_fn = loss_fn,\n",
        "                                    accuracy_fn = accuracy_fn,\n",
        ")"
      ],
      "metadata": {
        "colab": {
          "base_uri": "https://localhost:8080/",
          "height": 49,
          "referenced_widgets": [
            "9c48fc937fcc4b97a64fc8bd34f5157d",
            "ac72fc41c6b94550b51a4d51856431d5",
            "a57d839a6a7341cfbe3b18f80121c35d",
            "8febf29b27de4e01bb51ba81fabe6681",
            "4eb8635eb1234461b1047b0cc425033f",
            "26e23156a85640ae849634f14806e86e",
            "aff624d1b6ea41bd9b108bb8db1feeba",
            "aad99b0509b2408282c197ac2acd4570",
            "5c0abcdfd65248a58b75d3c61af4764c",
            "76e2bada88b94031a735f3ac995d4819",
            "142ba99b8bed426ea5f969a0e72cbfb3"
          ]
        },
        "id": "v0WqooGPn7yT",
        "outputId": "1efc20c7-12e5-4627-efd7-bce34abafc74"
      },
      "execution_count": null,
      "outputs": [
        {
          "output_type": "display_data",
          "data": {
            "text/plain": [
              "  0%|          | 0/313 [00:00<?, ?it/s]"
            ],
            "application/vnd.jupyter.widget-view+json": {
              "version_major": 2,
              "version_minor": 0,
              "model_id": "9c48fc937fcc4b97a64fc8bd34f5157d"
            }
          },
          "metadata": {}
        }
      ]
    },
    {
      "cell_type": "code",
      "source": [
        "loaded_model_2_results"
      ],
      "metadata": {
        "colab": {
          "base_uri": "https://localhost:8080/"
        },
        "id": "dThKMFm0oWrR",
        "outputId": "456489a9-a59d-4bdf-9bbe-30908d8fe778"
      },
      "execution_count": null,
      "outputs": [
        {
          "output_type": "execute_result",
          "data": {
            "text/plain": [
              "{'model_name': 'FashionMNISTModelV2',\n",
              " 'model_loss': 0.34938228130340576,\n",
              " 'model_acc': 87.46006389776358}"
            ]
          },
          "metadata": {},
          "execution_count": 101
        }
      ]
    },
    {
      "cell_type": "code",
      "source": [
        "#Check if model results are close to each other\n",
        "torch.isclose(torch.tensor(model_2_results[\"model_loss\"]),\n",
        "              torch.tensor(loaded_model_2_results[\"model_loss\"]),\n",
        "              )"
      ],
      "metadata": {
        "colab": {
          "base_uri": "https://localhost:8080/"
        },
        "id": "up2YaK9IocS-",
        "outputId": "42167e00-5ab9-4a02-89a8-f09fefedb928"
      },
      "execution_count": null,
      "outputs": [
        {
          "output_type": "execute_result",
          "data": {
            "text/plain": [
              "tensor(True)"
            ]
          },
          "metadata": {},
          "execution_count": 102
        }
      ]
    },
    {
      "cell_type": "code",
      "source": [
        "model_2.state_dict()"
      ],
      "metadata": {
        "colab": {
          "base_uri": "https://localhost:8080/"
        },
        "id": "PVfCC6YApFTO",
        "outputId": "e4e10b83-f83d-4210-980d-a2708a37a59c"
      },
      "execution_count": null,
      "outputs": [
        {
          "output_type": "execute_result",
          "data": {
            "text/plain": [
              "OrderedDict([('conv_block_1.0.weight',\n",
              "              tensor([[[[ 3.4499e-01,  3.9632e-01, -4.6718e-01],\n",
              "                        [ 1.4581e-01,  2.5146e-01,  4.8888e-02],\n",
              "                        [-4.4625e-01,  1.3540e-02,  2.2378e-01]]],\n",
              "              \n",
              "              \n",
              "                      [[[-4.7943e-01,  5.2994e-01, -8.9149e-02],\n",
              "                        [ 2.2647e-01,  4.5428e-01,  9.9778e-02],\n",
              "                        [-2.4341e-01,  2.2578e-01,  1.0258e-01]]],\n",
              "              \n",
              "              \n",
              "                      [[[-3.9372e-01, -7.5386e-02, -2.5212e-02],\n",
              "                        [-6.3204e-01, -6.6724e-01,  2.0643e-01],\n",
              "                        [-7.9207e-01, -6.1475e-01, -1.0216e-01]]],\n",
              "              \n",
              "              \n",
              "                      [[[-7.9835e-01, -8.9218e-01, -6.7539e-01],\n",
              "                        [ 2.2395e-01, -6.5609e-01,  1.5425e-01],\n",
              "                        [ 1.5879e-01, -6.4099e-02,  3.5904e-01]]],\n",
              "              \n",
              "              \n",
              "                      [[[-1.0685e-01,  2.7142e-01, -1.0824e-01],\n",
              "                        [-3.2389e-01,  1.2102e-01, -2.9725e-01],\n",
              "                        [-1.5066e-01,  2.6634e-01,  6.9987e-02]]],\n",
              "              \n",
              "              \n",
              "                      [[[-1.4253e-01,  1.9277e-01,  6.1727e-02],\n",
              "                        [ 1.7223e-01, -2.0349e-01, -3.2985e-01],\n",
              "                        [-1.2537e-01, -2.5420e-01,  2.6426e-01]]],\n",
              "              \n",
              "              \n",
              "                      [[[ 5.5766e-02,  7.0997e-02, -5.8943e-02],\n",
              "                        [ 5.7676e-03,  1.7595e-01, -2.8615e-01],\n",
              "                        [-1.7776e-01, -4.9398e-01, -1.8825e-01]]],\n",
              "              \n",
              "              \n",
              "                      [[[-1.1781e-01,  7.7750e-04, -2.1005e-01],\n",
              "                        [ 2.8304e-01, -2.6979e-01, -3.2766e-01],\n",
              "                        [-2.2028e-01,  4.3096e-01,  2.7090e-01]]],\n",
              "              \n",
              "              \n",
              "                      [[[ 5.2785e-01, -2.9772e-01, -3.8007e-01],\n",
              "                        [-2.5134e-01, -3.3225e-01,  9.6591e-02],\n",
              "                        [ 3.2180e-01,  3.8405e-01, -1.3587e-01]]],\n",
              "              \n",
              "              \n",
              "                      [[[-2.2691e-01,  1.7568e-01, -1.3484e-01],\n",
              "                        [ 2.0169e-01, -8.0425e-02,  1.8934e-01],\n",
              "                        [-2.5902e-01, -1.6830e-01,  1.0087e-01]]]])),\n",
              "             ('conv_block_1.0.bias',\n",
              "              tensor([ 0.0495,  0.0328,  0.2378,  0.1668, -0.1774, -0.1929,  0.2099, -0.0721,\n",
              "                      -0.0268, -0.3242])),\n",
              "             ('conv_block_1.2.weight',\n",
              "              tensor([[[[ 1.1627e-01,  6.3933e-02,  2.7612e-03],\n",
              "                        [-9.7909e-02, -1.6641e-01, -1.7741e-01],\n",
              "                        [-1.0710e-01, -1.7708e-01, -1.8891e-01]],\n",
              "              \n",
              "                       [[-7.2505e-02,  4.2639e-02, -5.6004e-02],\n",
              "                        [-2.2202e-01, -3.1156e-01, -2.3975e-01],\n",
              "                        [-1.6860e-01, -1.8218e-01, -2.1651e-01]],\n",
              "              \n",
              "                       [[-1.2960e-02,  2.2880e-02,  1.0061e-01],\n",
              "                        [ 6.2219e-02,  2.5438e-01,  1.7507e-01],\n",
              "                        [-1.0191e-01,  3.5758e-02,  8.2741e-02]],\n",
              "              \n",
              "                       [[-1.8304e-01, -4.8251e-02, -1.8490e-01],\n",
              "                        [ 3.6533e-02, -5.9636e-04, -9.9236e-02],\n",
              "                        [ 1.6821e-01,  5.9231e-02,  4.5662e-02]],\n",
              "              \n",
              "                       [[-1.3276e-01, -1.3721e-01,  3.9886e-04],\n",
              "                        [-5.0600e-02,  2.8575e-02, -1.0583e-01],\n",
              "                        [ 8.7000e-02, -8.0834e-02, -2.2881e-02]],\n",
              "              \n",
              "                       [[ 2.2028e-02,  5.4812e-02,  8.4848e-02],\n",
              "                        [ 9.6398e-02, -8.3595e-02,  2.9524e-02],\n",
              "                        [-4.4639e-02, -1.3007e-02, -7.7893e-02]],\n",
              "              \n",
              "                       [[ 1.8321e-01, -3.3713e-02,  1.0337e-02],\n",
              "                        [ 1.8057e-01,  1.1623e-01, -1.3057e-02],\n",
              "                        [ 9.7726e-02,  1.0206e-02, -3.5602e-02]],\n",
              "              \n",
              "                       [[-8.4621e-02,  4.7508e-02, -1.0088e-02],\n",
              "                        [-4.7718e-02,  8.6163e-02,  1.0783e-02],\n",
              "                        [-4.5228e-02, -6.4747e-02, -2.6200e-02]],\n",
              "              \n",
              "                       [[ 6.9813e-02, -2.3487e-04, -3.6252e-02],\n",
              "                        [-2.5657e-02, -6.9309e-02,  6.6624e-02],\n",
              "                        [ 8.7993e-02, -1.0688e-01, -1.7787e-04]],\n",
              "              \n",
              "                       [[ 5.4465e-02,  1.9116e-02, -3.7528e-02],\n",
              "                        [ 5.5016e-02,  5.5394e-02,  3.9425e-02],\n",
              "                        [-1.8523e-02, -2.7911e-02,  1.1270e-02]]],\n",
              "              \n",
              "              \n",
              "                      [[[-3.0492e-02, -2.9899e-02,  8.3597e-02],\n",
              "                        [ 9.0264e-02,  1.1069e-04, -6.8984e-03],\n",
              "                        [-1.0440e-02, -1.9322e-02,  1.2920e-02]],\n",
              "              \n",
              "                       [[ 1.9745e-02, -8.6871e-02, -3.3519e-02],\n",
              "                        [ 7.9639e-02,  4.9764e-02,  1.3092e-02],\n",
              "                        [-1.0611e-01, -8.6266e-02, -9.3251e-02]],\n",
              "              \n",
              "                       [[-3.4943e-02,  3.3375e-02,  6.2039e-02],\n",
              "                        [ 4.8223e-02, -9.5420e-02, -6.7831e-02],\n",
              "                        [-1.9635e-02,  1.0380e-01,  1.3518e-02]],\n",
              "              \n",
              "                       [[-7.8892e-03,  4.9085e-02, -3.7871e-02],\n",
              "                        [-6.4467e-02,  7.6270e-02, -5.0681e-02],\n",
              "                        [-2.2712e-02, -1.1276e-01,  7.3314e-02]],\n",
              "              \n",
              "                       [[ 7.2310e-02,  3.3522e-02, -6.9979e-02],\n",
              "                        [-1.3104e-01, -1.0438e-01,  7.4606e-02],\n",
              "                        [ 3.0972e-02,  8.3594e-02,  5.2300e-02]],\n",
              "              \n",
              "                       [[ 2.6662e-02, -9.4808e-04, -8.0133e-02],\n",
              "                        [-9.0094e-02, -9.8495e-02,  4.3414e-02],\n",
              "                        [-5.1770e-02, -2.1186e-02, -6.0720e-02]],\n",
              "              \n",
              "                       [[-2.3818e-02, -7.5949e-02, -7.3583e-02],\n",
              "                        [ 4.6612e-02, -3.0713e-02,  6.6879e-02],\n",
              "                        [-2.8133e-02, -8.8789e-02, -2.6474e-02]],\n",
              "              \n",
              "                       [[-4.7313e-02, -3.4361e-02, -1.0236e-01],\n",
              "                        [ 6.3298e-02, -7.3064e-02,  5.1738e-02],\n",
              "                        [ 4.9653e-02,  7.9188e-02, -7.7507e-02]],\n",
              "              \n",
              "                       [[ 7.9373e-02, -5.0672e-02,  3.8387e-02],\n",
              "                        [ 9.4630e-02, -1.9556e-02, -2.6765e-03],\n",
              "                        [-2.6249e-02, -8.8305e-02,  5.1651e-02]],\n",
              "              \n",
              "                       [[-1.0464e-01,  6.5433e-02,  7.8880e-02],\n",
              "                        [ 9.9691e-02, -2.4853e-02, -8.6620e-02],\n",
              "                        [ 2.3699e-02,  5.8231e-02, -1.0491e-01]]],\n",
              "              \n",
              "              \n",
              "                      [[[-2.3822e-02, -6.4348e-02, -1.0980e-02],\n",
              "                        [-5.1245e-02, -4.2222e-02, -3.0406e-02],\n",
              "                        [-9.6785e-02,  8.8030e-02,  8.8000e-02]],\n",
              "              \n",
              "                       [[-1.6723e-02, -1.2151e-02, -4.2937e-02],\n",
              "                        [-9.5063e-02, -1.0205e-01,  4.1033e-02],\n",
              "                        [-5.4489e-02, -6.3353e-02, -3.9094e-03]],\n",
              "              \n",
              "                       [[-3.5521e-02, -3.5710e-02,  2.1020e-03],\n",
              "                        [-2.2072e-02, -3.7015e-02, -5.2958e-02],\n",
              "                        [-8.8435e-02,  8.5455e-02, -4.2144e-02]],\n",
              "              \n",
              "                       [[ 2.6098e-02, -3.8786e-02,  5.3284e-03],\n",
              "                        [ 9.8871e-02,  5.0192e-02, -8.7868e-02],\n",
              "                        [ 4.5719e-02,  1.0360e-01,  3.0865e-02]],\n",
              "              \n",
              "                       [[ 7.0689e-02,  1.0394e-01, -1.6261e-02],\n",
              "                        [ 2.1812e-02, -7.3791e-02, -2.0227e-02],\n",
              "                        [ 8.0790e-02,  5.7542e-02, -6.6854e-02]],\n",
              "              \n",
              "                       [[-8.4525e-02, -7.2033e-02, -1.0403e-01],\n",
              "                        [-8.1338e-02, -2.6193e-02,  7.1309e-02],\n",
              "                        [ 1.7633e-02, -8.0099e-02, -8.4538e-02]],\n",
              "              \n",
              "                       [[ 5.0968e-02, -8.0460e-02, -1.4422e-02],\n",
              "                        [ 5.0083e-02, -5.0074e-02, -1.2270e-02],\n",
              "                        [-1.1810e-02, -2.6787e-02, -5.3998e-02]],\n",
              "              \n",
              "                       [[-9.3952e-02, -8.5214e-02, -5.6501e-02],\n",
              "                        [ 1.0203e-01, -5.1465e-02, -6.8875e-02],\n",
              "                        [ 2.7578e-02,  3.0648e-02,  5.4845e-02]],\n",
              "              \n",
              "                       [[ 7.9914e-02,  5.8808e-02, -1.0464e-01],\n",
              "                        [ 9.6980e-03,  6.4468e-02, -1.0365e-02],\n",
              "                        [-6.3366e-02,  1.0221e-01, -3.5065e-02]],\n",
              "              \n",
              "                       [[-6.0014e-02, -9.5032e-02,  4.7085e-03],\n",
              "                        [ 4.6710e-02,  2.3334e-02,  2.0845e-02],\n",
              "                        [-7.9942e-02, -9.8441e-02,  1.8621e-03]]],\n",
              "              \n",
              "              \n",
              "                      [[[-8.9785e-02, -1.5006e-01,  1.3228e-01],\n",
              "                        [-6.4375e-02,  7.0773e-02, -3.2981e-02],\n",
              "                        [ 1.1417e-01,  1.3912e-01,  1.5875e-02]],\n",
              "              \n",
              "                       [[-6.6838e-02,  5.1768e-02,  2.0643e-01],\n",
              "                        [ 2.1486e-01,  1.1226e-01, -6.3272e-02],\n",
              "                        [-3.3961e-02, -1.5673e-01, -6.1372e-02]],\n",
              "              \n",
              "                       [[-2.0861e-01, -3.3030e-01, -4.0737e-01],\n",
              "                        [-1.3189e-01, -8.9262e-02, -2.6095e-01],\n",
              "                        [ 1.1632e-01, -4.1407e-02, -1.9539e-01]],\n",
              "              \n",
              "                       [[ 1.3021e-02,  1.7140e-01,  4.9091e-02],\n",
              "                        [-4.4441e-01, -3.0672e-01,  1.2079e-02],\n",
              "                        [-1.4277e-01, -2.4272e-01, -2.3759e-01]],\n",
              "              \n",
              "                       [[-1.2061e-01, -1.9894e-01, -9.1942e-02],\n",
              "                        [-3.6495e-02,  6.4052e-02,  1.3998e-01],\n",
              "                        [-5.5326e-03,  3.5238e-02,  4.4544e-02]],\n",
              "              \n",
              "                       [[-5.2849e-02, -5.0501e-02,  3.4040e-02],\n",
              "                        [-6.7435e-02, -6.9180e-02, -6.5083e-03],\n",
              "                        [-4.0711e-02, -7.9863e-02,  5.8196e-02]],\n",
              "              \n",
              "                       [[ 1.2178e-01, -7.4917e-02,  1.0697e-01],\n",
              "                        [-1.0747e-01, -1.4864e-01, -5.0181e-02],\n",
              "                        [ 2.5274e-01,  6.7470e-02,  1.4978e-01]],\n",
              "              \n",
              "                       [[-1.2037e-01, -2.3459e-01, -1.5019e-01],\n",
              "                        [-1.7812e-01, -5.4676e-02, -7.3840e-02],\n",
              "                        [ 5.5954e-02, -4.2605e-02,  1.8650e-03]],\n",
              "              \n",
              "                       [[ 5.9310e-03,  1.2564e-02, -1.1383e-01],\n",
              "                        [-2.0213e-01, -1.9519e-01, -8.9821e-02],\n",
              "                        [ 3.2276e-02, -8.8848e-02, -6.1880e-02]],\n",
              "              \n",
              "                       [[-1.0378e-01, -8.6158e-02,  2.0252e-02],\n",
              "                        [ 2.8117e-02,  2.2208e-02, -2.8826e-02],\n",
              "                        [ 9.7222e-02,  1.5034e-02, -6.2226e-02]]],\n",
              "              \n",
              "              \n",
              "                      [[[-5.2689e-02,  5.5616e-03,  1.9263e-02],\n",
              "                        [-9.7397e-02,  3.9093e-02, -6.5665e-02],\n",
              "                        [-1.0385e-01, -6.5586e-02,  6.9603e-02]],\n",
              "              \n",
              "                       [[ 8.1053e-02,  9.4392e-02,  3.5160e-02],\n",
              "                        [ 8.1116e-02, -2.2330e-02, -8.8507e-02],\n",
              "                        [ 3.7473e-02, -7.6865e-02, -1.0290e-01]],\n",
              "              \n",
              "                       [[-4.6929e-02,  6.3648e-03,  3.6809e-02],\n",
              "                        [-5.3468e-02, -7.6929e-02, -2.3157e-03],\n",
              "                        [-7.7100e-02, -8.3630e-02,  3.9699e-02]],\n",
              "              \n",
              "                       [[-2.6855e-02,  8.1003e-02,  8.2661e-02],\n",
              "                        [ 1.5142e-02,  2.0210e-02,  1.0940e-02],\n",
              "                        [-1.6607e-02, -2.5684e-02, -2.0270e-02]],\n",
              "              \n",
              "                       [[ 2.3743e-02,  8.7587e-02, -4.3774e-02],\n",
              "                        [-5.5821e-02, -3.6028e-02, -6.5384e-02],\n",
              "                        [ 1.0489e-02,  7.1286e-02,  6.7685e-02]],\n",
              "              \n",
              "                       [[ 4.8418e-02, -7.7579e-02, -5.6525e-02],\n",
              "                        [-2.3126e-02, -1.9366e-02,  8.7859e-03],\n",
              "                        [-9.6804e-02,  3.3043e-02, -8.0457e-02]],\n",
              "              \n",
              "                       [[-9.8673e-02, -1.0816e-01,  7.5020e-02],\n",
              "                        [-1.2297e-01,  6.8792e-02, -2.1585e-02],\n",
              "                        [-3.1873e-02,  4.7131e-02, -3.3732e-02]],\n",
              "              \n",
              "                       [[ 6.5203e-02,  7.2994e-02, -9.5385e-02],\n",
              "                        [ 3.9882e-02,  2.0255e-02,  2.2129e-02],\n",
              "                        [ 1.5086e-02,  2.9242e-02, -4.9842e-02]],\n",
              "              \n",
              "                       [[-1.2034e-02,  9.9371e-02,  6.8853e-02],\n",
              "                        [-6.9874e-03, -1.0012e-01,  3.2024e-03],\n",
              "                        [-7.1962e-02,  8.4895e-02, -5.9062e-02]],\n",
              "              \n",
              "                       [[-7.6214e-03, -2.3395e-02,  1.8772e-02],\n",
              "                        [ 9.9194e-02,  1.0011e-02,  6.1066e-02],\n",
              "                        [ 8.1817e-02,  8.5097e-02, -3.6403e-02]]],\n",
              "              \n",
              "              \n",
              "                      [[[ 2.5293e-01,  3.6300e-01,  2.9417e-01],\n",
              "                        [-1.2415e-01, -1.6564e-01, -4.2225e-02],\n",
              "                        [-2.4565e-01, -2.8032e-01, -1.4687e-01]],\n",
              "              \n",
              "                       [[ 2.0350e-01,  2.3907e-01,  3.3286e-01],\n",
              "                        [-1.6236e-01, -1.6982e-01, -5.8392e-03],\n",
              "                        [-2.7685e-01, -3.9913e-01, -2.7999e-01]],\n",
              "              \n",
              "                       [[-4.1461e-02, -4.9784e-02, -5.9100e-02],\n",
              "                        [-8.0085e-02, -1.4616e-02,  5.7544e-02],\n",
              "                        [ 1.6760e-01,  8.4653e-02,  9.4268e-02]],\n",
              "              \n",
              "                       [[-2.0520e-02, -1.1470e-01, -1.2447e-01],\n",
              "                        [-5.6267e-03, -1.9008e-01, -1.2100e-01],\n",
              "                        [ 9.8926e-02,  4.2783e-03, -8.0469e-02]],\n",
              "              \n",
              "                       [[-4.7020e-03,  6.3001e-02,  1.8960e-02],\n",
              "                        [ 9.2045e-03,  1.9382e-02,  1.6663e-02],\n",
              "                        [-1.9879e-01, -9.9188e-02, -1.9201e-01]],\n",
              "              \n",
              "                       [[-8.3834e-02, -8.6387e-03, -9.2589e-02],\n",
              "                        [ 7.4204e-02,  1.2093e-02, -5.6285e-02],\n",
              "                        [ 5.6274e-02, -9.9022e-02, -3.9315e-02]],\n",
              "              \n",
              "                       [[ 1.2168e-01, -1.1908e-02, -3.7547e-02],\n",
              "                        [ 6.7177e-02,  6.3060e-02,  9.1529e-02],\n",
              "                        [ 1.9891e-01,  7.4505e-02,  2.8494e-02]],\n",
              "              \n",
              "                       [[ 9.7111e-02,  4.5313e-02,  3.3277e-03],\n",
              "                        [ 9.4358e-03, -8.4732e-02, -4.9976e-02],\n",
              "                        [ 1.4171e-01, -2.0739e-02, -1.1770e-02]],\n",
              "              \n",
              "                       [[-1.0430e-01, -3.2483e-02, -8.9129e-03],\n",
              "                        [-5.0771e-02,  3.7275e-02,  2.5438e-02],\n",
              "                        [-6.3553e-02,  9.0757e-02, -7.3764e-02]],\n",
              "              \n",
              "                       [[-5.1532e-02,  4.0214e-02,  8.3913e-02],\n",
              "                        [-2.8800e-02, -4.3211e-02, -9.5260e-02],\n",
              "                        [-5.4259e-02, -9.2324e-02, -2.4073e-02]]],\n",
              "              \n",
              "              \n",
              "                      [[[ 1.4133e-01, -9.5949e-02, -1.4253e-01],\n",
              "                        [ 1.1744e-01,  6.5270e-02, -3.7694e-01],\n",
              "                        [ 1.9672e-01,  4.0374e-01, -1.7021e-01]],\n",
              "              \n",
              "                       [[ 6.7053e-02,  1.1075e-01, -5.3925e-01],\n",
              "                        [ 3.6313e-01,  2.2456e-01, -3.1847e-01],\n",
              "                        [ 3.2875e-01,  2.5371e-01, -5.2723e-01]],\n",
              "              \n",
              "                       [[-2.2521e-01, -1.8566e-01, -1.2422e-01],\n",
              "                        [-1.4494e-01, -3.1656e-01,  1.2660e-02],\n",
              "                        [ 1.1239e-01, -8.0207e-02,  2.8033e-02]],\n",
              "              \n",
              "                       [[-3.8688e-01, -1.0488e-01,  6.0267e-02],\n",
              "                        [-6.8669e-02, -1.2698e-01,  4.4822e-01],\n",
              "                        [-1.0335e-01, -3.3821e-01,  2.1134e-01]],\n",
              "              \n",
              "                       [[ 4.9203e-02,  9.4273e-02, -1.6357e-01],\n",
              "                        [-4.7931e-02,  1.3705e-01, -1.7748e-01],\n",
              "                        [-1.9971e-01,  1.9813e-01, -1.7906e-01]],\n",
              "              \n",
              "                       [[ 9.4538e-02, -9.2918e-02, -3.5146e-02],\n",
              "                        [-1.0024e-01, -4.3117e-02,  3.2010e-02],\n",
              "                        [ 1.0076e-01,  1.6944e-02,  1.0368e-01]],\n",
              "              \n",
              "                       [[ 1.2071e-01,  1.0228e-01,  2.2494e-01],\n",
              "                        [-4.9046e-02, -1.4680e-01,  8.0868e-02],\n",
              "                        [ 9.6354e-02,  9.6385e-02,  2.9722e-02]],\n",
              "              \n",
              "                       [[-1.8626e-01, -5.2765e-02, -4.9325e-02],\n",
              "                        [-7.1985e-02, -9.9386e-03,  5.3595e-02],\n",
              "                        [ 1.2710e-03, -4.1153e-02,  3.3864e-02]],\n",
              "              \n",
              "                       [[ 6.8693e-02, -2.0684e-01,  1.8322e-02],\n",
              "                        [ 6.1729e-02, -3.3609e-02, -2.4485e-01],\n",
              "                        [ 8.0358e-03, -1.5327e-01, -2.0093e-01]],\n",
              "              \n",
              "                       [[ 5.9445e-02,  3.8312e-02,  8.3653e-02],\n",
              "                        [-3.9289e-02,  3.5434e-02,  3.7611e-02],\n",
              "                        [-8.7798e-02, -1.0195e-01, -5.4790e-02]]],\n",
              "              \n",
              "              \n",
              "                      [[[ 1.4618e-01, -9.3651e-02, -3.1205e-01],\n",
              "                        [ 1.2626e-01,  1.6094e-01, -1.6913e-01],\n",
              "                        [-3.5267e-02,  9.7239e-02, -2.9289e-02]],\n",
              "              \n",
              "                       [[ 1.6168e-01,  4.9596e-02, -3.1761e-01],\n",
              "                        [ 7.4948e-02,  1.8001e-01, -3.4583e-01],\n",
              "                        [ 4.3752e-02,  2.7289e-01, -2.8928e-01]],\n",
              "              \n",
              "                       [[-8.9088e-02, -1.0369e-03, -5.5483e-03],\n",
              "                        [-1.3998e-02, -1.3797e-01, -7.7557e-02],\n",
              "                        [ 1.0229e-01, -1.0485e-01, -4.5099e-02]],\n",
              "              \n",
              "                       [[ 2.1467e-02, -6.8396e-02,  2.4868e-01],\n",
              "                        [-5.9864e-02, -7.6364e-02,  1.6369e-01],\n",
              "                        [-6.6725e-02, -1.7814e-01,  1.0873e-01]],\n",
              "              \n",
              "                       [[ 4.8254e-02, -9.0121e-02, -2.1255e-01],\n",
              "                        [ 8.6701e-02,  1.1585e-01, -8.2532e-02],\n",
              "                        [-8.0469e-02,  6.1131e-02, -9.1804e-02]],\n",
              "              \n",
              "                       [[-1.9983e-02, -7.2140e-02,  8.0290e-03],\n",
              "                        [ 1.0302e-02, -1.3779e-02,  1.3884e-02],\n",
              "                        [-4.2103e-02,  2.6140e-02,  3.9476e-02]],\n",
              "              \n",
              "                       [[-3.3529e-02, -7.6178e-02,  1.1417e-01],\n",
              "                        [ 1.3250e-02, -5.7742e-02,  8.1115e-02],\n",
              "                        [-6.1012e-02,  1.2958e-01,  9.4253e-02]],\n",
              "              \n",
              "                       [[-8.8527e-02,  8.8171e-02, -1.0492e-01],\n",
              "                        [-9.6189e-02,  1.8059e-02,  2.9200e-03],\n",
              "                        [ 1.0339e-01, -4.7857e-02,  4.4324e-02]],\n",
              "              \n",
              "                       [[-6.8165e-02,  7.8170e-02, -6.2995e-02],\n",
              "                        [-6.2304e-02,  4.7052e-03,  5.2234e-02],\n",
              "                        [ 1.1071e-01, -6.6829e-02, -7.8327e-02]],\n",
              "              \n",
              "                       [[ 2.0246e-02,  2.8593e-02,  4.0517e-02],\n",
              "                        [ 5.7827e-02, -2.3928e-02,  5.8567e-02],\n",
              "                        [ 7.7730e-02, -2.7553e-02,  7.4979e-02]]],\n",
              "              \n",
              "              \n",
              "                      [[[ 4.2452e-02,  7.0406e-02,  6.4178e-02],\n",
              "                        [ 7.0952e-02,  7.0385e-04, -2.7246e-02],\n",
              "                        [ 2.3254e-01, -2.6743e-02, -8.4460e-02]],\n",
              "              \n",
              "                       [[ 7.2954e-02,  1.4035e-01,  6.8830e-02],\n",
              "                        [ 1.3154e-01, -1.1564e-01, -6.9493e-02],\n",
              "                        [ 2.4294e-01, -1.3830e-01,  2.1888e-02]],\n",
              "              \n",
              "                       [[-1.1728e-01, -2.9188e-01, -5.2659e-02],\n",
              "                        [-2.0706e-01, -2.7447e-01, -1.5243e-01],\n",
              "                        [-8.9857e-02, -1.7346e-01, -2.6303e-02]],\n",
              "              \n",
              "                       [[-1.8361e-01, -5.6383e-02,  6.6757e-02],\n",
              "                        [-1.9693e-01, -2.4041e-01, -4.6900e-02],\n",
              "                        [-6.3860e-02, -1.5668e-01,  4.4284e-02]],\n",
              "              \n",
              "                       [[ 9.2706e-03, -1.8699e-02,  2.9415e-02],\n",
              "                        [ 1.3677e-01,  6.9989e-02, -3.6448e-02],\n",
              "                        [ 5.0760e-02, -1.4932e-01, -1.3811e-01]],\n",
              "              \n",
              "                       [[ 8.5956e-02,  8.0568e-02,  3.1437e-02],\n",
              "                        [ 6.4484e-03, -8.9780e-02, -1.3193e-02],\n",
              "                        [ 1.0170e-01,  2.6015e-02,  9.9422e-03]],\n",
              "              \n",
              "                       [[-6.5537e-03, -1.0269e-02,  1.3507e-01],\n",
              "                        [-1.6196e-02,  4.0289e-02, -4.0524e-02],\n",
              "                        [ 1.0636e-01,  9.7894e-02,  7.0510e-02]],\n",
              "              \n",
              "                       [[-6.0637e-02, -6.3270e-02,  7.2657e-02],\n",
              "                        [ 3.3198e-02, -8.6695e-02, -1.2630e-01],\n",
              "                        [-2.8038e-03, -3.2408e-02, -6.8218e-02]],\n",
              "              \n",
              "                       [[-6.4651e-02, -1.2090e-01, -7.5582e-02],\n",
              "                        [ 4.8454e-03, -9.7696e-02, -1.4375e-01],\n",
              "                        [ 3.8008e-03, -9.6834e-02, -1.3086e-02]],\n",
              "              \n",
              "                       [[ 5.5863e-02,  9.5091e-02,  4.4963e-04],\n",
              "                        [ 2.1258e-02,  3.6574e-02, -9.9880e-02],\n",
              "                        [ 9.5566e-03, -6.9751e-03, -5.9042e-02]]],\n",
              "              \n",
              "              \n",
              "                      [[[-2.3773e-01,  3.8566e-01,  4.0538e-01],\n",
              "                        [-4.2561e-01, -1.2905e-02,  1.2854e-01],\n",
              "                        [-3.3089e-01, -1.5513e-01,  5.9564e-03]],\n",
              "              \n",
              "                       [[-2.2858e-01,  8.6081e-02,  1.3250e-01],\n",
              "                        [-4.0445e-01, -3.6446e-02,  3.6945e-01],\n",
              "                        [-3.1388e-01, -3.5615e-02,  3.9506e-01]],\n",
              "              \n",
              "                       [[-7.6018e-02,  7.9684e-03,  7.2044e-02],\n",
              "                        [-9.2361e-02,  3.8583e-02, -4.2667e-02],\n",
              "                        [-4.2258e-02, -3.3461e-03, -1.0831e-02]],\n",
              "              \n",
              "                       [[-1.2507e-01, -2.3626e-02, -8.4154e-02],\n",
              "                        [ 1.7829e-03, -4.6015e-02, -1.9770e-01],\n",
              "                        [ 1.4591e-01, -1.1204e-01, -1.2950e-01]],\n",
              "              \n",
              "                       [[-1.3389e-01,  9.7110e-03, -9.9541e-02],\n",
              "                        [-5.4062e-02, -5.9201e-02,  2.9926e-02],\n",
              "                        [ 2.3143e-02,  1.1432e-01,  2.0820e-01]],\n",
              "              \n",
              "                       [[-9.9019e-02, -7.2025e-02, -3.7643e-02],\n",
              "                        [ 9.0871e-02,  1.2234e-02, -7.8316e-02],\n",
              "                        [ 2.9404e-03, -8.2559e-02, -2.3029e-02]],\n",
              "              \n",
              "                       [[-1.4235e-02,  8.2641e-02, -3.8370e-02],\n",
              "                        [ 1.1733e-02,  5.6760e-03, -4.8233e-02],\n",
              "                        [ 4.4394e-02, -3.4782e-02, -5.9348e-02]],\n",
              "              \n",
              "                       [[-4.3753e-02,  9.1853e-02, -2.5024e-02],\n",
              "                        [-4.0080e-02,  5.0532e-02,  8.8775e-02],\n",
              "                        [ 1.4261e-01,  4.4624e-02, -3.9902e-02]],\n",
              "              \n",
              "                       [[ 5.5652e-02,  1.2628e-01, -5.6587e-02],\n",
              "                        [ 1.1067e-02, -6.4289e-02,  1.5116e-02],\n",
              "                        [ 8.5142e-02, -2.5287e-02, -1.4150e-02]],\n",
              "              \n",
              "                       [[ 4.7524e-02, -1.7678e-02, -8.8387e-02],\n",
              "                        [ 8.4429e-02, -5.2924e-02, -1.1439e-02],\n",
              "                        [ 9.9640e-03, -6.3753e-03, -9.9004e-02]]]])),\n",
              "             ('conv_block_1.2.bias',\n",
              "              tensor([ 0.3747, -0.0165, -0.0573,  0.4099, -0.1139, -0.0159,  0.0644,  0.0979,\n",
              "                       0.2806, -0.0170])),\n",
              "             ('conv_block_2.0.weight',\n",
              "              tensor([[[[-4.3806e-02, -1.0169e-01, -3.4638e-02],\n",
              "                        [-3.9830e-02,  1.1999e-02,  1.1923e-01],\n",
              "                        [-4.6148e-02,  6.7347e-02,  9.1463e-02]],\n",
              "              \n",
              "                       [[ 5.9176e-02, -1.0060e-01, -4.1367e-02],\n",
              "                        [-9.0177e-02, -6.7172e-02,  5.7974e-02],\n",
              "                        [-1.2837e-02,  4.6452e-02, -6.1297e-02]],\n",
              "              \n",
              "                       [[ 1.6423e-02, -6.3421e-02,  5.2683e-02],\n",
              "                        [-4.5676e-02, -2.6342e-02, -9.1768e-02],\n",
              "                        [ 4.7120e-04,  1.0027e-01,  5.1432e-02]],\n",
              "              \n",
              "                       [[-9.0569e-02,  8.0150e-02, -1.6302e-02],\n",
              "                        [-1.0011e-01,  1.1952e-01, -5.4692e-02],\n",
              "                        [-3.5869e-02, -1.1494e-01, -9.4832e-02]],\n",
              "              \n",
              "                       [[ 1.5519e-02,  4.1544e-02,  2.3087e-02],\n",
              "                        [-5.1925e-02,  1.0564e-01, -1.7510e-02],\n",
              "                        [-6.8603e-02, -4.3131e-02,  1.0306e-01]],\n",
              "              \n",
              "                       [[ 2.9724e-02, -7.4035e-02, -5.4516e-02],\n",
              "                        [ 3.9786e-02, -8.9593e-02, -9.4528e-02],\n",
              "                        [ 1.1806e-01,  1.4039e-01,  9.0544e-02]],\n",
              "              \n",
              "                       [[-7.9434e-02,  1.8454e-01, -1.6026e-01],\n",
              "                        [ 1.3364e-01,  1.7778e-01, -2.0201e-02],\n",
              "                        [ 2.8543e-01, -1.5047e-03, -1.2019e-01]],\n",
              "              \n",
              "                       [[ 7.9458e-02,  3.6764e-02, -1.4334e-02],\n",
              "                        [ 4.8383e-02,  7.7363e-02, -1.3437e-01],\n",
              "                        [ 9.1246e-02, -6.6629e-02, -8.0050e-02]],\n",
              "              \n",
              "                       [[-1.4071e-01, -8.9243e-03,  1.0864e-02],\n",
              "                        [ 5.5030e-02,  1.7346e-01,  5.8023e-02],\n",
              "                        [-4.3900e-02, -1.0912e-01,  2.0489e-02]],\n",
              "              \n",
              "                       [[ 2.5454e-01, -2.1991e-02,  3.8165e-02],\n",
              "                        [ 2.3312e-01,  1.0368e-01, -7.1225e-02],\n",
              "                        [ 1.2395e-01,  1.6688e-01,  4.0696e-02]]],\n",
              "              \n",
              "              \n",
              "                      [[[-8.1326e-02, -1.7793e-01, -1.2090e-01],\n",
              "                        [ 1.4404e-01, -2.6011e-01, -2.5737e-03],\n",
              "                        [ 5.8154e-02,  7.3079e-02, -1.0113e-01]],\n",
              "              \n",
              "                       [[ 4.6889e-02, -4.0332e-02, -1.1552e-01],\n",
              "                        [-4.6625e-02,  1.1728e-01, -1.2502e-02],\n",
              "                        [ 1.8337e-02, -5.0017e-02,  5.9670e-02]],\n",
              "              \n",
              "                       [[ 6.0979e-02,  3.7772e-02, -5.0994e-02],\n",
              "                        [-8.6536e-02,  3.7803e-03, -6.2158e-02],\n",
              "                        [ 8.6483e-02, -1.0209e-01,  4.7093e-02]],\n",
              "              \n",
              "                       [[-1.8410e-01,  3.2037e-01,  4.2072e-01],\n",
              "                        [-1.8017e-01,  8.0125e-01,  2.2807e-01],\n",
              "                        [-8.3877e-01, -1.3889e-01, -8.1623e-02]],\n",
              "              \n",
              "                       [[ 1.2221e-03,  1.1122e-01, -7.3547e-02],\n",
              "                        [-7.1350e-02,  3.4188e-02, -1.3316e-02],\n",
              "                        [ 1.7226e-02, -9.3322e-02, -3.5968e-02]],\n",
              "              \n",
              "                       [[ 4.5440e-02, -4.0720e-01, -9.4046e-02],\n",
              "                        [ 2.9842e-01,  1.0943e-01,  2.3138e-02],\n",
              "                        [ 8.7258e-02,  2.5115e-01,  1.2148e-01]],\n",
              "              \n",
              "                       [[-5.1342e-01, -3.8941e-02,  2.0188e-01],\n",
              "                        [-5.6635e-01,  4.7626e-01,  3.5298e-01],\n",
              "                        [-4.4370e-01, -9.3052e-02,  9.8115e-03]],\n",
              "              \n",
              "                       [[-3.0202e-02, -2.0744e-01, -1.3389e-03],\n",
              "                        [-2.7389e-01,  1.5324e-02, -1.8066e-01],\n",
              "                        [-2.5709e-01, -1.0088e-01, -1.5522e-01]],\n",
              "              \n",
              "                       [[-4.6325e-01,  9.0291e-02,  3.9722e-01],\n",
              "                        [-2.4376e-01,  3.5452e-01,  2.9622e-01],\n",
              "                        [-2.4009e-01, -1.1485e-01, -5.1176e-02]],\n",
              "              \n",
              "                       [[ 2.8420e-01, -5.0410e-02, -2.3101e-01],\n",
              "                        [ 3.1976e-01, -1.1874e-01, -2.2284e-01],\n",
              "                        [-2.0585e-01,  1.5352e-01,  2.4883e-01]]],\n",
              "              \n",
              "              \n",
              "                      [[[-5.9462e-02,  6.6647e-02,  7.2034e-02],\n",
              "                        [-1.0199e-01, -1.0991e-01, -1.0113e-01],\n",
              "                        [-7.9496e-02, -5.7760e-02, -2.0875e-02]],\n",
              "              \n",
              "                       [[-2.5480e-02, -5.3590e-02, -3.3797e-02],\n",
              "                        [-3.9057e-02,  1.0366e-01, -3.8810e-02],\n",
              "                        [-7.5476e-02,  4.3774e-02, -5.9646e-03]],\n",
              "              \n",
              "                       [[ 8.0689e-02,  6.5851e-02,  9.6871e-02],\n",
              "                        [-7.7197e-02,  6.7759e-02,  8.8470e-02],\n",
              "                        [-5.2056e-02,  9.6896e-02,  7.9016e-02]],\n",
              "              \n",
              "                       [[-1.6888e-02,  6.6487e-02, -6.0270e-02],\n",
              "                        [-1.1121e-01,  4.4715e-02,  2.2105e-02],\n",
              "                        [-9.0042e-02,  3.0128e-02, -1.2343e-01]],\n",
              "              \n",
              "                       [[ 8.2921e-02,  9.9192e-02,  1.4120e-02],\n",
              "                        [-6.6253e-02,  5.9052e-02,  9.8840e-03],\n",
              "                        [ 1.4448e-02,  2.6957e-02,  5.8811e-02]],\n",
              "              \n",
              "                       [[-4.7016e-02, -3.0396e-02,  2.0314e-02],\n",
              "                        [ 2.5439e-03,  9.0286e-02, -4.9996e-02],\n",
              "                        [-5.3872e-03,  1.8416e-02, -2.8780e-02]],\n",
              "              \n",
              "                       [[ 4.7261e-02,  5.7853e-03, -1.0018e-01],\n",
              "                        [-2.2935e-02, -5.3715e-02,  1.6796e-02],\n",
              "                        [-2.9696e-02, -1.1496e-01, -3.1736e-02]],\n",
              "              \n",
              "                       [[-2.2622e-02, -3.6687e-02,  8.6834e-02],\n",
              "                        [-2.3274e-02,  7.4158e-02,  2.9666e-02],\n",
              "                        [-9.9434e-02,  2.0222e-02,  7.5734e-02]],\n",
              "              \n",
              "                       [[-1.0025e-01, -6.6802e-02,  7.9548e-02],\n",
              "                        [ 6.9185e-02, -4.3375e-02,  5.8031e-02],\n",
              "                        [-3.2582e-02, -1.1214e-01, -1.5568e-02]],\n",
              "              \n",
              "                       [[ 6.1231e-02, -3.2511e-02,  2.7520e-02],\n",
              "                        [-6.9795e-02,  7.9390e-02,  8.1356e-02],\n",
              "                        [ 6.2811e-02,  1.5830e-02,  2.8166e-02]]],\n",
              "              \n",
              "              \n",
              "                      [[[-9.0877e-02, -6.1144e-02, -2.6446e-02],\n",
              "                        [-6.9045e-02, -5.8718e-02,  1.2067e-01],\n",
              "                        [ 5.1090e-02, -9.9006e-02,  5.4177e-02]],\n",
              "              \n",
              "                       [[ 4.0310e-02,  1.0399e-01,  6.2842e-02],\n",
              "                        [ 9.6192e-02, -3.4986e-02,  7.2100e-02],\n",
              "                        [ 8.6286e-02, -9.6067e-02, -8.5591e-02]],\n",
              "              \n",
              "                       [[ 2.0988e-02,  5.7694e-02, -5.2745e-02],\n",
              "                        [ 1.1341e-02, -1.1154e-04,  2.6782e-02],\n",
              "                        [-5.6659e-02,  5.9455e-02,  7.0165e-02]],\n",
              "              \n",
              "                       [[ 4.7353e-02,  7.9573e-02,  2.7075e-02],\n",
              "                        [ 1.5127e-01,  4.8769e-02, -1.1508e-01],\n",
              "                        [ 1.6525e-02,  4.7816e-02, -2.3141e-01]],\n",
              "              \n",
              "                       [[-2.7621e-02,  7.7578e-03, -7.8104e-02],\n",
              "                        [ 1.5193e-02, -7.1878e-02,  1.6138e-02],\n",
              "                        [ 1.2097e-02,  1.4551e-02, -8.5544e-02]],\n",
              "              \n",
              "                       [[-1.4129e-01,  6.9091e-02,  1.4716e-01],\n",
              "                        [-1.0435e-01,  6.5683e-02, -3.9499e-02],\n",
              "                        [ 2.1820e-02,  7.5591e-02,  7.1498e-02]],\n",
              "              \n",
              "                       [[-1.6502e-03,  1.9363e-01,  1.1158e-01],\n",
              "                        [ 2.8647e-02,  2.1539e-01, -9.5769e-02],\n",
              "                        [-1.0161e-02,  1.3791e-01, -8.9114e-02]],\n",
              "              \n",
              "                       [[ 5.3224e-02,  6.6392e-02, -4.4166e-02],\n",
              "                        [-5.1279e-02,  7.7723e-02, -1.2405e-01],\n",
              "                        [-2.3291e-02,  6.2621e-02, -9.4174e-02]],\n",
              "              \n",
              "                       [[ 9.8104e-02,  7.6693e-02,  1.1111e-01],\n",
              "                        [ 5.0417e-02, -2.7282e-02,  2.2360e-02],\n",
              "                        [ 1.5421e-02,  1.2038e-02, -1.5695e-01]],\n",
              "              \n",
              "                       [[-3.3779e-02, -9.0249e-02,  1.1459e-01],\n",
              "                        [-1.4678e-02, -1.1737e-01,  1.7207e-02],\n",
              "                        [-5.9316e-02,  4.9257e-02,  1.3956e-01]]],\n",
              "              \n",
              "              \n",
              "                      [[[-5.2478e-02,  4.6913e-02, -1.4042e-01],\n",
              "                        [-4.6691e-02,  1.6503e-01,  7.5534e-02],\n",
              "                        [ 1.7624e-01,  1.0176e-01,  1.1442e-01]],\n",
              "              \n",
              "                       [[ 6.3849e-02,  7.7953e-02, -1.0434e-01],\n",
              "                        [ 7.9633e-02, -8.9711e-02,  9.2197e-02],\n",
              "                        [-1.0218e-02, -9.0519e-02,  3.0536e-02]],\n",
              "              \n",
              "                       [[-2.3049e-02, -9.5685e-02, -3.8292e-02],\n",
              "                        [ 1.1275e-02,  8.2147e-02, -3.1354e-02],\n",
              "                        [ 6.2573e-02,  1.3638e-02,  3.8752e-03]],\n",
              "              \n",
              "                       [[ 1.8533e-01,  1.3309e-03, -7.7589e-02],\n",
              "                        [ 9.8332e-02, -1.9387e-01, -2.2112e-01],\n",
              "                        [ 1.3480e-01, -2.9898e-02, -7.4626e-02]],\n",
              "              \n",
              "                       [[-1.4110e-02, -1.3711e-02, -5.7381e-02],\n",
              "                        [ 1.0250e-02, -1.7123e-02,  3.0264e-02],\n",
              "                        [ 9.3632e-03, -5.3347e-02, -3.5867e-02]],\n",
              "              \n",
              "                       [[-2.8491e-02, -5.7895e-02,  1.0204e-02],\n",
              "                        [ 3.5790e-03,  5.4403e-02,  1.2982e-02],\n",
              "                        [ 9.0387e-02, -3.7912e-02, -1.4092e-01]],\n",
              "              \n",
              "                       [[ 5.1247e-02, -5.4759e-02, -3.3745e-02],\n",
              "                        [ 1.1369e-01, -5.8709e-03, -2.0903e-01],\n",
              "                        [ 2.8931e-01,  1.7157e-01, -1.8945e-02]],\n",
              "              \n",
              "                       [[ 1.0302e-01, -1.1732e-01,  2.5277e-02],\n",
              "                        [ 1.2515e-01,  2.3953e-02, -1.4800e-01],\n",
              "                        [ 1.4922e-01, -4.9596e-02, -1.1882e-02]],\n",
              "              \n",
              "                       [[ 2.5761e-02,  1.0994e-02, -8.9069e-02],\n",
              "                        [ 1.2704e-02,  9.0098e-02, -2.4374e-02],\n",
              "                        [-5.1423e-02,  5.0209e-02, -5.4355e-02]],\n",
              "              \n",
              "                       [[-4.4348e-02,  7.1718e-02,  1.4644e-01],\n",
              "                        [ 1.3037e-01, -5.7782e-02,  5.9941e-02],\n",
              "                        [ 1.9837e-01,  1.8358e-01, -6.6601e-02]]],\n",
              "              \n",
              "              \n",
              "                      [[[-1.0405e-01,  7.2073e-02,  3.7104e-02],\n",
              "                        [ 4.5206e-03, -2.4656e-02, -1.3112e-02],\n",
              "                        [ 1.0400e-01,  3.4417e-03,  1.3673e-01]],\n",
              "              \n",
              "                       [[ 9.3761e-02,  1.2184e-02,  2.0515e-02],\n",
              "                        [-8.9282e-03,  7.1322e-02, -9.4853e-02],\n",
              "                        [ 4.1924e-02, -1.6157e-02,  4.9222e-02]],\n",
              "              \n",
              "                       [[-3.5772e-04, -3.9128e-02, -1.1601e-02],\n",
              "                        [ 5.6937e-02, -7.3331e-02, -6.7060e-02],\n",
              "                        [-2.3711e-02, -3.8240e-02,  4.1271e-02]],\n",
              "              \n",
              "                       [[ 4.3740e-03, -9.9859e-02,  2.5607e-03],\n",
              "                        [-1.2331e-01, -7.0917e-02, -9.8784e-02],\n",
              "                        [-1.3758e-01, -8.1001e-02, -1.7252e-01]],\n",
              "              \n",
              "                       [[-1.0242e-01,  2.2925e-02,  6.5527e-02],\n",
              "                        [ 9.6576e-02,  9.5104e-02,  3.9741e-03],\n",
              "                        [ 2.3110e-02, -5.3710e-02,  5.4699e-02]],\n",
              "              \n",
              "                       [[-1.0034e-01, -1.6553e-02, -2.8156e-02],\n",
              "                        [ 3.9063e-02,  6.1049e-03, -4.8868e-02],\n",
              "                        [ 1.2704e-01,  7.9243e-02,  1.1955e-01]],\n",
              "              \n",
              "                       [[ 6.3451e-02,  5.0855e-02,  6.0903e-02],\n",
              "                        [ 9.7358e-02,  1.1057e-01, -4.9572e-03],\n",
              "                        [ 9.1186e-02,  1.0659e-01,  8.9113e-02]],\n",
              "              \n",
              "                       [[ 1.4816e-01,  8.8728e-03, -4.4754e-02],\n",
              "                        [ 4.9659e-02,  5.2014e-02,  3.7824e-02],\n",
              "                        [-2.1691e-03,  1.4313e-01,  8.8498e-02]],\n",
              "              \n",
              "                       [[-1.0679e-01, -3.2206e-02, -3.7836e-02],\n",
              "                        [-1.1709e-01,  2.5490e-02, -1.1740e-02],\n",
              "                        [-9.1203e-02, -3.1134e-02, -1.7983e-02]],\n",
              "              \n",
              "                       [[ 1.2353e-01,  6.3109e-02,  1.6935e-01],\n",
              "                        [ 5.0335e-02,  8.9364e-02,  5.2201e-02],\n",
              "                        [ 4.4782e-02, -4.1788e-02, -5.5197e-02]]],\n",
              "              \n",
              "              \n",
              "                      [[[-3.8978e-02,  3.0763e-01,  2.9941e-01],\n",
              "                        [-3.5528e-01, -2.2260e-02, -8.3587e-03],\n",
              "                        [-2.1170e-01, -2.4708e-01, -4.0312e-01]],\n",
              "              \n",
              "                       [[-6.9919e-02,  2.0469e-02,  4.8325e-02],\n",
              "                        [ 9.9024e-02, -4.8475e-02, -1.0251e-02],\n",
              "                        [-1.4452e-02, -1.0519e-03,  2.6985e-02]],\n",
              "              \n",
              "                       [[-1.1479e-03,  4.5302e-03,  1.1886e-02],\n",
              "                        [ 4.0468e-02, -3.0190e-02, -6.3618e-02],\n",
              "                        [ 2.4477e-02, -1.2635e-02, -4.7702e-02]],\n",
              "              \n",
              "                       [[-1.3306e-01, -3.4105e-01, -6.1896e-01],\n",
              "                        [ 4.6426e-01,  2.5551e-01, -1.7284e-01],\n",
              "                        [ 6.1229e-02,  2.2503e-01,  3.0302e-01]],\n",
              "              \n",
              "                       [[-1.1902e-02, -8.1190e-03,  1.1648e-02],\n",
              "                        [ 7.1061e-02, -5.4468e-02,  5.3107e-02],\n",
              "                        [ 1.5630e-02, -7.2836e-02,  1.9998e-02]],\n",
              "              \n",
              "                       [[-7.1200e-02,  5.9908e-02,  9.4242e-02],\n",
              "                        [-1.8608e-01, -4.4774e-02, -1.3729e-01],\n",
              "                        [ 2.3160e-01,  5.8552e-02,  5.0081e-02]],\n",
              "              \n",
              "                       [[-4.3653e-02,  3.0999e-01, -5.0771e-01],\n",
              "                        [ 3.3017e-01,  2.5945e-01, -3.0221e-01],\n",
              "                        [-1.1726e-01, -1.2591e-01, -2.9757e-01]],\n",
              "              \n",
              "                       [[ 1.3521e-03,  1.0889e-01, -3.0574e-01],\n",
              "                        [ 6.7622e-02, -1.5741e-02, -3.8458e-02],\n",
              "                        [-1.1484e-01, -2.8244e-01,  7.8686e-03]],\n",
              "              \n",
              "                       [[-6.4046e-02,  4.9152e-03, -2.4201e-01],\n",
              "                        [ 1.8352e-01,  1.6462e-01, -3.0490e-01],\n",
              "                        [ 1.0536e-01,  1.9258e-01,  4.6438e-02]],\n",
              "              \n",
              "                       [[ 4.5539e-02, -2.0702e-01,  1.4418e-01],\n",
              "                        [-6.0275e-02, -4.6270e-01, -2.1100e-01],\n",
              "                        [-3.0570e-02, -2.6679e-01, -3.9727e-02]]],\n",
              "              \n",
              "              \n",
              "                      [[[ 1.6222e-02,  3.1387e-01,  1.5783e-01],\n",
              "                        [ 4.2422e-02, -1.6135e-01, -7.7965e-02],\n",
              "                        [ 1.1714e-01,  9.4711e-03,  1.3333e-01]],\n",
              "              \n",
              "                       [[-8.3805e-02, -1.1789e-02, -5.5926e-02],\n",
              "                        [ 3.6692e-02, -6.5722e-02,  5.4891e-02],\n",
              "                        [-7.4239e-02,  6.7966e-02, -8.2503e-02]],\n",
              "              \n",
              "                       [[ 5.9952e-02, -4.7305e-02, -4.7559e-03],\n",
              "                        [-2.1983e-02,  6.7458e-02,  3.4985e-02],\n",
              "                        [-9.1685e-02,  9.5864e-03, -7.2717e-02]],\n",
              "              \n",
              "                       [[-7.0019e-02, -2.3756e-01, -4.9169e-01],\n",
              "                        [-2.0743e-01,  4.8293e-01,  2.2762e-01],\n",
              "                        [ 1.8592e-02,  4.1530e-01, -3.3093e-02]],\n",
              "              \n",
              "                       [[ 8.0758e-03, -1.1025e-01,  5.6604e-02],\n",
              "                        [-4.2424e-02, -4.2857e-02, -2.7262e-02],\n",
              "                        [ 6.8483e-02,  7.3430e-02,  2.1538e-04]],\n",
              "              \n",
              "                       [[ 9.2124e-02, -4.4808e-01, -2.8557e-01],\n",
              "                        [-1.6738e-01, -2.4363e-01, -1.9532e-01],\n",
              "                        [-5.9610e-02, -1.7969e-02,  7.3031e-02]],\n",
              "              \n",
              "                       [[ 1.7677e-01, -3.2283e-01, -1.3696e-01],\n",
              "                        [-2.4491e-01,  1.0850e-01, -4.4594e-02],\n",
              "                        [-2.0603e-01,  2.9836e-01,  2.0027e-01]],\n",
              "              \n",
              "                       [[ 5.6015e-02, -1.2510e-01, -4.4242e-02],\n",
              "                        [-2.4606e-02, -3.3521e-02, -2.1594e-02],\n",
              "                        [-6.2115e-02,  7.0766e-02, -3.3488e-02]],\n",
              "              \n",
              "                       [[ 9.3621e-02, -8.9429e-02, -1.3307e-01],\n",
              "                        [-1.3407e-01,  1.9700e-01,  8.6995e-02],\n",
              "                        [ 3.3884e-02,  1.1066e-01,  1.1626e-01]],\n",
              "              \n",
              "                       [[ 1.1691e-01, -4.5265e-01,  1.3053e-01],\n",
              "                        [ 1.1544e-01, -1.6989e-01,  4.8354e-02],\n",
              "                        [ 1.1180e-02, -1.9728e-02, -3.0380e-02]]],\n",
              "              \n",
              "              \n",
              "                      [[[-1.3488e-01, -3.0071e-02,  2.1087e-01],\n",
              "                        [ 1.2842e-01,  2.7036e-01,  2.7707e-01],\n",
              "                        [-3.6369e-02,  4.7906e-03,  4.5298e-02]],\n",
              "              \n",
              "                       [[ 5.7082e-02,  1.8259e-02,  3.3566e-02],\n",
              "                        [-5.6142e-02,  4.3505e-02,  6.6754e-02],\n",
              "                        [ 5.6435e-02,  2.2993e-02,  1.0493e-01]],\n",
              "              \n",
              "                       [[-3.5257e-04,  2.2227e-02,  1.0012e-01],\n",
              "                        [ 1.0202e-01, -4.4644e-02,  9.5502e-02],\n",
              "                        [ 3.7708e-02, -1.2063e-02,  9.1965e-02]],\n",
              "              \n",
              "                       [[ 1.9923e-01,  4.0121e-01,  1.4083e-01],\n",
              "                        [-1.6169e-01, -5.9936e-01, -3.6735e-01],\n",
              "                        [ 7.4542e-02, -4.3889e-01, -1.5692e-02]],\n",
              "              \n",
              "                       [[ 4.3144e-02,  7.4747e-02,  4.6036e-02],\n",
              "                        [ 6.1411e-02,  3.2092e-02, -8.3072e-02],\n",
              "                        [-7.9084e-02, -1.3904e-02,  8.5291e-02]],\n",
              "              \n",
              "                       [[-2.0187e-02,  2.1064e-01,  3.5342e-03],\n",
              "                        [ 2.3868e-02,  1.2917e-01,  7.9268e-02],\n",
              "                        [-8.7340e-02, -1.9389e-01, -8.9769e-02]],\n",
              "              \n",
              "                       [[-1.1570e-01,  1.8396e-01,  1.7324e-01],\n",
              "                        [-4.5974e-02, -5.0013e-01, -4.7414e-01],\n",
              "                        [ 3.0373e-01, -4.0299e-01, -2.4628e-01]],\n",
              "              \n",
              "                       [[-4.5878e-02,  1.1353e-01,  6.9168e-02],\n",
              "                        [-2.1358e-01, -2.7976e-01, -3.8206e-02],\n",
              "                        [ 6.2435e-02, -2.6845e-01, -2.2366e-01]],\n",
              "              \n",
              "                       [[ 1.1980e-01,  1.4211e-01, -7.4977e-02],\n",
              "                        [-1.4809e-02, -2.9173e-01, -2.5554e-01],\n",
              "                        [ 1.3103e-01, -3.3750e-01, -1.2895e-01]],\n",
              "              \n",
              "                       [[-8.0703e-02, -2.1729e-01,  1.2128e-01],\n",
              "                        [-1.5571e-01, -5.7022e-02,  9.6076e-02],\n",
              "                        [-2.2018e-01, -2.5997e-01,  6.8434e-02]]],\n",
              "              \n",
              "              \n",
              "                      [[[-1.1665e-01,  3.2349e-02,  1.3433e-02],\n",
              "                        [ 5.3379e-02,  6.6903e-02, -1.3089e-02],\n",
              "                        [ 1.0407e-01, -9.2212e-02, -7.3634e-02]],\n",
              "              \n",
              "                       [[ 7.6634e-02,  3.0892e-02, -1.4326e-02],\n",
              "                        [-2.4425e-02, -6.4389e-02,  6.3414e-02],\n",
              "                        [-3.2321e-03, -3.9259e-03,  2.4829e-02]],\n",
              "              \n",
              "                       [[ 7.7759e-02, -5.3816e-02, -3.6342e-02],\n",
              "                        [ 7.1408e-02,  5.9700e-02, -5.2012e-02],\n",
              "                        [-1.0434e-01,  1.9477e-02,  5.5415e-02]],\n",
              "              \n",
              "                       [[ 1.0370e-02,  5.6480e-02, -1.3185e-01],\n",
              "                        [-1.0824e-02, -1.0323e-01,  1.8726e-02],\n",
              "                        [ 1.0434e-02,  5.5203e-03,  1.5597e-01]],\n",
              "              \n",
              "                       [[-7.0035e-02, -9.4499e-02, -1.0129e-01],\n",
              "                        [ 6.3509e-02,  3.5199e-02, -7.6507e-02],\n",
              "                        [ 4.7743e-02,  9.4736e-02, -1.0174e-01]],\n",
              "              \n",
              "                       [[ 5.8258e-02, -1.5119e-03, -1.1531e-02],\n",
              "                        [ 9.8389e-02,  8.9284e-02,  2.2151e-02],\n",
              "                        [ 7.6204e-02,  4.3041e-02,  2.1683e-02]],\n",
              "              \n",
              "                       [[-1.0605e-01, -5.4248e-03, -9.1666e-02],\n",
              "                        [-3.3680e-03, -4.1503e-02,  2.4562e-04],\n",
              "                        [-1.0804e-01, -1.0837e-01,  5.9393e-02]],\n",
              "              \n",
              "                       [[ 4.5068e-02,  4.5746e-02, -3.3865e-02],\n",
              "                        [-2.9107e-02, -4.7861e-02,  6.7208e-02],\n",
              "                        [-6.3790e-02,  4.7305e-02,  6.7939e-02]],\n",
              "              \n",
              "                       [[-1.0311e-01, -1.0243e-02, -3.0017e-02],\n",
              "                        [-7.8955e-02,  1.6429e-02, -2.3512e-02],\n",
              "                        [ 5.6531e-02, -1.0382e-01,  4.6858e-02]],\n",
              "              \n",
              "                       [[-1.0219e-01, -5.1395e-02, -3.8463e-02],\n",
              "                        [ 7.7674e-02,  8.5344e-02, -1.1650e-01],\n",
              "                        [-8.4325e-03, -9.9027e-03,  3.1632e-02]]]])),\n",
              "             ('conv_block_2.0.bias',\n",
              "              tensor([-0.0973,  0.1081, -0.0457, -0.2017, -0.2302,  0.0628,  0.2701,  0.5238,\n",
              "                       0.7673, -0.0683])),\n",
              "             ('conv_block_2.2.weight',\n",
              "              tensor([[[[-3.8582e-02, -1.6133e-01, -1.6332e-02],\n",
              "                        [-2.4351e-02, -8.7485e-02, -3.0845e-02],\n",
              "                        [ 4.0538e-03, -1.6709e-01,  1.9420e-03]],\n",
              "              \n",
              "                       [[-1.1613e-01, -3.0004e-01, -1.3694e-01],\n",
              "                        [-9.3921e-02, -3.2788e-02, -5.3878e-01],\n",
              "                        [ 3.7306e-01,  2.8110e-01, -7.0820e-01]],\n",
              "              \n",
              "                       [[ 6.8936e-02,  2.9157e-03,  8.1718e-02],\n",
              "                        [-6.0338e-02,  6.3898e-02,  1.0229e-02],\n",
              "                        [ 2.4118e-02,  6.9032e-02, -1.0117e-01]],\n",
              "              \n",
              "                       [[-1.1611e-01,  1.3034e-01, -1.7504e-01],\n",
              "                        [-9.3698e-02,  3.2008e-02, -1.5728e-01],\n",
              "                        [-5.4207e-02,  8.9427e-02, -4.7716e-02]],\n",
              "              \n",
              "                       [[-1.6712e-01, -1.6923e-01, -1.2437e-01],\n",
              "                        [ 2.5827e-03, -6.1797e-02, -1.0689e-01],\n",
              "                        [-5.8011e-02, -1.6304e-01, -2.3032e-01]],\n",
              "              \n",
              "                       [[-1.0222e-01, -1.2079e-01,  7.5965e-02],\n",
              "                        [-1.0828e-02, -3.7263e-02,  2.6032e-02],\n",
              "                        [-8.3358e-03, -8.6460e-02, -1.2634e-01]],\n",
              "              \n",
              "                       [[-9.7140e-02,  1.2539e-01, -1.9052e-01],\n",
              "                        [-4.3646e-01,  4.6443e-02,  4.0143e-01],\n",
              "                        [-3.1298e-01,  1.6959e-01,  3.8276e-01]],\n",
              "              \n",
              "                       [[ 3.0974e-01,  5.4503e-02, -8.7272e-02],\n",
              "                        [-6.6701e-02, -1.0162e-02,  2.2451e-02],\n",
              "                        [-2.5194e-02, -6.6258e-02, -1.4154e-01]],\n",
              "              \n",
              "                       [[ 3.7078e-01, -1.8149e-01,  3.4950e-02],\n",
              "                        [ 6.7625e-02, -4.0968e-01,  1.4487e-01],\n",
              "                        [-2.9869e-01, -4.6183e-01, -2.6299e-01]],\n",
              "              \n",
              "                       [[-5.4372e-02,  3.7965e-02, -5.6596e-02],\n",
              "                        [ 2.7729e-02, -6.0426e-02, -3.5341e-02],\n",
              "                        [ 4.9286e-02, -1.1148e-02, -4.2150e-02]]],\n",
              "              \n",
              "              \n",
              "                      [[[-3.8326e-02,  3.0378e-02,  3.0558e-02],\n",
              "                        [-1.3436e-01,  1.1662e-01,  2.0320e-02],\n",
              "                        [ 1.0612e-01,  8.0808e-02,  9.8137e-02]],\n",
              "              \n",
              "                       [[ 1.7558e-01,  1.7275e-01, -3.4961e-01],\n",
              "                        [ 9.5294e-03, -7.2136e-02,  5.1059e-01],\n",
              "                        [-1.8011e-01, -6.7506e-01,  2.5027e-01]],\n",
              "              \n",
              "                       [[ 2.7803e-02,  2.5697e-02,  7.9010e-02],\n",
              "                        [ 8.5020e-02, -5.5221e-02, -3.8569e-02],\n",
              "                        [-2.9713e-02, -7.7820e-02, -2.5053e-02]],\n",
              "              \n",
              "                       [[-2.8706e-02,  1.7380e-01,  5.5390e-02],\n",
              "                        [ 7.3770e-02, -1.7701e-02, -7.2853e-02],\n",
              "                        [ 1.6256e-01,  6.9495e-02,  3.5108e-02]],\n",
              "              \n",
              "                       [[-1.2674e-01,  2.2727e-01,  5.2049e-02],\n",
              "                        [-2.3139e-02,  1.1068e-01,  9.8637e-02],\n",
              "                        [ 1.2473e-01,  1.3745e-01, -5.9357e-03]],\n",
              "              \n",
              "                       [[-4.0161e-02,  7.0053e-02,  6.4243e-02],\n",
              "                        [-7.3455e-02, -5.8787e-02,  6.2247e-02],\n",
              "                        [ 8.7069e-02,  9.8830e-02,  5.0156e-02]],\n",
              "              \n",
              "                       [[-1.9996e-01,  8.7734e-02,  1.6680e-01],\n",
              "                        [-3.2765e-01,  1.7170e-01, -8.6855e-03],\n",
              "                        [ 1.4620e-02,  3.2902e-01, -7.7921e-02]],\n",
              "              \n",
              "                       [[ 1.1607e-01, -1.7373e-01,  1.1934e-01],\n",
              "                        [ 3.6377e-02, -5.3290e-01, -3.7967e-02],\n",
              "                        [ 2.5579e-01, -5.7671e-01,  3.1615e-01]],\n",
              "              \n",
              "                       [[-6.5238e-02, -2.4912e-01,  3.2180e-02],\n",
              "                        [ 2.2324e-01, -8.2062e-02, -2.9805e-01],\n",
              "                        [ 1.1222e-01,  1.0403e-01, -7.7842e-03]],\n",
              "              \n",
              "                       [[-2.0904e-02,  6.1528e-02,  8.9540e-02],\n",
              "                        [-5.5399e-02, -5.4167e-02,  4.2505e-02],\n",
              "                        [-2.1844e-04, -1.9120e-02, -9.2458e-02]]],\n",
              "              \n",
              "              \n",
              "                      [[[ 2.1909e-01,  9.5549e-02, -4.8049e-02],\n",
              "                        [-1.6322e-02,  9.9665e-02, -9.5959e-02],\n",
              "                        [ 1.7752e-02,  2.2594e-01,  1.3489e-02]],\n",
              "              \n",
              "                       [[-5.3445e-01,  1.0311e-01, -6.0189e-01],\n",
              "                        [-5.9675e-01,  5.1986e-01, -1.2886e-03],\n",
              "                        [-2.2772e-01, -4.7608e-02,  2.8205e-01]],\n",
              "              \n",
              "                       [[ 1.0356e-04,  4.1536e-03, -2.4056e-02],\n",
              "                        [-4.1656e-04,  8.0820e-02,  5.6815e-02],\n",
              "                        [ 7.0373e-03, -3.9946e-02,  5.0135e-02]],\n",
              "              \n",
              "                       [[-5.8442e-02,  7.6814e-02, -2.0818e-02],\n",
              "                        [ 3.4278e-02,  4.3288e-02, -2.1622e-01],\n",
              "                        [ 1.5381e-02,  2.4356e-02, -9.4785e-02]],\n",
              "              \n",
              "                       [[ 1.2361e-01, -1.4929e-02, -5.0486e-02],\n",
              "                        [-4.5826e-02,  1.4725e-01, -1.6464e-01],\n",
              "                        [ 1.9825e-02,  8.7330e-02, -1.5261e-01]],\n",
              "              \n",
              "                       [[ 1.7401e-01,  4.8859e-02, -1.6305e-01],\n",
              "                        [ 1.5534e-01,  5.5409e-02, -5.5935e-02],\n",
              "                        [-1.6891e-03,  4.7486e-02, -1.1229e-01]],\n",
              "              \n",
              "                       [[-5.3577e-01, -1.5300e-01,  3.1241e-01],\n",
              "                        [-2.5035e-01,  4.3373e-02, -1.4049e-01],\n",
              "                        [-1.2900e-01,  2.5450e-01,  4.8502e-02]],\n",
              "              \n",
              "                       [[-2.4928e-01,  6.2814e-01, -1.0783e-01],\n",
              "                        [-2.7273e-01,  1.6505e-01, -6.7250e-02],\n",
              "                        [ 1.2297e-02, -3.8556e-01, -1.6833e-01]],\n",
              "              \n",
              "                       [[-2.2740e-01, -2.8483e-01,  7.1151e-02],\n",
              "                        [ 4.5162e-02, -2.4307e-01, -2.5981e-02],\n",
              "                        [-3.5659e-02, -1.4955e-01, -1.9371e-01]],\n",
              "              \n",
              "                       [[ 8.8545e-02, -3.3021e-04, -1.2265e-01],\n",
              "                        [-1.5925e-02,  1.0678e-02, -6.5082e-02],\n",
              "                        [ 4.1728e-02, -1.0329e-01, -1.0389e-01]]],\n",
              "              \n",
              "              \n",
              "                      [[[-1.4032e-01, -6.8187e-03, -3.7671e-02],\n",
              "                        [-5.3434e-02,  1.1549e-01, -1.7026e-01],\n",
              "                        [ 3.8005e-02,  3.1167e-03,  3.3762e-02]],\n",
              "              \n",
              "                       [[ 1.1164e-01, -1.7431e-01, -4.4699e-01],\n",
              "                        [-1.5751e-03, -3.7465e-01,  2.4508e-02],\n",
              "                        [-6.6984e-02, -4.8489e-01,  5.3757e-01]],\n",
              "              \n",
              "                       [[ 4.4292e-02, -2.7247e-02, -2.4541e-03],\n",
              "                        [ 2.9278e-02, -1.5084e-02,  8.4836e-02],\n",
              "                        [-8.2168e-02,  5.1892e-02, -6.4925e-02]],\n",
              "              \n",
              "                       [[-8.8172e-02,  1.4958e-02,  2.7098e-02],\n",
              "                        [ 9.2597e-02,  3.2072e-02, -3.7494e-02],\n",
              "                        [ 4.9985e-02, -6.5564e-02, -3.9195e-02]],\n",
              "              \n",
              "                       [[-3.3589e-02,  3.6485e-02,  3.7934e-02],\n",
              "                        [-6.9263e-02, -6.5029e-02, -8.4283e-02],\n",
              "                        [ 2.8515e-02, -1.5994e-01,  1.0518e-02]],\n",
              "              \n",
              "                       [[-9.8273e-02,  6.0435e-02,  8.0898e-02],\n",
              "                        [-5.9330e-02, -9.7188e-02,  4.8740e-02],\n",
              "                        [-1.1603e-02,  2.5486e-02, -2.2402e-02]],\n",
              "              \n",
              "                       [[-1.1113e-02, -3.3241e-02, -1.6104e-01],\n",
              "                        [-7.4803e-02, -1.0416e-01, -1.3265e-01],\n",
              "                        [-1.9855e-03, -2.1330e-01, -1.1438e-01]],\n",
              "              \n",
              "                       [[-1.1991e-01,  4.8849e-02,  5.7042e-02],\n",
              "                        [-6.7127e-02, -1.9861e-02,  1.4998e-01],\n",
              "                        [-2.0934e-01, -1.1812e-02, -4.7469e-02]],\n",
              "              \n",
              "                       [[ 1.6098e-01,  2.0480e-01,  3.1189e-02],\n",
              "                        [-3.2938e-03, -4.9741e-02, -5.1675e-01],\n",
              "                        [ 3.3079e-01,  3.1488e-02, -2.5974e-01]],\n",
              "              \n",
              "                       [[ 5.9498e-02,  7.7011e-02,  8.5399e-02],\n",
              "                        [ 3.3650e-02, -9.3059e-02, -1.2294e-01],\n",
              "                        [-8.8278e-02,  2.0398e-02, -9.6106e-02]]],\n",
              "              \n",
              "              \n",
              "                      [[[-7.2389e-02, -1.1105e-01, -5.0368e-02],\n",
              "                        [-1.5284e-02, -4.3416e-02, -7.9482e-02],\n",
              "                        [ 6.0178e-02, -5.0421e-02, -4.3988e-02]],\n",
              "              \n",
              "                       [[ 4.4909e-01,  3.8497e-01,  3.0799e-01],\n",
              "                        [-1.5014e-01, -3.3238e-01, -2.5099e-01],\n",
              "                        [-9.6509e-02, -3.1981e-02, -7.7632e-02]],\n",
              "              \n",
              "                       [[-1.0190e-01, -9.4422e-02, -3.3494e-02],\n",
              "                        [-1.8617e-03, -4.8022e-02, -8.2848e-02],\n",
              "                        [ 8.9579e-03, -8.4062e-02, -8.2992e-02]],\n",
              "              \n",
              "                       [[-5.7236e-02, -5.4212e-02,  1.7031e-01],\n",
              "                        [ 2.7543e-02, -4.3238e-04, -1.7132e-02],\n",
              "                        [ 4.0436e-02,  8.8036e-02, -1.3476e-01]],\n",
              "              \n",
              "                       [[-9.6502e-02, -1.1501e-01, -4.9856e-02],\n",
              "                        [-1.1112e-01, -4.2410e-02, -6.4233e-02],\n",
              "                        [ 1.3930e-01,  7.9277e-02,  9.1365e-02]],\n",
              "              \n",
              "                       [[-1.9657e-03, -6.9234e-02,  7.6170e-03],\n",
              "                        [-8.3089e-02, -5.7473e-02, -5.1789e-02],\n",
              "                        [-2.1086e-02, -7.9895e-02,  5.4688e-02]],\n",
              "              \n",
              "                       [[ 1.5449e-01, -1.7635e-01,  2.2830e-01],\n",
              "                        [-6.8876e-02, -1.2856e-01, -9.6742e-02],\n",
              "                        [ 5.3816e-02,  6.3260e-02, -1.6182e-01]],\n",
              "              \n",
              "                       [[ 2.4524e-02, -8.0528e-02,  2.1202e-02],\n",
              "                        [-9.4730e-02, -1.0048e-01, -9.9871e-02],\n",
              "                        [-9.9021e-02, -4.9040e-02,  4.6687e-02]],\n",
              "              \n",
              "                       [[-1.1239e-01,  4.8203e-02, -5.7570e-02],\n",
              "                        [-5.4577e-02,  5.7830e-02,  1.0104e-01],\n",
              "                        [-6.0874e-02, -1.2127e-02, -7.2352e-02]],\n",
              "              \n",
              "                       [[-9.0544e-02,  3.4703e-03, -1.8339e-02],\n",
              "                        [ 9.5589e-02,  9.5376e-02,  2.0042e-02],\n",
              "                        [ 9.4585e-02, -5.3471e-02,  9.4465e-02]]],\n",
              "              \n",
              "              \n",
              "                      [[[ 1.3270e-01, -3.6093e-02, -1.7813e-01],\n",
              "                        [ 4.2775e-03, -3.7230e-02, -6.8002e-02],\n",
              "                        [-6.2277e-02,  9.6894e-03, -1.0057e-01]],\n",
              "              \n",
              "                       [[-1.6624e-01, -4.1076e-01,  7.3259e-02],\n",
              "                        [-4.4086e-01, -4.4906e-01, -3.3245e-01],\n",
              "                        [ 2.8786e-01,  7.0505e-01,  1.1836e-01]],\n",
              "              \n",
              "                       [[ 4.3439e-02, -6.1156e-02, -8.1801e-02],\n",
              "                        [-5.4481e-03, -6.4275e-02, -9.1692e-02],\n",
              "                        [-9.0231e-02, -7.1442e-02,  8.4755e-02]],\n",
              "              \n",
              "                       [[ 6.8654e-02, -5.7934e-02, -1.2911e-01],\n",
              "                        [-1.0277e-01, -9.5482e-02, -9.2991e-02],\n",
              "                        [-3.6032e-03, -6.3507e-02, -7.7117e-02]],\n",
              "              \n",
              "                       [[-2.0054e-01,  4.0231e-02, -1.7882e-01],\n",
              "                        [-9.1950e-02, -3.5952e-02, -1.0663e-01],\n",
              "                        [ 2.1586e-01, -3.9981e-02, -2.3653e-01]],\n",
              "              \n",
              "                       [[ 2.8300e-02, -1.0044e-01,  4.9948e-02],\n",
              "                        [-8.4777e-02,  5.1703e-02, -1.3995e-01],\n",
              "                        [-1.1472e-01, -2.9693e-02, -4.4081e-02]],\n",
              "              \n",
              "                       [[ 3.9736e-01,  3.0052e-01, -2.5100e-01],\n",
              "                        [-2.2383e-01, -3.7100e-03, -1.5118e-01],\n",
              "                        [-7.7094e-02, -3.3921e-01, -1.3258e-01]],\n",
              "              \n",
              "                       [[ 1.1528e-01, -1.7399e-01, -1.4885e-01],\n",
              "                        [-5.8980e-02,  2.1221e-01,  1.3933e-01],\n",
              "                        [-2.1245e-01, -1.8677e-01,  3.2846e-01]],\n",
              "              \n",
              "                       [[ 2.7293e-02, -2.0249e-01,  1.1584e-01],\n",
              "                        [-1.5305e-01, -3.3017e-01, -1.3657e-01],\n",
              "                        [ 2.3529e-01,  9.6014e-02, -1.0618e-01]],\n",
              "              \n",
              "                       [[ 9.4395e-02,  6.6995e-02, -1.2973e-02],\n",
              "                        [-4.6074e-02, -6.6270e-02,  7.0061e-02],\n",
              "                        [ 6.9506e-02,  5.4702e-02, -8.7259e-02]]],\n",
              "              \n",
              "              \n",
              "                      [[[ 9.3593e-02, -2.5256e-02,  1.6744e-01],\n",
              "                        [ 1.3564e-01, -1.2951e-01, -1.0240e-01],\n",
              "                        [ 9.6315e-02, -9.8121e-02,  9.9693e-02]],\n",
              "              \n",
              "                       [[ 1.9556e-01,  2.0293e-01,  2.4494e-01],\n",
              "                        [-7.5492e-02, -2.3260e-01, -3.8949e-01],\n",
              "                        [-2.6342e-01, -1.9275e-01,  6.7933e-02]],\n",
              "              \n",
              "                       [[-6.8870e-03, -7.7162e-02, -2.4629e-02],\n",
              "                        [-3.4755e-02,  6.5130e-02, -3.0654e-02],\n",
              "                        [-2.9146e-02, -6.7752e-02, -4.2273e-02]],\n",
              "              \n",
              "                       [[ 1.1852e-01,  5.7767e-02,  4.3339e-02],\n",
              "                        [-9.3057e-02,  1.1519e-01,  2.3485e-02],\n",
              "                        [-2.1350e-01, -2.1517e-02,  1.7009e-02]],\n",
              "              \n",
              "                       [[ 1.8186e-01,  1.4465e-01,  6.1467e-02],\n",
              "                        [-5.6806e-02,  1.4797e-01, -1.8110e-01],\n",
              "                        [-3.6550e-01, -2.0327e-01, -1.3868e-01]],\n",
              "              \n",
              "                       [[-7.7684e-02, -3.3199e-02,  9.5431e-03],\n",
              "                        [ 7.9660e-03,  1.5019e-02, -6.5198e-02],\n",
              "                        [ 8.9585e-02,  1.3661e-02,  5.2028e-02]],\n",
              "              \n",
              "                       [[-4.6149e-02, -6.1596e-01, -1.4394e-01],\n",
              "                        [ 1.9406e-01,  1.5967e-01, -1.5424e-01],\n",
              "                        [ 1.0367e-01,  3.2090e-01, -2.6070e-01]],\n",
              "              \n",
              "                       [[-2.4357e-01, -3.3992e-01, -1.8572e-01],\n",
              "                        [-4.0289e-01, -5.2703e-01,  2.5556e-01],\n",
              "                        [ 4.4593e-01,  8.0930e-01, -1.7667e-01]],\n",
              "              \n",
              "                       [[ 8.9932e-02,  3.4275e-01,  1.7098e-01],\n",
              "                        [-1.2571e-01,  6.4829e-02,  7.2255e-02],\n",
              "                        [-3.3094e-01, -8.4335e-01,  1.1604e-02]],\n",
              "              \n",
              "                       [[ 5.6663e-02, -8.5478e-02,  4.4475e-02],\n",
              "                        [ 1.5118e-02, -5.8502e-02, -5.1330e-02],\n",
              "                        [-2.2920e-02, -1.2598e-01,  5.5499e-02]]],\n",
              "              \n",
              "              \n",
              "                      [[[ 7.6887e-02, -2.6570e-02,  1.0849e-01],\n",
              "                        [-3.6111e-02,  2.9170e-02, -5.4262e-02],\n",
              "                        [ 9.5112e-03,  6.1868e-02,  7.2426e-02]],\n",
              "              \n",
              "                       [[-1.0670e-01, -1.1594e-01,  4.8844e-03],\n",
              "                        [ 5.6865e-02,  2.2504e-02, -9.8666e-02],\n",
              "                        [ 2.0156e-02,  2.4060e-02,  6.7369e-02]],\n",
              "              \n",
              "                       [[ 9.0924e-03,  3.8631e-03, -5.1568e-03],\n",
              "                        [ 6.5534e-02,  8.9406e-03,  9.0747e-02],\n",
              "                        [ 6.2028e-02, -7.2150e-02, -9.3248e-04]],\n",
              "              \n",
              "                       [[-8.5297e-02, -8.8403e-02,  1.6541e-02],\n",
              "                        [ 2.7352e-02, -1.5246e-02,  9.1014e-02],\n",
              "                        [-6.1518e-02, -4.4534e-02, -2.1678e-02]],\n",
              "              \n",
              "                       [[ 1.4538e-03, -1.6447e-02,  8.1735e-02],\n",
              "                        [-4.3819e-02, -6.4757e-02,  1.6146e-02],\n",
              "                        [ 7.6242e-02,  1.5491e-02,  6.9342e-02]],\n",
              "              \n",
              "                       [[-3.1057e-03,  6.9693e-02,  3.7221e-02],\n",
              "                        [ 7.1579e-02, -9.1067e-03, -9.5435e-02],\n",
              "                        [-4.3764e-02,  5.7075e-02,  8.5001e-02]],\n",
              "              \n",
              "                       [[-1.0412e-01,  1.3635e-02, -2.3692e-02],\n",
              "                        [-8.9950e-02, -9.3428e-03, -8.0681e-03],\n",
              "                        [ 3.3676e-02, -3.7625e-02,  1.4569e-02]],\n",
              "              \n",
              "                       [[-1.0790e-01, -8.3416e-02,  3.3088e-03],\n",
              "                        [ 1.0653e-01,  1.1397e-01,  3.2538e-02],\n",
              "                        [-1.4243e-01,  2.5752e-03, -1.2729e-01]],\n",
              "              \n",
              "                       [[-1.3704e-01, -3.6840e-02, -1.2072e-01],\n",
              "                        [ 3.8136e-02, -1.1736e-01, -2.6121e-02],\n",
              "                        [ 3.0074e-02, -1.3333e-01, -5.1690e-03]],\n",
              "              \n",
              "                       [[-1.8525e-02,  5.2275e-02,  9.6209e-02],\n",
              "                        [-5.5348e-02, -5.5077e-02,  7.2207e-02],\n",
              "                        [-8.6738e-03, -3.0647e-02,  5.8197e-02]]],\n",
              "              \n",
              "              \n",
              "                      [[[-1.6228e-01, -7.2970e-02,  4.6488e-02],\n",
              "                        [ 1.1920e-01, -9.9028e-02, -3.0265e-02],\n",
              "                        [-2.5585e-02, -4.0961e-02,  4.8176e-02]],\n",
              "              \n",
              "                       [[-5.8259e-02, -4.0960e-01, -1.0948e-01],\n",
              "                        [ 1.7024e-01, -2.1061e-01, -2.2124e-01],\n",
              "                        [-1.5259e-02, -2.1110e-01, -3.6224e-01]],\n",
              "              \n",
              "                       [[-3.0148e-03, -3.7197e-02, -7.2718e-02],\n",
              "                        [-4.6956e-02, -1.0246e-01, -6.5314e-02],\n",
              "                        [-1.2779e-02, -1.0628e-01, -9.6046e-02]],\n",
              "              \n",
              "                       [[ 1.0204e-01,  1.3642e-01, -7.4606e-02],\n",
              "                        [-4.5889e-02,  1.4708e-01, -8.6072e-02],\n",
              "                        [-1.7936e-01, -9.0874e-02, -5.9710e-03]],\n",
              "              \n",
              "                       [[ 6.0746e-02, -2.2207e-01,  1.3350e-01],\n",
              "                        [ 1.1973e-01,  1.0689e-01, -1.9313e-01],\n",
              "                        [ 1.4077e-02, -5.8750e-03, -2.0637e-01]],\n",
              "              \n",
              "                       [[ 1.3353e-01, -1.1684e-01,  2.7976e-02],\n",
              "                        [-4.5142e-02, -1.0485e-02,  1.1013e-01],\n",
              "                        [ 1.8179e-01,  4.7446e-03, -3.2067e-02]],\n",
              "              \n",
              "                       [[-6.6884e-02, -4.6449e-01,  1.1965e-01],\n",
              "                        [-2.7409e-01, -3.9340e-01, -2.8058e-01],\n",
              "                        [-4.3345e-02,  2.4824e-01, -1.4856e-01]],\n",
              "              \n",
              "                       [[ 1.0092e-02, -4.0922e-01, -1.4855e-01],\n",
              "                        [ 1.6419e-02, -4.8269e-01,  1.2902e-01],\n",
              "                        [ 4.9545e-01, -2.5789e-02,  6.1540e-02]],\n",
              "              \n",
              "                       [[ 1.8013e-01,  1.4005e-01,  2.7520e-01],\n",
              "                        [ 6.3115e-02,  3.8857e-01,  2.7356e-01],\n",
              "                        [-9.6940e-02,  7.3988e-02,  3.4813e-01]],\n",
              "              \n",
              "                       [[ 8.0830e-02,  7.4087e-02, -1.0048e-01],\n",
              "                        [-2.3260e-02, -1.0888e-01, -1.4998e-03],\n",
              "                        [-1.1380e-01, -2.6586e-02, -7.2041e-02]]],\n",
              "              \n",
              "              \n",
              "                      [[[ 2.4971e-03,  4.1882e-04, -9.9227e-02],\n",
              "                        [ 5.2551e-03, -4.4841e-03, -1.7932e-01],\n",
              "                        [ 6.0224e-02,  2.4219e-02, -3.0122e-02]],\n",
              "              \n",
              "                       [[-2.4539e-01, -2.3949e-01, -1.8690e-02],\n",
              "                        [-3.6363e-01,  4.7178e-03, -6.1625e-03],\n",
              "                        [-4.5040e-02,  2.9385e-01,  1.6492e-01]],\n",
              "              \n",
              "                       [[-6.1886e-02,  6.9643e-02,  6.6341e-02],\n",
              "                        [ 2.3103e-02,  8.1348e-02,  3.8296e-02],\n",
              "                        [ 4.8690e-02, -5.9031e-02,  7.5144e-02]],\n",
              "              \n",
              "                       [[ 1.3200e-02,  5.6202e-02, -2.0273e-02],\n",
              "                        [ 5.1050e-02,  7.4562e-02, -7.0013e-02],\n",
              "                        [ 6.2228e-02, -8.8002e-02, -8.9712e-02]],\n",
              "              \n",
              "                       [[-5.9623e-02,  3.0728e-02, -8.5744e-02],\n",
              "                        [-5.7991e-02, -5.4695e-02, -2.1271e-02],\n",
              "                        [-1.5077e-01, -9.4210e-02, -8.7615e-02]],\n",
              "              \n",
              "                       [[-2.3573e-02, -4.7112e-02,  6.0355e-02],\n",
              "                        [-1.1426e-01, -1.0421e-01, -8.7906e-03],\n",
              "                        [-1.0812e-01,  2.4551e-02, -8.5833e-02]],\n",
              "              \n",
              "                       [[ 3.4325e-01, -1.0626e-01, -2.6722e-01],\n",
              "                        [ 2.6300e-01, -4.2502e-01, -5.2652e-01],\n",
              "                        [ 1.6092e-01, -8.8892e-02, -1.7424e-01]],\n",
              "              \n",
              "                       [[-2.0063e-01,  1.4606e-01,  1.4781e-01],\n",
              "                        [ 1.3083e-01,  1.1193e-01, -1.4009e-01],\n",
              "                        [ 1.2121e-01,  3.3937e-01,  2.1298e-01]],\n",
              "              \n",
              "                       [[ 4.8591e-01,  6.2148e-04, -3.5158e-01],\n",
              "                        [-1.4849e-01, -1.6357e-01, -2.0416e-01],\n",
              "                        [-2.0856e-01, -4.1951e-01, -1.4953e-01]],\n",
              "              \n",
              "                       [[-6.8661e-02, -8.0365e-02,  1.0957e-02],\n",
              "                        [-7.6555e-02, -4.8241e-02,  7.1732e-02],\n",
              "                        [-6.0072e-02, -4.6720e-02,  7.7468e-02]]]])),\n",
              "             ('conv_block_2.2.bias',\n",
              "              tensor([ 0.2708, -0.2226,  0.2134,  0.0769, -0.0955,  0.1866,  0.1236, -0.0875,\n",
              "                       0.0249, -0.2157])),\n",
              "             ('classifier.1.weight',\n",
              "              tensor([[-0.0306, -0.0298,  0.0660,  ...,  0.0027, -0.0112, -0.0006],\n",
              "                      [ 0.0097,  0.1500,  0.2680,  ..., -0.0041,  0.0252,  0.0519],\n",
              "                      [-0.0243,  0.0875,  0.1122,  ...,  0.0319, -0.0268,  0.0602],\n",
              "                      ...,\n",
              "                      [-0.0571, -0.0852, -0.0973,  ...,  0.0209,  0.0009, -0.0213],\n",
              "                      [ 0.0888,  0.2397, -0.0653,  ...,  0.0076,  0.0422, -0.0160],\n",
              "                      [-0.0434, -0.1037, -0.0704,  ..., -0.0160, -0.0350,  0.0304]])),\n",
              "             ('classifier.1.bias',\n",
              "              tensor([ 0.0472, -0.1290,  0.3860,  0.0128, -0.3912, -0.1658,  0.1521,  0.0009,\n",
              "                       0.1617, -0.1114]))])"
            ]
          },
          "metadata": {},
          "execution_count": 103
        }
      ]
    },
    {
      "cell_type": "code",
      "source": [],
      "metadata": {
        "id": "M8f9VpJmpR2M"
      },
      "execution_count": null,
      "outputs": []
    }
  ]
}